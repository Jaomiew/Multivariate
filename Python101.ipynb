{
  "nbformat": 4,
  "nbformat_minor": 0,
  "metadata": {
    "colab": {
      "name": "Python101.ipynb",
      "provenance": [],
      "authorship_tag": "ABX9TyPgIcZjfpUotzKeDrwKaW80",
      "include_colab_link": true
    },
    "kernelspec": {
      "name": "python3",
      "display_name": "Python 3"
    }
  },
  "cells": [
    {
      "cell_type": "markdown",
      "metadata": {
        "id": "view-in-github",
        "colab_type": "text"
      },
      "source": [
        "<a href=\"https://colab.research.google.com/github/Jaomiew/Multivariate/blob/main/Python101.ipynb\" target=\"_parent\"><img src=\"https://colab.research.google.com/assets/colab-badge.svg\" alt=\"Open In Colab\"/></a>"
      ]
    },
    {
      "cell_type": "markdown",
      "metadata": {
        "id": "RSoXp-zGL_gd"
      },
      "source": [
        "# **ตัวแปร variable**"
      ]
    },
    {
      "cell_type": "markdown",
      "metadata": {
        "id": "e0nonrZyMJDc"
      },
      "source": [
        "## *หลักการตั้งชื่อตัวแปรเบื้องต้น*\r\n",
        "1. ตั้งให้สื่อ\r\n",
        "2. ภาษาอังกฤษ\r\n",
        "3. ใช้ตัวเลขได้แต่ห้ามขึ้นต้นด้วยตัวเลข\r\n",
        "4. ห้ามเว้นวรรค\r\n",
        "5. ตัวเล็กตัวใหญ่ไม่เหมือนกัน"
      ]
    },
    {
      "cell_type": "markdown",
      "metadata": {
        "id": "3-bOHUTgMzAs"
      },
      "source": [
        "# **มี output 2 mode: ออกหน้าจอ กับ เข้าไปในตัวแปร**"
      ]
    },
    {
      "cell_type": "code",
      "metadata": {
        "colab": {
          "base_uri": "https://localhost:8080/"
        },
        "id": "JQ37dsloNMfM",
        "outputId": "f9e6e650-8582-4bae-dc09-d8203e278f2c"
      },
      "source": [
        "3.14159   # hashtag หรือ sharp # คือ comment  >>> อันนี้คือ output ที่ออกหน้าจอ"
      ],
      "execution_count": 2,
      "outputs": [
        {
          "output_type": "execute_result",
          "data": {
            "text/plain": [
              "3.14159"
            ]
          },
          "metadata": {
            "tags": []
          },
          "execution_count": 2
        }
      ]
    },
    {
      "cell_type": "code",
      "metadata": {
        "id": "TQGJrk3lMSpL"
      },
      "source": [
        "pi = 3.14159 # อันนี้คือ output ที่เข้าไปอยู่ในตัวแปร"
      ],
      "execution_count": 3,
      "outputs": []
    },
    {
      "cell_type": "code",
      "metadata": {
        "colab": {
          "base_uri": "https://localhost:8080/"
        },
        "id": "ubWKN4dWKBxi",
        "outputId": "3b24802d-b299-4fae-8da2-ea2f5259c48d"
      },
      "source": [
        "pi\r\n"
      ],
      "execution_count": 4,
      "outputs": [
        {
          "output_type": "execute_result",
          "data": {
            "text/plain": [
              "3.14159"
            ]
          },
          "metadata": {
            "tags": []
          },
          "execution_count": 4
        }
      ]
    },
    {
      "cell_type": "code",
      "metadata": {
        "colab": {
          "base_uri": "https://localhost:8080/"
        },
        "id": "tXAw1DLQAls4",
        "outputId": "7d353b5c-074c-4088-f8e5-c6abc74d197b"
      },
      "source": [
        "a = 123456\r\n",
        "print(a)"
      ],
      "execution_count": 5,
      "outputs": [
        {
          "output_type": "stream",
          "text": [
            "123456\n"
          ],
          "name": "stdout"
        }
      ]
    },
    {
      "cell_type": "markdown",
      "metadata": {
        "id": "l6tQYTMmPJm7"
      },
      "source": [
        "# **ชนิดของตัวแปร 3 ชนิด**"
      ]
    },
    {
      "cell_type": "markdown",
      "metadata": {
        "id": "ac6dh7m-PONS"
      },
      "source": [
        "## *จำนวนเต็ม* *(integer, int)*"
      ]
    },
    {
      "cell_type": "code",
      "metadata": {
        "colab": {
          "base_uri": "https://localhost:8080/"
        },
        "id": "ewG_LbNTOwVT",
        "outputId": "5b526c80-cf15-48cd-90ed-85a226aff550"
      },
      "source": [
        "aaa = 1092\r\n",
        "print(aaa)"
      ],
      "execution_count": 6,
      "outputs": [
        {
          "output_type": "stream",
          "text": [
            "1092\n"
          ],
          "name": "stdout"
        }
      ]
    },
    {
      "cell_type": "markdown",
      "metadata": {
        "id": "MRobl1jOPTVh"
      },
      "source": [
        "## *จำนวนจริง (float)*"
      ]
    },
    {
      "cell_type": "code",
      "metadata": {
        "colab": {
          "base_uri": "https://localhost:8080/"
        },
        "id": "k6hcv-M_PZRh",
        "outputId": "62df3c46-3036-4bf9-ed37-b9485ce320c5"
      },
      "source": [
        "bbb = 11.\r\n",
        "print(bbb)"
      ],
      "execution_count": 7,
      "outputs": [
        {
          "output_type": "stream",
          "text": [
            "11.0\n"
          ],
          "name": "stdout"
        }
      ]
    },
    {
      "cell_type": "markdown",
      "metadata": {
        "id": "XFnQhDf5PgMR"
      },
      "source": [
        "# *ตัวอักษร-ข้อความ (character, taxt, string)*"
      ]
    },
    {
      "cell_type": "code",
      "metadata": {
        "colab": {
          "base_uri": "https://localhost:8080/"
        },
        "id": "t5DSDokwPoJp",
        "outputId": "60a88e27-d12f-4fb5-e006-b18a41515d37"
      },
      "source": [
        "ccc = '123456'# เราใช้ single qoute ' หรือ double qoute \" ล้อมรอบตัวหนังสือเพื่อระบุว่าเป็น character-string \r\n",
        "print(ccc)"
      ],
      "execution_count": 8,
      "outputs": [
        {
          "output_type": "stream",
          "text": [
            "123456\n"
          ],
          "name": "stdout"
        }
      ]
    },
    {
      "cell_type": "code",
      "metadata": {
        "colab": {
          "base_uri": "https://localhost:8080/"
        },
        "id": "Fx7JrhtjQB_O",
        "outputId": "b715610a-609b-45a4-9e8f-db7ab8c2de97"
      },
      "source": [
        "aaa + bbb  #float + int = float"
      ],
      "execution_count": 9,
      "outputs": [
        {
          "output_type": "execute_result",
          "data": {
            "text/plain": [
              "1103.0"
            ]
          },
          "metadata": {
            "tags": []
          },
          "execution_count": 9
        }
      ]
    },
    {
      "cell_type": "code",
      "metadata": {
        "colab": {
          "base_uri": "https://localhost:8080/",
          "height": 168
        },
        "id": "lGsbA3I2QTtZ",
        "outputId": "5525ecde-e733-4fe8-cac1-1f56efaeaf77"
      },
      "source": [
        "bbb + ccc #จารย์บอกไม่ต้องสนใจ แต่ถ้าได้เขียนโค้ดอยู่แล้ว error เราต้องเอาไปเสริชในgoogleหาเอง หาว่ามันคือไร และเวลาอ่าน error ให้อ่านบรรทัดสุดท้าย"
      ],
      "execution_count": 10,
      "outputs": [
        {
          "output_type": "error",
          "ename": "TypeError",
          "evalue": "ignored",
          "traceback": [
            "\u001b[0;31m---------------------------------------------------------------------------\u001b[0m",
            "\u001b[0;31mTypeError\u001b[0m                                 Traceback (most recent call last)",
            "\u001b[0;32m<ipython-input-10-cb98f434b847>\u001b[0m in \u001b[0;36m<module>\u001b[0;34m()\u001b[0m\n\u001b[0;32m----> 1\u001b[0;31m \u001b[0mbbb\u001b[0m \u001b[0;34m+\u001b[0m \u001b[0mccc\u001b[0m \u001b[0;31m#จารย์บอกไม่ต้องสนใจ แต่ถ้าได้เขียนโค้ดอยู่แล้ว error เราต้องเอาไปเสริชในgoogleหาเอง หาว่ามันคือไร และเวลาอ่าน error ให้อ่านบรรทัดสุดท้าย\u001b[0m\u001b[0;34m\u001b[0m\u001b[0;34m\u001b[0m\u001b[0m\n\u001b[0m",
            "\u001b[0;31mTypeError\u001b[0m: unsupported operand type(s) for +: 'float' and 'str'"
          ]
        }
      ]
    },
    {
      "cell_type": "code",
      "metadata": {
        "colab": {
          "base_uri": "https://localhost:8080/"
        },
        "id": "WrvS2ewzQpvC",
        "outputId": "fd46bfe4-c2c7-4c23-d3e1-d3fb7ec26795"
      },
      "source": [
        "ddd = 'คนสวย'\r\n",
        "print(ddd)"
      ],
      "execution_count": 11,
      "outputs": [
        {
          "output_type": "stream",
          "text": [
            "คนสวย\n"
          ],
          "name": "stdout"
        }
      ]
    },
    {
      "cell_type": "markdown",
      "metadata": {
        "id": "1ZI_MttZQ0lR"
      },
      "source": [
        "# ***การเปลี่ยนชนิดของตัวแปร ***"
      ]
    },
    {
      "cell_type": "code",
      "metadata": {
        "colab": {
          "base_uri": "https://localhost:8080/"
        },
        "id": "frJBaO5wRFWg",
        "outputId": "301a059d-84b4-4182-ace4-8d5dc1a183fb"
      },
      "source": [
        "bbb + int(ccc)  ###  ก็คือใส่ int"
      ],
      "execution_count": 12,
      "outputs": [
        {
          "output_type": "execute_result",
          "data": {
            "text/plain": [
              "123467.0"
            ]
          },
          "metadata": {
            "tags": []
          },
          "execution_count": 12
        }
      ]
    },
    {
      "cell_type": "code",
      "metadata": {
        "colab": {
          "base_uri": "https://localhost:8080/"
        },
        "id": "mgKXtTZHRj4Q",
        "outputId": "5a8cd8a4-d0a1-4127-e7f2-871f6cfaf4ff"
      },
      "source": [
        "aaa + float (ccc) ### ใส่ float"
      ],
      "execution_count": 13,
      "outputs": [
        {
          "output_type": "execute_result",
          "data": {
            "text/plain": [
              "124548.0"
            ]
          },
          "metadata": {
            "tags": []
          },
          "execution_count": 13
        }
      ]
    },
    {
      "cell_type": "code",
      "metadata": {
        "colab": {
          "base_uri": "https://localhost:8080/",
          "height": 36
        },
        "id": "taHNmUDyRs4o",
        "outputId": "e9f12298-494f-45a6-f052-fa31430d1634"
      },
      "source": [
        "str(aaa) ### ใส่ string"
      ],
      "execution_count": 14,
      "outputs": [
        {
          "output_type": "execute_result",
          "data": {
            "application/vnd.google.colaboratory.intrinsic+json": {
              "type": "string"
            },
            "text/plain": [
              "'1092'"
            ]
          },
          "metadata": {
            "tags": []
          },
          "execution_count": 14
        }
      ]
    },
    {
      "cell_type": "markdown",
      "metadata": {
        "id": "Q785fyhGSOCI"
      },
      "source": [
        "# การดำเนินการ Operation (Operaions +,-,*,/%) "
      ]
    },
    {
      "cell_type": "code",
      "metadata": {
        "colab": {
          "base_uri": "https://localhost:8080/",
          "height": 168
        },
        "id": "-OujjyciSHZw",
        "outputId": "5fa476bc-def6-4caf-8957-13a653cd84ea"
      },
      "source": [
        "a+b ## เวลาอ่านให้เรา error อ่านบรรทัด สุดท้าย"
      ],
      "execution_count": 15,
      "outputs": [
        {
          "output_type": "error",
          "ename": "NameError",
          "evalue": "ignored",
          "traceback": [
            "\u001b[0;31m---------------------------------------------------------------------------\u001b[0m",
            "\u001b[0;31mNameError\u001b[0m                                 Traceback (most recent call last)",
            "\u001b[0;32m<ipython-input-15-1d3f359050c3>\u001b[0m in \u001b[0;36m<module>\u001b[0;34m()\u001b[0m\n\u001b[0;32m----> 1\u001b[0;31m \u001b[0ma\u001b[0m\u001b[0;34m+\u001b[0m\u001b[0mb\u001b[0m \u001b[0;31m## เวลาอ่านให้เรา error อ่านบรรทัด สุดท้าย\u001b[0m\u001b[0;34m\u001b[0m\u001b[0;34m\u001b[0m\u001b[0m\n\u001b[0m",
            "\u001b[0;31mNameError\u001b[0m: name 'b' is not defined"
          ]
        }
      ]
    },
    {
      "cell_type": "code",
      "metadata": {
        "colab": {
          "base_uri": "https://localhost:8080/"
        },
        "id": "lgYWcBYQSxi_",
        "outputId": "f12eed0a-2f9b-4257-9a3c-09ea3b1726d0"
      },
      "source": [
        "aaa + bbb\r\n"
      ],
      "execution_count": 16,
      "outputs": [
        {
          "output_type": "execute_result",
          "data": {
            "text/plain": [
              "1103.0"
            ]
          },
          "metadata": {
            "tags": []
          },
          "execution_count": 16
        }
      ]
    },
    {
      "cell_type": "code",
      "metadata": {
        "colab": {
          "base_uri": "https://localhost:8080/"
        },
        "id": "xmOZGUPmS1tP",
        "outputId": "f0e292e5-537f-490b-b7ac-1cf9f5bd0d64"
      },
      "source": [
        "aaa-bbb"
      ],
      "execution_count": 17,
      "outputs": [
        {
          "output_type": "execute_result",
          "data": {
            "text/plain": [
              "1081.0"
            ]
          },
          "metadata": {
            "tags": []
          },
          "execution_count": 17
        }
      ]
    },
    {
      "cell_type": "code",
      "metadata": {
        "colab": {
          "base_uri": "https://localhost:8080/"
        },
        "id": "1I_NLX4fS6AH",
        "outputId": "25e02ebd-5003-4f2a-e004-00917974fc9a"
      },
      "source": [
        "ab = aaa*bbb\r\n",
        "print(ab)"
      ],
      "execution_count": 18,
      "outputs": [
        {
          "output_type": "stream",
          "text": [
            "12012.0\n"
          ],
          "name": "stdout"
        }
      ]
    },
    {
      "cell_type": "code",
      "metadata": {
        "colab": {
          "base_uri": "https://localhost:8080/"
        },
        "id": "WjgvI1YYTE9I",
        "outputId": "dd643a6b-2f6e-4f1e-b938-45ae96b5266a"
      },
      "source": [
        "ab+int(ccc)"
      ],
      "execution_count": 19,
      "outputs": [
        {
          "output_type": "execute_result",
          "data": {
            "text/plain": [
              "135468.0"
            ]
          },
          "metadata": {
            "tags": []
          },
          "execution_count": 19
        }
      ]
    },
    {
      "cell_type": "markdown",
      "metadata": {
        "id": "hgXifGVOTKWP"
      },
      "source": [
        "## ***% คือ modulo หารเอาเศษ***"
      ]
    },
    {
      "cell_type": "code",
      "metadata": {
        "colab": {
          "base_uri": "https://localhost:8080/"
        },
        "id": "-7EU28v8Tg3G",
        "outputId": "a99755ea-a31c-4919-d821-c9599734bc26"
      },
      "source": [
        "5%3"
      ],
      "execution_count": 20,
      "outputs": [
        {
          "output_type": "execute_result",
          "data": {
            "text/plain": [
              "2"
            ]
          },
          "metadata": {
            "tags": []
          },
          "execution_count": 20
        }
      ]
    },
    {
      "cell_type": "code",
      "metadata": {
        "colab": {
          "base_uri": "https://localhost:8080/"
        },
        "id": "d4fbB5MDTnD2",
        "outputId": "25c712bb-0fec-4d9a-8269-7bc578644b61"
      },
      "source": [
        "7%3"
      ],
      "execution_count": 21,
      "outputs": [
        {
          "output_type": "execute_result",
          "data": {
            "text/plain": [
              "1"
            ]
          },
          "metadata": {
            "tags": []
          },
          "execution_count": 21
        }
      ]
    },
    {
      "cell_type": "markdown",
      "metadata": {
        "id": "8EsV5VncTtMm"
      },
      "source": [
        "# **คำสั่ง print แบบพิเศษ (การ format string)**"
      ]
    },
    {
      "cell_type": "code",
      "metadata": {
        "colab": {
          "base_uri": "https://localhost:8080/"
        },
        "id": "9YWCkkXjGLS_",
        "outputId": "3c36f385-f445-41bc-cbb7-9ad3c1ab2b28"
      },
      "source": [
        "print('ตัวแปร') #สิ่งที่อยู่ข้างในวงเล็บคือ ตัวแปร และ string"
      ],
      "execution_count": 22,
      "outputs": [
        {
          "output_type": "stream",
          "text": [
            "ตัวแปร\n"
          ],
          "name": "stdout"
        }
      ]
    },
    {
      "cell_type": "code",
      "metadata": {
        "colab": {
          "base_uri": "https://localhost:8080/"
        },
        "id": "N-gNq-05GN0W",
        "outputId": "1499298e-1002-4d63-9acb-01153cef21d8"
      },
      "source": [
        "print(f'% คือการหารเอาเศษ เช่น 7%3 = {7%3}') # เพิ่ม f หน้า 'string' และใช้ {} ใส่ code"
      ],
      "execution_count": 23,
      "outputs": [
        {
          "output_type": "stream",
          "text": [
            "% คือการหารเอาเศษ เช่น 7%3 = 1\n"
          ],
          "name": "stdout"
        }
      ]
    },
    {
      "cell_type": "code",
      "metadata": {
        "colab": {
          "base_uri": "https://localhost:8080/"
        },
        "id": "gsSmtEIVGlWl",
        "outputId": "8a1abc81-60b8-4157-ad8e-b25de6ea7feb"
      },
      "source": [
        "print(f'% คือการหารเอาเศษ เช่น 7%3 = {7%3} \\\r\n",
        "    แต่\\n/ คือการหารปกติ เช่น 7/3 = {7/3}  \\\r\n",
        "    และ\\n// คือการหารเอาส่วน เช่น 7//3 = {7//3} \\\r\n",
        "    หรือ\\nใช้ int() เพื่อหารเอาส่วน เช่น int(7/3) = {int(7/3)}') # \\n คือการขึ้นบรรทัดใหม่ \\ ใช้ในการตัด code แต่ com จะไม่เห็น"
      ],
      "execution_count": 24,
      "outputs": [
        {
          "output_type": "stream",
          "text": [
            "% คือการหารเอาเศษ เช่น 7%3 = 1     แต่\n",
            "/ คือการหารปกติ เช่น 7/3 = 2.3333333333333335      และ\n",
            "// คือการหารเอาส่วน เช่น 7//3 = 2     หรือ\n",
            "ใช้ int() เพื่อหารเอาส่วน เช่น int(7/3) = 2\n"
          ],
          "name": "stdout"
        }
      ]
    },
    {
      "cell_type": "markdown",
      "metadata": {
        "id": "WtfEyy90HThm"
      },
      "source": [
        "# **DATA STRUCTURE (โครงสร้างข้อมูล)**"
      ]
    },
    {
      "cell_type": "code",
      "metadata": {
        "colab": {
          "base_uri": "https://localhost:8080/"
        },
        "id": "syXPrxwOOjCT",
        "outputId": "1c113988-6238-40cb-f3f0-a2f35feeaaf9"
      },
      "source": [
        "[111,'c','เจ้าหมิว',aaa] ##เราสามารถใส่ ตัวเลข ตัวอักษร ข้อความ และ code ได้ ใน 1 list [] ก็คือ list นะจร๊"
      ],
      "execution_count": 25,
      "outputs": [
        {
          "output_type": "execute_result",
          "data": {
            "text/plain": [
              "[111, 'c', 'เจ้าหมิว', 1092]"
            ]
          },
          "metadata": {
            "tags": []
          },
          "execution_count": 25
        }
      ]
    },
    {
      "cell_type": "markdown",
      "metadata": {
        "id": "b-JH5l_tHeek"
      },
      "source": [
        "# **List คือ การเอาข้อมูลหลายๆตัวมาเรียงต่อกัน**"
      ]
    },
    {
      "cell_type": "markdown",
      "metadata": {
        "id": "hlM0SW-oHjdN"
      },
      "source": [
        "### *list สามารถสร้างได้ 2 แบบ ดังนี้*"
      ]
    },
    {
      "cell_type": "markdown",
      "metadata": {
        "id": "MKr0uf5yJSk9"
      },
      "source": [
        "*แบบที่1 > square brackets*"
      ]
    },
    {
      "cell_type": "code",
      "metadata": {
        "colab": {
          "base_uri": "https://localhost:8080/"
        },
        "id": "uTmSDED3Ns19",
        "outputId": "64ae8637-497a-44e1-b517-d9bd42f85ddc"
      },
      "source": [
        "list_a = []\r\n",
        "print(list_a) "
      ],
      "execution_count": 26,
      "outputs": [
        {
          "output_type": "stream",
          "text": [
            "[]\n"
          ],
          "name": "stdout"
        }
      ]
    },
    {
      "cell_type": "code",
      "metadata": {
        "colab": {
          "base_uri": "https://localhost:8080/"
        },
        "id": "UiUwhHe1N3YS",
        "outputId": "65ef55b0-948e-4ff0-8b11-be534d9af759"
      },
      "source": [
        "list_b = [111,'c','เจ้าหมิว',aaa]\r\n",
        "print(list_b)"
      ],
      "execution_count": 27,
      "outputs": [
        {
          "output_type": "stream",
          "text": [
            "[111, 'c', 'เจ้าหมิว', 1092]\n"
          ],
          "name": "stdout"
        }
      ]
    },
    {
      "cell_type": "markdown",
      "metadata": {
        "id": "eXQfWVdnJkYF"
      },
      "source": [
        "### *ลำดับที่อยู่ใน list มีความสำคัญ (ลำดับใน list เริ่มจาก 0,1,2,...)*"
      ]
    },
    {
      "cell_type": "code",
      "metadata": {
        "colab": {
          "base_uri": "https://localhost:8080/",
          "height": 0
        },
        "id": "k2tAFfFgOF9N",
        "outputId": "12a55b8f-d9e0-4c23-d26f-e68c33b49951"
      },
      "source": [
        "list_b[2]"
      ],
      "execution_count": 28,
      "outputs": [
        {
          "output_type": "execute_result",
          "data": {
            "application/vnd.google.colaboratory.intrinsic+json": {
              "type": "string"
            },
            "text/plain": [
              "'เจ้าหมิว'"
            ]
          },
          "metadata": {
            "tags": []
          },
          "execution_count": 28
        }
      ]
    },
    {
      "cell_type": "markdown",
      "metadata": {
        "id": "l3AjHqGJKM6K"
      },
      "source": [
        "### *แบบที่2*"
      ]
    },
    {
      "cell_type": "code",
      "metadata": {
        "colab": {
          "base_uri": "https://localhost:8080/"
        },
        "id": "Ndp-Yv5yKRji",
        "outputId": "a269a502-3882-4dee-f553-d0a342af6d1c"
      },
      "source": [
        "list_c = list()\r\n",
        "print(list_c)"
      ],
      "execution_count": 29,
      "outputs": [
        {
          "output_type": "stream",
          "text": [
            "[]\n"
          ],
          "name": "stdout"
        }
      ]
    },
    {
      "cell_type": "markdown",
      "metadata": {
        "id": "q6PExAH7KmJi"
      },
      "source": [
        "\r\n",
        "# **append() เพิ่มสมาชิกใน list**"
      ]
    },
    {
      "cell_type": "code",
      "metadata": {
        "colab": {
          "base_uri": "https://localhost:8080/"
        },
        "id": "Eomhx1nLKrvh",
        "outputId": "a2ce0186-90ba-4e1f-f5c0-d80eca1e0a24"
      },
      "source": [
        "\r\n",
        "list_b.append('u')\r\n",
        "print(list_b)"
      ],
      "execution_count": 41,
      "outputs": [
        {
          "output_type": "stream",
          "text": [
            "[111, 'c', 'เจ้าหมิว', 1092, 'u', 'u']\n"
          ],
          "name": "stdout"
        }
      ]
    },
    {
      "cell_type": "markdown",
      "metadata": {
        "id": "IE0fac3hKvxx"
      },
      "source": [
        "ตัวที่อยู่ในวงเล็บหลังจากตัวแปร list เรียกว่า index ใช้สำหรับชี้ข้อมูลใน list\r\n",
        "\r\n",
        "(ชี้จากข้างหน้า,ชี้จากข้างหลัง)\r\n",
        "\r\n",
        "0 คือสมาชิกตัวแรก , -1 คือสมาชิกตัวสุดท้าย"
      ]
    },
    {
      "cell_type": "code",
      "metadata": {
        "colab": {
          "base_uri": "https://localhost:8080/",
          "height": 36
        },
        "id": "gsuxewh5K1LS",
        "outputId": "39989dd6-41d1-4482-dc83-42cffb99f9a6"
      },
      "source": [
        "list_b[-1]"
      ],
      "execution_count": 31,
      "outputs": [
        {
          "output_type": "execute_result",
          "data": {
            "application/vnd.google.colaboratory.intrinsic+json": {
              "type": "string"
            },
            "text/plain": [
              "'u'"
            ]
          },
          "metadata": {
            "tags": []
          },
          "execution_count": 31
        }
      ]
    },
    {
      "cell_type": "markdown",
      "metadata": {
        "id": "6omgC8GBK5qD"
      },
      "source": [
        "\r\n",
        "# **String > list of characters**"
      ]
    },
    {
      "cell_type": "code",
      "metadata": {
        "colab": {
          "base_uri": "https://localhost:8080/"
        },
        "id": "6sPNWkcTK9za",
        "outputId": "12582089-2067-45a8-d74d-83566b5274c4"
      },
      "source": [
        "t = 'python is easy'\r\n",
        "print(t)"
      ],
      "execution_count": 32,
      "outputs": [
        {
          "output_type": "stream",
          "text": [
            "python is easy\n"
          ],
          "name": "stdout"
        }
      ]
    },
    {
      "cell_type": "code",
      "metadata": {
        "colab": {
          "base_uri": "https://localhost:8080/",
          "height": 36
        },
        "id": "aJG3Zb4-LHgx",
        "outputId": "4e2b777b-c325-4e9d-f044-8086ed505307"
      },
      "source": [
        "t[1]"
      ],
      "execution_count": 33,
      "outputs": [
        {
          "output_type": "execute_result",
          "data": {
            "application/vnd.google.colaboratory.intrinsic+json": {
              "type": "string"
            },
            "text/plain": [
              "'y'"
            ]
          },
          "metadata": {
            "tags": []
          },
          "execution_count": 33
        }
      ]
    },
    {
      "cell_type": "code",
      "metadata": {
        "colab": {
          "base_uri": "https://localhost:8080/",
          "height": 36
        },
        "id": "IhQqQBybLLf0",
        "outputId": "4e302800-579d-4127-f839-e333c6e3135f"
      },
      "source": [
        "t[-4]"
      ],
      "execution_count": 34,
      "outputs": [
        {
          "output_type": "execute_result",
          "data": {
            "application/vnd.google.colaboratory.intrinsic+json": {
              "type": "string"
            },
            "text/plain": [
              "'e'"
            ]
          },
          "metadata": {
            "tags": []
          },
          "execution_count": 34
        }
      ]
    },
    {
      "cell_type": "code",
      "metadata": {
        "colab": {
          "base_uri": "https://localhost:8080/",
          "height": 36
        },
        "id": "vNXEhO81LZab",
        "outputId": "61707ea6-beb1-4535-b568-e89c2e62c81a"
      },
      "source": [
        "t[6]"
      ],
      "execution_count": 35,
      "outputs": [
        {
          "output_type": "execute_result",
          "data": {
            "application/vnd.google.colaboratory.intrinsic+json": {
              "type": "string"
            },
            "text/plain": [
              "' '"
            ]
          },
          "metadata": {
            "tags": []
          },
          "execution_count": 35
        }
      ]
    },
    {
      "cell_type": "markdown",
      "metadata": {
        "id": "kl8VLXGfLokD"
      },
      "source": [
        "\r\n",
        "# **จบ 5/ม.ค/2021 (จบสักที อาจารย์คือแร็ปรัวมากค่าาา 555+)**"
      ]
    },
    {
      "cell_type": "markdown",
      "metadata": {
        "id": "cetZ0r-shykV"
      },
      "source": [
        "#คาบ 3 11/ม.ค/64"
      ]
    },
    {
      "cell_type": "code",
      "metadata": {
        "id": "4Bd5IjWZiyyZ",
        "outputId": "aa50026c-7c14-4207-c540-b1412b65599d",
        "colab": {
          "base_uri": "https://localhost:8080/"
        }
      },
      "source": [
        "len(t)"
      ],
      "execution_count": 36,
      "outputs": [
        {
          "output_type": "execute_result",
          "data": {
            "text/plain": [
              "14"
            ]
          },
          "metadata": {
            "tags": []
          },
          "execution_count": 36
        }
      ]
    },
    {
      "cell_type": "code",
      "metadata": {
        "id": "PNOLhutxlAql",
        "outputId": "307e3978-b1d2-43b2-daa5-ebe55d4ee562",
        "colab": {
          "base_uri": "https://localhost:8080/"
        }
      },
      "source": [
        "list_b"
      ],
      "execution_count": 62,
      "outputs": [
        {
          "output_type": "execute_result",
          "data": {
            "text/plain": [
              "[111,\n",
              " 'c',\n",
              " 'เจ้าหมิว',\n",
              " 1092,\n",
              " 'u',\n",
              " 'u',\n",
              " 'python is easy',\n",
              " 'python is easy',\n",
              " 'python is easy',\n",
              " 'python is easy',\n",
              " 'python is easy',\n",
              " 'python is easy',\n",
              " 'python is easy']"
            ]
          },
          "metadata": {
            "tags": []
          },
          "execution_count": 62
        }
      ]
    },
    {
      "cell_type": "code",
      "metadata": {
        "id": "5xtFFoGei7YT",
        "outputId": "3864f6b6-4739-4e77-b326-24028274f7ae",
        "colab": {
          "base_uri": "https://localhost:8080/"
        }
      },
      "source": [
        "len(list_b) ## len คือคำสั่งตรวจสอบความยาวของ list (จำนวนสมาชิก)"
      ],
      "execution_count": 38,
      "outputs": [
        {
          "output_type": "execute_result",
          "data": {
            "text/plain": [
              "5"
            ]
          },
          "metadata": {
            "tags": []
          },
          "execution_count": 38
        }
      ]
    },
    {
      "cell_type": "code",
      "metadata": {
        "id": "FZeuQmP4jaQC",
        "outputId": "066d5e16-9fc9-471b-d5cc-ecf5015123d2",
        "colab": {
          "base_uri": "https://localhost:8080/",
          "height": 36
        }
      },
      "source": [
        "t[-4]"
      ],
      "execution_count": 39,
      "outputs": [
        {
          "output_type": "execute_result",
          "data": {
            "application/vnd.google.colaboratory.intrinsic+json": {
              "type": "string"
            },
            "text/plain": [
              "'e'"
            ]
          },
          "metadata": {
            "tags": []
          },
          "execution_count": 39
        }
      ]
    },
    {
      "cell_type": "code",
      "metadata": {
        "id": "zeb9qG3SlOvp"
      },
      "source": [
        "list_b.append(t)"
      ],
      "execution_count": 51,
      "outputs": []
    },
    {
      "cell_type": "markdown",
      "metadata": {
        "id": "XCnrEvL6liPQ"
      },
      "source": [
        "# **#Lise slicing สามารถทำได้โดยใช้ colon :**"
      ]
    },
    {
      "cell_type": "code",
      "metadata": {
        "id": "E_ieepu_l4kK",
        "outputId": "704cf2ea-1378-4869-8d36-53a0b2349bde",
        "colab": {
          "base_uri": "https://localhost:8080/"
        }
      },
      "source": [
        "print(t)\r\n",
        "print(t[7:9])"
      ],
      "execution_count": 50,
      "outputs": [
        {
          "output_type": "stream",
          "text": [
            "python is easy\n",
            "is\n"
          ],
          "name": "stdout"
        }
      ]
    },
    {
      "cell_type": "code",
      "metadata": {
        "id": "r7mEAjs7nqyQ",
        "outputId": "a32931af-b9cf-4661-94f3-b9aaa3d2894c",
        "colab": {
          "base_uri": "https://localhost:8080/",
          "height": 36
        }
      },
      "source": [
        "t[0:14:2]"
      ],
      "execution_count": 52,
      "outputs": [
        {
          "output_type": "execute_result",
          "data": {
            "application/vnd.google.colaboratory.intrinsic+json": {
              "type": "string"
            },
            "text/plain": [
              "'pto ses'"
            ]
          },
          "metadata": {
            "tags": []
          },
          "execution_count": 52
        }
      ]
    },
    {
      "cell_type": "code",
      "metadata": {
        "id": "rpezRJwJoOmW"
      },
      "source": [
        "z = [1,2,3,4,5,6,7,8,9,10]"
      ],
      "execution_count": 53,
      "outputs": []
    },
    {
      "cell_type": "markdown",
      "metadata": {
        "id": "O7UcLiGYoex9"
      },
      "source": [
        "# quiz\r\n",
        "ให้ใช้ list slicing เลือกมาเฉพาะเลขคู่"
      ]
    },
    {
      "cell_type": "code",
      "metadata": {
        "id": "peK8axIHot-B",
        "outputId": "651102a4-3cdd-4684-caef-4efbf263cd0b",
        "colab": {
          "base_uri": "https://localhost:8080/"
        }
      },
      "source": [
        "z = [1,2,3,4,5,6,7,8,9,10]\r\n",
        "z[1:10:2]"
      ],
      "execution_count": 56,
      "outputs": [
        {
          "output_type": "execute_result",
          "data": {
            "text/plain": [
              "[2, 4, 6, 8, 10]"
            ]
          },
          "metadata": {
            "tags": []
          },
          "execution_count": 56
        }
      ]
    },
    {
      "cell_type": "markdown",
      "metadata": {
        "id": "qVsWd2cYpPYH"
      },
      "source": [
        "ถ้าเว้นว่างหน้า : หมายความว่า เริ่มตั้งเเต่ตัวเเรก (10) \r\n",
        "ถ้าเว้นว่างหลัง : หมายความว่า ไปจนถึงตัวสุดท้าย (len(list))"
      ]
    },
    {
      "cell_type": "code",
      "metadata": {
        "id": "IHVBibEIpl62",
        "outputId": "d18fa4a8-8ff6-400c-b4f5-2ba2b3f0894b",
        "colab": {
          "base_uri": "https://localhost:8080/"
        }
      },
      "source": [
        "print (t)\r\n",
        "print (t[:6]) # ไม่ใส่ข้างหน้าคือ 0 เลย\r\n",
        "print (t[10:])\r\n",
        "print (t[-4:])\r\n",
        "print (t[:])"
      ],
      "execution_count": 57,
      "outputs": [
        {
          "output_type": "stream",
          "text": [
            "python is easy\n",
            "python\n",
            "easy\n",
            "easy\n",
            "python is easy\n"
          ],
          "name": "stdout"
        }
      ]
    },
    {
      "cell_type": "code",
      "metadata": {
        "id": "eeOGpyOMqTde",
        "outputId": "6582e9f9-31bc-404a-fe9f-676b7af3914c",
        "colab": {
          "base_uri": "https://localhost:8080/"
        }
      },
      "source": [
        "print (z[::2]) #เอาตั้งเเต่ตัวเเรกจนถึงตัวสุดท้าย และข้ามไปทีละ 2 ตัว"
      ],
      "execution_count": 58,
      "outputs": [
        {
          "output_type": "stream",
          "text": [
            "[1, 3, 5, 7, 9]\n"
          ],
          "name": "stdout"
        }
      ]
    },
    {
      "cell_type": "markdown",
      "metadata": {
        "id": "SgRv2O0Er3dC"
      },
      "source": [
        "# **เราสามรถเอา list มาต่อกันได้ด้วย + **"
      ]
    },
    {
      "cell_type": "code",
      "metadata": {
        "id": "3u_3DvRer1vL",
        "outputId": "b8fb9f6b-75e4-4636-abcb-202376a3433c",
        "colab": {
          "base_uri": "https://localhost:8080/",
          "height": 36
        }
      },
      "source": [
        "t+'???'"
      ],
      "execution_count": 59,
      "outputs": [
        {
          "output_type": "execute_result",
          "data": {
            "application/vnd.google.colaboratory.intrinsic+json": {
              "type": "string"
            },
            "text/plain": [
              "'python is easy???'"
            ]
          },
          "metadata": {
            "tags": []
          },
          "execution_count": 59
        }
      ]
    },
    {
      "cell_type": "code",
      "metadata": {
        "id": "ZCgVumHDsItq",
        "outputId": "ed0f2b93-e5fb-4751-d628-8c2863caac1e",
        "colab": {
          "base_uri": "https://localhost:8080/",
          "height": 168
        }
      },
      "source": [
        "t+list_b ##ไม่สามารถเอา list ปกติมาต่อกับ string ได้"
      ],
      "execution_count": 60,
      "outputs": [
        {
          "output_type": "error",
          "ename": "TypeError",
          "evalue": "ignored",
          "traceback": [
            "\u001b[0;31m---------------------------------------------------------------------------\u001b[0m",
            "\u001b[0;31mTypeError\u001b[0m                                 Traceback (most recent call last)",
            "\u001b[0;32m<ipython-input-60-752ea3f49f51>\u001b[0m in \u001b[0;36m<module>\u001b[0;34m()\u001b[0m\n\u001b[0;32m----> 1\u001b[0;31m \u001b[0mt\u001b[0m\u001b[0;34m+\u001b[0m\u001b[0mlist_b\u001b[0m \u001b[0;31m##ไม่สามารถเอา list ปกติมาต่อกับ string ได้\u001b[0m\u001b[0;34m\u001b[0m\u001b[0;34m\u001b[0m\u001b[0m\n\u001b[0m",
            "\u001b[0;31mTypeError\u001b[0m: must be str, not list"
          ]
        }
      ]
    },
    {
      "cell_type": "code",
      "metadata": {
        "id": "L6mrhDZ9sYzJ",
        "outputId": "625438e3-7b7d-4bf3-c100-a8f01ee1d4fc",
        "colab": {
          "base_uri": "https://localhost:8080/"
        }
      },
      "source": [
        "print(list_a)\r\n",
        "print(list_b)\r\n",
        "print(list_b+list_a)"
      ],
      "execution_count": 61,
      "outputs": [
        {
          "output_type": "stream",
          "text": [
            "[]\n",
            "[111, 'c', 'เจ้าหมิว', 1092, 'u', 'u', 'python is easy', 'python is easy', 'python is easy', 'python is easy', 'python is easy', 'python is easy', 'python is easy']\n",
            "[111, 'c', 'เจ้าหมิว', 1092, 'u', 'u', 'python is easy', 'python is easy', 'python is easy', 'python is easy', 'python is easy', 'python is easy', 'python is easy']\n"
          ],
          "name": "stdout"
        }
      ]
    },
    {
      "cell_type": "code",
      "metadata": {
        "id": "DjTOhwswtJSD",
        "outputId": "9882206a-7f8e-43e6-8195-5f91e4281d6e",
        "colab": {
          "base_uri": "https://localhost:8080/"
        }
      },
      "source": [
        "list_b.append(list_a)\r\n",
        "print(list_b)"
      ],
      "execution_count": 65,
      "outputs": [
        {
          "output_type": "stream",
          "text": [
            "[111, 'c', 'เจ้าหมิว', 1092, 'u', 'u', 'python is easy', 'python is easy', 'python is easy', 'python is easy', 'python is easy', 'python is easy', 'python is easy', [], [], []]\n"
          ],
          "name": "stdout"
        }
      ]
    },
    {
      "cell_type": "markdown",
      "metadata": {
        "id": "K_o4Rvistyx6"
      },
      "source": [
        "# การเเบ่ง string ตามสัญลักษณ์ที่กำหนด -> split string"
      ]
    },
    {
      "cell_type": "code",
      "metadata": {
        "id": "Cc08UHK_uEHK",
        "outputId": "97d39b18-1561-401e-bb8b-cd0582ffa16d",
        "colab": {
          "base_uri": "https://localhost:8080/",
          "height": 36
        }
      },
      "source": [
        "t"
      ],
      "execution_count": 66,
      "outputs": [
        {
          "output_type": "execute_result",
          "data": {
            "application/vnd.google.colaboratory.intrinsic+json": {
              "type": "string"
            },
            "text/plain": [
              "'python is easy'"
            ]
          },
          "metadata": {
            "tags": []
          },
          "execution_count": 66
        }
      ]
    },
    {
      "cell_type": "code",
      "metadata": {
        "id": "49NOINlWuGax",
        "outputId": "d88cc565-1bd8-4435-c9e1-02b8ed054111",
        "colab": {
          "base_uri": "https://localhost:8080/"
        }
      },
      "source": [
        "t.split(' ')\r\n",
        "['python','is','easy']"
      ],
      "execution_count": 69,
      "outputs": [
        {
          "output_type": "execute_result",
          "data": {
            "text/plain": [
              "['python', 'is', 'easy']"
            ]
          },
          "metadata": {
            "tags": []
          },
          "execution_count": 69
        }
      ]
    },
    {
      "cell_type": "code",
      "metadata": {
        "id": "QlDpLQoHuw5M"
      },
      "source": [
        "time = '12:30:15'"
      ],
      "execution_count": 72,
      "outputs": []
    },
    {
      "cell_type": "code",
      "metadata": {
        "id": "QpZaiDXEu6zo",
        "outputId": "183a5b9e-5584-4085-e624-54e2bb4bdb9f",
        "colab": {
          "base_uri": "https://localhost:8080/"
        }
      },
      "source": [
        "time.split(':')"
      ],
      "execution_count": 73,
      "outputs": [
        {
          "output_type": "execute_result",
          "data": {
            "text/plain": [
              "['12', '30', '15']"
            ]
          },
          "metadata": {
            "tags": []
          },
          "execution_count": 73
        }
      ]
    },
    {
      "cell_type": "code",
      "metadata": {
        "id": "asG2FFLZvJMg",
        "outputId": "b3c595dc-ff34-4b34-a78b-73b4aa4b95dc",
        "colab": {
          "base_uri": "https://localhost:8080/"
        }
      },
      "source": [
        "t_sp = t.split(' ')\r\n",
        "print(t_sp)"
      ],
      "execution_count": 75,
      "outputs": [
        {
          "output_type": "stream",
          "text": [
            "['python', 'is', 'easy']\n"
          ],
          "name": "stdout"
        }
      ]
    },
    {
      "cell_type": "code",
      "metadata": {
        "id": "hDM3sQULvaRp",
        "outputId": "57187695-75c9-4913-b62a-4ad0d4b32979",
        "colab": {
          "base_uri": "https://localhost:8080/"
        }
      },
      "source": [
        "## วิธีรวมกลับ\r\n",
        "print (':'.join(t_sp))"
      ],
      "execution_count": 76,
      "outputs": [
        {
          "output_type": "stream",
          "text": [
            "python:is:easy\n"
          ],
          "name": "stdout"
        }
      ]
    }
  ]
}