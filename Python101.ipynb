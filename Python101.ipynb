{
  "nbformat": 4,
  "nbformat_minor": 0,
  "metadata": {
    "colab": {
      "name": "Python101.ipynb",
      "provenance": [],
      "authorship_tag": "ABX9TyNGNSc2A3B1Q/919edM6LGg",
      "include_colab_link": true
    },
    "kernelspec": {
      "name": "python3",
      "display_name": "Python 3"
    }
  },
  "cells": [
    {
      "cell_type": "markdown",
      "metadata": {
        "id": "view-in-github",
        "colab_type": "text"
      },
      "source": [
        "<a href=\"https://colab.research.google.com/github/Jaomiew/Multivariate/blob/main/Python101.ipynb\" target=\"_parent\"><img src=\"https://colab.research.google.com/assets/colab-badge.svg\" alt=\"Open In Colab\"/></a>"
      ]
    },
    {
      "cell_type": "markdown",
      "metadata": {
        "id": "RSoXp-zGL_gd"
      },
      "source": [
        "# **ตัวแปร variable**"
      ]
    },
    {
      "cell_type": "markdown",
      "metadata": {
        "id": "e0nonrZyMJDc"
      },
      "source": [
        "## *หลักการตั้งชื่อตัวแปรเบื้องต้น*\r\n",
        "1. ตั้งให้สื่อ\r\n",
        "2. ภาษาอังกฤษ\r\n",
        "3. ใช้ตัวเลขได้แต่ห้ามขึ้นต้นด้วยตัวเลข\r\n",
        "4. ห้ามเว้นวรรค\r\n",
        "5. ตัวเล็กตัวใหญ่ไม่เหมือนกัน"
      ]
    },
    {
      "cell_type": "markdown",
      "metadata": {
        "id": "3-bOHUTgMzAs"
      },
      "source": [
        "# **มี output 2 mode: ออกหน้าจอ กับ เข้าไปในตัวแปร**"
      ]
    },
    {
      "cell_type": "code",
      "metadata": {
        "colab": {
          "base_uri": "https://localhost:8080/"
        },
        "id": "JQ37dsloNMfM",
        "outputId": "8760eae9-781a-48fa-eb55-d6caefffb0d5"
      },
      "source": [
        "3.14159   # hashtag หรือ sharp # คือ comment  >>> อันนี้คือ output ที่ออกหน้าจอ"
      ],
      "execution_count": 33,
      "outputs": [
        {
          "output_type": "execute_result",
          "data": {
            "text/plain": [
              "3.14159"
            ]
          },
          "metadata": {
            "tags": []
          },
          "execution_count": 33
        }
      ]
    },
    {
      "cell_type": "code",
      "metadata": {
        "id": "TQGJrk3lMSpL"
      },
      "source": [
        "pi = 3.14159 # อันนี้คือ output ที่เข้าไปอยู่ในตัวแปร"
      ],
      "execution_count": 34,
      "outputs": []
    },
    {
      "cell_type": "code",
      "metadata": {
        "colab": {
          "base_uri": "https://localhost:8080/"
        },
        "id": "ubWKN4dWKBxi",
        "outputId": "8b82ff4b-6ccf-4b7e-f2db-10dbfcc81ce5"
      },
      "source": [
        "pi\r\n"
      ],
      "execution_count": 35,
      "outputs": [
        {
          "output_type": "execute_result",
          "data": {
            "text/plain": [
              "3.14159"
            ]
          },
          "metadata": {
            "tags": []
          },
          "execution_count": 35
        }
      ]
    },
    {
      "cell_type": "code",
      "metadata": {
        "colab": {
          "base_uri": "https://localhost:8080/"
        },
        "id": "tXAw1DLQAls4",
        "outputId": "713c6857-27ab-4f64-c730-69cfc8fea476"
      },
      "source": [
        "a = 123456\r\n",
        "print(a)"
      ],
      "execution_count": 36,
      "outputs": [
        {
          "output_type": "stream",
          "text": [
            "123456\n"
          ],
          "name": "stdout"
        }
      ]
    },
    {
      "cell_type": "markdown",
      "metadata": {
        "id": "l6tQYTMmPJm7"
      },
      "source": [
        "# **ชนิดของตัวแปร 3 ชนิด**"
      ]
    },
    {
      "cell_type": "markdown",
      "metadata": {
        "id": "ac6dh7m-PONS"
      },
      "source": [
        "## *จำนวนเต็ม* *(integer, int)*"
      ]
    },
    {
      "cell_type": "code",
      "metadata": {
        "colab": {
          "base_uri": "https://localhost:8080/"
        },
        "id": "ewG_LbNTOwVT",
        "outputId": "49192587-3d33-43f8-fe3f-19088e2b41b3"
      },
      "source": [
        "aaa = 1092\r\n",
        "print(aaa)"
      ],
      "execution_count": 37,
      "outputs": [
        {
          "output_type": "stream",
          "text": [
            "1092\n"
          ],
          "name": "stdout"
        }
      ]
    },
    {
      "cell_type": "markdown",
      "metadata": {
        "id": "MRobl1jOPTVh"
      },
      "source": [
        "## *จำนวนจริง (float)*"
      ]
    },
    {
      "cell_type": "code",
      "metadata": {
        "colab": {
          "base_uri": "https://localhost:8080/"
        },
        "id": "k6hcv-M_PZRh",
        "outputId": "1e716c5e-420c-4d24-97a0-11ec36f4db9c"
      },
      "source": [
        "bbb = 11.\r\n",
        "print(bbb)"
      ],
      "execution_count": 38,
      "outputs": [
        {
          "output_type": "stream",
          "text": [
            "11.0\n"
          ],
          "name": "stdout"
        }
      ]
    },
    {
      "cell_type": "markdown",
      "metadata": {
        "id": "XFnQhDf5PgMR"
      },
      "source": [
        "# *ตัวอักษร-ข้อความ (character, taxt, string)*"
      ]
    },
    {
      "cell_type": "code",
      "metadata": {
        "colab": {
          "base_uri": "https://localhost:8080/"
        },
        "id": "t5DSDokwPoJp",
        "outputId": "6b930e24-e569-49ab-dbb2-c861354da9fb"
      },
      "source": [
        "ccc = '123456'# เราใช้ single qoute ' หรือ double qoute \" ล้อมรอบตัวหนังสือเพื่อระบุว่าเป็น character-string \r\n",
        "print(ccc)"
      ],
      "execution_count": 39,
      "outputs": [
        {
          "output_type": "stream",
          "text": [
            "123456\n"
          ],
          "name": "stdout"
        }
      ]
    },
    {
      "cell_type": "code",
      "metadata": {
        "colab": {
          "base_uri": "https://localhost:8080/"
        },
        "id": "Fx7JrhtjQB_O",
        "outputId": "979cd78e-cffa-4e01-ce8f-de56b87ded58"
      },
      "source": [
        "aaa + bbb  #float + int = float"
      ],
      "execution_count": 40,
      "outputs": [
        {
          "output_type": "execute_result",
          "data": {
            "text/plain": [
              "1103.0"
            ]
          },
          "metadata": {
            "tags": []
          },
          "execution_count": 40
        }
      ]
    },
    {
      "cell_type": "code",
      "metadata": {
        "colab": {
          "base_uri": "https://localhost:8080/",
          "height": 168
        },
        "id": "lGsbA3I2QTtZ",
        "outputId": "628ce9eb-c1a6-4054-f751-ca910aab9e17"
      },
      "source": [
        "bbb + ccc #จารย์บอกไม่ต้องสนใจ แต่ถ้าได้เขียนโค้ดอยู่แล้ว error เราต้องเอาไปเสริชในgoogleหาเอง หาว่ามันคือไร และเวลาอ่าน error ให้อ่านบรรทัดสุดท้าย"
      ],
      "execution_count": 61,
      "outputs": [
        {
          "output_type": "error",
          "ename": "TypeError",
          "evalue": "ignored",
          "traceback": [
            "\u001b[0;31m---------------------------------------------------------------------------\u001b[0m",
            "\u001b[0;31mTypeError\u001b[0m                                 Traceback (most recent call last)",
            "\u001b[0;32m<ipython-input-61-31fb9fab5d4c>\u001b[0m in \u001b[0;36m<module>\u001b[0;34m()\u001b[0m\n\u001b[0;32m----> 1\u001b[0;31m \u001b[0mbbb\u001b[0m \u001b[0;34m+\u001b[0m \u001b[0mccc\u001b[0m \u001b[0;31m###จารย์บอกไม่ต้องสนใจ แต่ถ้าได้เขียนโค้ดอยู่แล้ว error เราต้องเอาไปเสริชในgoogleหาเอง หาว่ามันคือไร และเวลาอ่าน error ให้อ่านบรรทัดสุดท้าย\u001b[0m\u001b[0;34m\u001b[0m\u001b[0;34m\u001b[0m\u001b[0m\n\u001b[0m",
            "\u001b[0;31mTypeError\u001b[0m: unsupported operand type(s) for +: 'float' and 'str'"
          ]
        }
      ]
    },
    {
      "cell_type": "code",
      "metadata": {
        "colab": {
          "base_uri": "https://localhost:8080/"
        },
        "id": "WrvS2ewzQpvC",
        "outputId": "bb811970-62a0-488a-93b8-b6299485c328"
      },
      "source": [
        "ddd = 'คนสวย'\r\n",
        "print(ddd)"
      ],
      "execution_count": 42,
      "outputs": [
        {
          "output_type": "stream",
          "text": [
            "คนสวย\n"
          ],
          "name": "stdout"
        }
      ]
    },
    {
      "cell_type": "markdown",
      "metadata": {
        "id": "1ZI_MttZQ0lR"
      },
      "source": [
        "# ***การเปลี่ยนชนิดของตัวแปร ***"
      ]
    },
    {
      "cell_type": "code",
      "metadata": {
        "colab": {
          "base_uri": "https://localhost:8080/"
        },
        "id": "frJBaO5wRFWg",
        "outputId": "d19d4f68-b598-44c4-b541-29c5b4e7eb25"
      },
      "source": [
        "bbb + int(ccc)  ###  ก็คือใส่ int"
      ],
      "execution_count": 43,
      "outputs": [
        {
          "output_type": "execute_result",
          "data": {
            "text/plain": [
              "123467.0"
            ]
          },
          "metadata": {
            "tags": []
          },
          "execution_count": 43
        }
      ]
    },
    {
      "cell_type": "code",
      "metadata": {
        "colab": {
          "base_uri": "https://localhost:8080/"
        },
        "id": "mgKXtTZHRj4Q",
        "outputId": "e8b8eb54-2954-4447-b3d7-d2390dd862e2"
      },
      "source": [
        "aaa + float (ccc) ### ใส่ float"
      ],
      "execution_count": 44,
      "outputs": [
        {
          "output_type": "execute_result",
          "data": {
            "text/plain": [
              "124548.0"
            ]
          },
          "metadata": {
            "tags": []
          },
          "execution_count": 44
        }
      ]
    },
    {
      "cell_type": "code",
      "metadata": {
        "colab": {
          "base_uri": "https://localhost:8080/",
          "height": 36
        },
        "id": "taHNmUDyRs4o",
        "outputId": "756bb8ba-44b7-487e-acd4-25dd99da51c7"
      },
      "source": [
        "str(aaa) ### ใส่ string"
      ],
      "execution_count": 45,
      "outputs": [
        {
          "output_type": "execute_result",
          "data": {
            "application/vnd.google.colaboratory.intrinsic+json": {
              "type": "string"
            },
            "text/plain": [
              "'1092'"
            ]
          },
          "metadata": {
            "tags": []
          },
          "execution_count": 45
        }
      ]
    },
    {
      "cell_type": "markdown",
      "metadata": {
        "id": "Q785fyhGSOCI"
      },
      "source": [
        "# การดำเนินการ Operation (Operaions +,-,*,/%) "
      ]
    },
    {
      "cell_type": "code",
      "metadata": {
        "colab": {
          "base_uri": "https://localhost:8080/",
          "height": 168
        },
        "id": "-OujjyciSHZw",
        "outputId": "c02b7e65-8afa-4f51-8f45-3611b7f03386"
      },
      "source": [
        "a+b ## เวลาอ่านให้เรา error อ่านบรรทัด สุดท้าย"
      ],
      "execution_count": 46,
      "outputs": [
        {
          "output_type": "error",
          "ename": "NameError",
          "evalue": "ignored",
          "traceback": [
            "\u001b[0;31m---------------------------------------------------------------------------\u001b[0m",
            "\u001b[0;31mNameError\u001b[0m                                 Traceback (most recent call last)",
            "\u001b[0;32m<ipython-input-46-1d3f359050c3>\u001b[0m in \u001b[0;36m<module>\u001b[0;34m()\u001b[0m\n\u001b[0;32m----> 1\u001b[0;31m \u001b[0ma\u001b[0m\u001b[0;34m+\u001b[0m\u001b[0mb\u001b[0m \u001b[0;31m## เวลาอ่านให้เรา error อ่านบรรทัด สุดท้าย\u001b[0m\u001b[0;34m\u001b[0m\u001b[0;34m\u001b[0m\u001b[0m\n\u001b[0m",
            "\u001b[0;31mNameError\u001b[0m: name 'b' is not defined"
          ]
        }
      ]
    },
    {
      "cell_type": "code",
      "metadata": {
        "colab": {
          "base_uri": "https://localhost:8080/"
        },
        "id": "lgYWcBYQSxi_",
        "outputId": "d5544ebd-3c19-41a8-fe06-e9b3fc8b353c"
      },
      "source": [
        "aaa + bbb\r\n"
      ],
      "execution_count": null,
      "outputs": [
        {
          "output_type": "execute_result",
          "data": {
            "text/plain": [
              "1103.0"
            ]
          },
          "metadata": {
            "tags": []
          },
          "execution_count": 45
        }
      ]
    },
    {
      "cell_type": "code",
      "metadata": {
        "colab": {
          "base_uri": "https://localhost:8080/"
        },
        "id": "xmOZGUPmS1tP",
        "outputId": "83d58d27-6a5d-4767-d827-7b660159b239"
      },
      "source": [
        "aaa-bbb"
      ],
      "execution_count": null,
      "outputs": [
        {
          "output_type": "execute_result",
          "data": {
            "text/plain": [
              "1081.0"
            ]
          },
          "metadata": {
            "tags": []
          },
          "execution_count": 46
        }
      ]
    },
    {
      "cell_type": "code",
      "metadata": {
        "colab": {
          "base_uri": "https://localhost:8080/"
        },
        "id": "1I_NLX4fS6AH",
        "outputId": "62749adb-5469-4e8f-f455-d1c5167925aa"
      },
      "source": [
        "ab = aaa*bbb\r\n",
        "print(ab)"
      ],
      "execution_count": null,
      "outputs": [
        {
          "output_type": "stream",
          "text": [
            "12012.0\n"
          ],
          "name": "stdout"
        }
      ]
    },
    {
      "cell_type": "code",
      "metadata": {
        "colab": {
          "base_uri": "https://localhost:8080/"
        },
        "id": "WjgvI1YYTE9I",
        "outputId": "303a04dc-fab0-42dd-8289-c02467ca9081"
      },
      "source": [
        "ab+int(ccc)"
      ],
      "execution_count": null,
      "outputs": [
        {
          "output_type": "execute_result",
          "data": {
            "text/plain": [
              "135468.0"
            ]
          },
          "metadata": {
            "tags": []
          },
          "execution_count": 48
        }
      ]
    },
    {
      "cell_type": "markdown",
      "metadata": {
        "id": "hgXifGVOTKWP"
      },
      "source": [
        "## ***% คือ modulo หารเอาเศษ***"
      ]
    },
    {
      "cell_type": "code",
      "metadata": {
        "colab": {
          "base_uri": "https://localhost:8080/"
        },
        "id": "-7EU28v8Tg3G",
        "outputId": "5a320ecb-6659-409e-81a8-b605fc2e8832"
      },
      "source": [
        "5%3"
      ],
      "execution_count": null,
      "outputs": [
        {
          "output_type": "execute_result",
          "data": {
            "text/plain": [
              "2"
            ]
          },
          "metadata": {
            "tags": []
          },
          "execution_count": 24
        }
      ]
    },
    {
      "cell_type": "code",
      "metadata": {
        "colab": {
          "base_uri": "https://localhost:8080/"
        },
        "id": "d4fbB5MDTnD2",
        "outputId": "a3091084-ee78-404c-c78a-6a635b01d32d"
      },
      "source": [
        "7%3"
      ],
      "execution_count": null,
      "outputs": [
        {
          "output_type": "execute_result",
          "data": {
            "text/plain": [
              "1"
            ]
          },
          "metadata": {
            "tags": []
          },
          "execution_count": 25
        }
      ]
    },
    {
      "cell_type": "markdown",
      "metadata": {
        "id": "8EsV5VncTtMm"
      },
      "source": [
        "# **คำสั่ง print แบบพิเศษ (การ format string)**"
      ]
    },
    {
      "cell_type": "code",
      "metadata": {
        "colab": {
          "base_uri": "https://localhost:8080/"
        },
        "id": "9YWCkkXjGLS_",
        "outputId": "beef52dc-e3b0-4b81-f454-7c5ef8bfddf2"
      },
      "source": [
        "print('ตัวแปร') #สิ่งที่อยู่ข้างในวงเล็บคือ ตัวแปร และ string"
      ],
      "execution_count": null,
      "outputs": [
        {
          "output_type": "stream",
          "text": [
            "ตัวแปร\n"
          ],
          "name": "stdout"
        }
      ]
    },
    {
      "cell_type": "code",
      "metadata": {
        "colab": {
          "base_uri": "https://localhost:8080/"
        },
        "id": "N-gNq-05GN0W",
        "outputId": "1da03d48-3dbd-4b18-dbab-c10b15405d96"
      },
      "source": [
        "print(f'% คือการหารเอาเศษ เช่น 7%3 = {7%3}') # เพิ่ม f หน้า 'string' และใช้ {} ใส่ code"
      ],
      "execution_count": null,
      "outputs": [
        {
          "output_type": "stream",
          "text": [
            "% คือการหารเอาเศษ เช่น 7%3 = 1\n"
          ],
          "name": "stdout"
        }
      ]
    },
    {
      "cell_type": "code",
      "metadata": {
        "colab": {
          "base_uri": "https://localhost:8080/"
        },
        "id": "gsSmtEIVGlWl",
        "outputId": "5fe0f7f6-a147-4099-c18d-c510ea0b5b5d"
      },
      "source": [
        "print(f'% คือการหารเอาเศษ เช่น 7%3 = {7%3} \\\r\n",
        "    แต่\\n/ คือการหารปกติ เช่น 7/3 = {7/3}  \\\r\n",
        "    และ\\n// คือการหารเอาส่วน เช่น 7//3 = {7//3} \\\r\n",
        "    หรือ\\nใช้ int() เพื่อหารเอาส่วน เช่น int(7/3) = {int(7/3)}') # \\n คือการขึ้นบรรทัดใหม่ \\ ใช้ในการตัด code แต่ com จะไม่เห็น"
      ],
      "execution_count": null,
      "outputs": [
        {
          "output_type": "stream",
          "text": [
            "% คือการหารเอาเศษ เช่น 7%3 = 1     แต่\n",
            "/ คือการหารปกติ เช่น 7/3 = 2.3333333333333335      และ\n",
            "// คือการหารเอาส่วน เช่น 7//3 = 2     หรือ\n",
            "ใช้ int() เพื่อหารเอาส่วน เช่น int(7/3) = 2\n"
          ],
          "name": "stdout"
        }
      ]
    },
    {
      "cell_type": "markdown",
      "metadata": {
        "id": "WtfEyy90HThm"
      },
      "source": [
        "# **DATA STRUCTURE (โครงสร้างข้อมูล)**"
      ]
    },
    {
      "cell_type": "code",
      "metadata": {
        "colab": {
          "base_uri": "https://localhost:8080/"
        },
        "id": "syXPrxwOOjCT",
        "outputId": "097e831b-8c43-4f43-d7bc-e1b2dbbf860c"
      },
      "source": [
        "[111,'c','เจ้าหมิว',aaa] ##เราสามารถใส่ ตัวเลข ตัวอักษร ข้อความ และ code ได้ ใน 1 list [] ก็คือ list นะจร๊"
      ],
      "execution_count": 60,
      "outputs": [
        {
          "output_type": "execute_result",
          "data": {
            "text/plain": [
              "[111, 'c', 'เจ้าหมิว', 1092]"
            ]
          },
          "metadata": {
            "tags": []
          },
          "execution_count": 60
        }
      ]
    },
    {
      "cell_type": "markdown",
      "metadata": {
        "id": "b-JH5l_tHeek"
      },
      "source": [
        "# **List คือ การเอาข้อมูลหลายๆตัวมาเรียงต่อกัน**"
      ]
    },
    {
      "cell_type": "markdown",
      "metadata": {
        "id": "hlM0SW-oHjdN"
      },
      "source": [
        "### *list สามารถสร้างได้ 2 แบบ ดังนี้*"
      ]
    },
    {
      "cell_type": "markdown",
      "metadata": {
        "id": "MKr0uf5yJSk9"
      },
      "source": [
        "*แบบที่1 > square brackets*"
      ]
    },
    {
      "cell_type": "code",
      "metadata": {
        "colab": {
          "base_uri": "https://localhost:8080/"
        },
        "id": "uTmSDED3Ns19",
        "outputId": "53656b10-7499-4f3f-d2db-8168c485ccd5"
      },
      "source": [
        "list_a = []\r\n",
        "print(list_a) "
      ],
      "execution_count": 28,
      "outputs": [
        {
          "output_type": "stream",
          "text": [
            "[]\n"
          ],
          "name": "stdout"
        }
      ]
    },
    {
      "cell_type": "code",
      "metadata": {
        "colab": {
          "base_uri": "https://localhost:8080/"
        },
        "id": "UiUwhHe1N3YS",
        "outputId": "6e374910-34bc-4c4f-8f78-ddb25c9771fc"
      },
      "source": [
        "list_b = [111,'c','เจ้าหมิว',aaa]\r\n",
        "print(list_b)"
      ],
      "execution_count": 51,
      "outputs": [
        {
          "output_type": "stream",
          "text": [
            "[111, 'c', 'เจ้าหมิว', 1092]\n"
          ],
          "name": "stdout"
        }
      ]
    },
    {
      "cell_type": "markdown",
      "metadata": {
        "id": "eXQfWVdnJkYF"
      },
      "source": [
        "### *ลำดับที่อยู่ใน list มีความสำคัญ (ลำดับใน list เริ่มจาก 0,1,2,...)*"
      ]
    },
    {
      "cell_type": "code",
      "metadata": {
        "colab": {
          "base_uri": "https://localhost:8080/",
          "height": 36
        },
        "id": "k2tAFfFgOF9N",
        "outputId": "7810c59f-8029-49c7-ff90-8555993e5d3d"
      },
      "source": [
        "list_b[2]"
      ],
      "execution_count": 52,
      "outputs": [
        {
          "output_type": "execute_result",
          "data": {
            "application/vnd.google.colaboratory.intrinsic+json": {
              "type": "string"
            },
            "text/plain": [
              "'เจ้าหมิว'"
            ]
          },
          "metadata": {
            "tags": []
          },
          "execution_count": 52
        }
      ]
    },
    {
      "cell_type": "markdown",
      "metadata": {
        "id": "l3AjHqGJKM6K"
      },
      "source": [
        "### *แบบที่2*"
      ]
    },
    {
      "cell_type": "code",
      "metadata": {
        "colab": {
          "base_uri": "https://localhost:8080/"
        },
        "id": "Ndp-Yv5yKRji",
        "outputId": "d0488fe2-7f4f-4423-b41d-86a82ea218b6"
      },
      "source": [
        "list_c = list()\r\n",
        "print(list_c)"
      ],
      "execution_count": 53,
      "outputs": [
        {
          "output_type": "stream",
          "text": [
            "[]\n"
          ],
          "name": "stdout"
        }
      ]
    },
    {
      "cell_type": "markdown",
      "metadata": {
        "id": "q6PExAH7KmJi"
      },
      "source": [
        "\r\n",
        "# **append() เพิ่มสมาชิกใน list**"
      ]
    },
    {
      "cell_type": "code",
      "metadata": {
        "colab": {
          "base_uri": "https://localhost:8080/"
        },
        "id": "Eomhx1nLKrvh",
        "outputId": "8206c4d0-6d51-410d-fd11-cf587861c631"
      },
      "source": [
        "\r\n",
        "list_b.append('u')\r\n",
        "print(list_b)"
      ],
      "execution_count": 54,
      "outputs": [
        {
          "output_type": "stream",
          "text": [
            "[111, 'c', 'เจ้าหมิว', 1092, 'u']\n"
          ],
          "name": "stdout"
        }
      ]
    },
    {
      "cell_type": "markdown",
      "metadata": {
        "id": "IE0fac3hKvxx"
      },
      "source": [
        "ตัวที่อยู่ในวงเล็บหลังจากตัวแปร list เรียกว่า index ใช้สำหรับชี้ข้อมูลใน list\r\n",
        "\r\n",
        "(ชี้จากข้างหน้า,ชี้จากข้างหลัง)\r\n",
        "\r\n",
        "0 คือสมาชิกตัวแรก , -1 คือสมาชิกตัวสุดท้าย"
      ]
    },
    {
      "cell_type": "code",
      "metadata": {
        "colab": {
          "base_uri": "https://localhost:8080/",
          "height": 36
        },
        "id": "gsuxewh5K1LS",
        "outputId": "89633a4a-f5ed-4305-832b-add32adfcb4c"
      },
      "source": [
        "list_b[-1]"
      ],
      "execution_count": 55,
      "outputs": [
        {
          "output_type": "execute_result",
          "data": {
            "application/vnd.google.colaboratory.intrinsic+json": {
              "type": "string"
            },
            "text/plain": [
              "'u'"
            ]
          },
          "metadata": {
            "tags": []
          },
          "execution_count": 55
        }
      ]
    },
    {
      "cell_type": "markdown",
      "metadata": {
        "id": "6omgC8GBK5qD"
      },
      "source": [
        "\r\n",
        "# **String > list of characters**"
      ]
    },
    {
      "cell_type": "code",
      "metadata": {
        "colab": {
          "base_uri": "https://localhost:8080/"
        },
        "id": "6sPNWkcTK9za",
        "outputId": "e821651b-62e9-4a82-c80f-b2c9247da3b8"
      },
      "source": [
        "t = 'python is easy'\r\n",
        "print(t)"
      ],
      "execution_count": 56,
      "outputs": [
        {
          "output_type": "stream",
          "text": [
            "python is easy\n"
          ],
          "name": "stdout"
        }
      ]
    },
    {
      "cell_type": "code",
      "metadata": {
        "colab": {
          "base_uri": "https://localhost:8080/",
          "height": 36
        },
        "id": "aJG3Zb4-LHgx",
        "outputId": "189688be-67bb-454e-f34e-5a9cb934ac68"
      },
      "source": [
        "t[1]"
      ],
      "execution_count": 57,
      "outputs": [
        {
          "output_type": "execute_result",
          "data": {
            "application/vnd.google.colaboratory.intrinsic+json": {
              "type": "string"
            },
            "text/plain": [
              "'y'"
            ]
          },
          "metadata": {
            "tags": []
          },
          "execution_count": 57
        }
      ]
    },
    {
      "cell_type": "code",
      "metadata": {
        "colab": {
          "base_uri": "https://localhost:8080/",
          "height": 36
        },
        "id": "IhQqQBybLLf0",
        "outputId": "34495e6d-7341-4d52-ed19-04294308d58e"
      },
      "source": [
        "t[-4]"
      ],
      "execution_count": 58,
      "outputs": [
        {
          "output_type": "execute_result",
          "data": {
            "application/vnd.google.colaboratory.intrinsic+json": {
              "type": "string"
            },
            "text/plain": [
              "'e'"
            ]
          },
          "metadata": {
            "tags": []
          },
          "execution_count": 58
        }
      ]
    },
    {
      "cell_type": "code",
      "metadata": {
        "colab": {
          "base_uri": "https://localhost:8080/",
          "height": 36
        },
        "id": "vNXEhO81LZab",
        "outputId": "5bacc24a-e9a4-445a-ba31-89b0097a1b68"
      },
      "source": [
        "t[6]"
      ],
      "execution_count": 59,
      "outputs": [
        {
          "output_type": "execute_result",
          "data": {
            "application/vnd.google.colaboratory.intrinsic+json": {
              "type": "string"
            },
            "text/plain": [
              "' '"
            ]
          },
          "metadata": {
            "tags": []
          },
          "execution_count": 59
        }
      ]
    },
    {
      "cell_type": "markdown",
      "metadata": {
        "id": "kl8VLXGfLokD"
      },
      "source": [
        "\r\n",
        "# **จบ 5/ม.ค/2021 (จบสักที อาจารย์คือแร็ปรัวมากค่าาา 555+)**"
      ]
    }
  ]
}