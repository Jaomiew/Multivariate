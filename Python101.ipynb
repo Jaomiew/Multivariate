{
  "nbformat": 4,
  "nbformat_minor": 0,
  "metadata": {
    "colab": {
      "name": "Python101.ipynb",
      "provenance": [],
      "authorship_tag": "ABX9TyMMIhp2tSrrbmg6uJFjc9OB",
      "include_colab_link": true
    },
    "kernelspec": {
      "name": "python3",
      "display_name": "Python 3"
    }
  },
  "cells": [
    {
      "cell_type": "markdown",
      "metadata": {
        "id": "view-in-github",
        "colab_type": "text"
      },
      "source": [
        "<a href=\"https://colab.research.google.com/github/Jaomiew/Multivariate/blob/main/Python101.ipynb\" target=\"_parent\"><img src=\"https://colab.research.google.com/assets/colab-badge.svg\" alt=\"Open In Colab\"/></a>"
      ]
    },
    {
      "cell_type": "markdown",
      "metadata": {
        "id": "RSoXp-zGL_gd"
      },
      "source": [
        "# **ตัวแปร variable**"
      ]
    },
    {
      "cell_type": "markdown",
      "metadata": {
        "id": "e0nonrZyMJDc"
      },
      "source": [
        "## *หลักการตั้งชื่อตัวแปรเบื้องต้น*\r\n",
        "1. ตั้งให้สื่อ\r\n",
        "2. ภาษาอังกฤษ\r\n",
        "3. ใช้ตัวเลขได้แต่ห้ามขึ้นต้นด้วยตัวเลข\r\n",
        "4. ห้ามเว้นวรรค\r\n",
        "5. ตัวเล็กตัวใหญ่ไม่เหมือนกัน"
      ]
    },
    {
      "cell_type": "markdown",
      "metadata": {
        "id": "3-bOHUTgMzAs"
      },
      "source": [
        "# **มี output 2 mode: ออกหน้าจอ กับ เข้าไปในตัวแปร**"
      ]
    },
    {
      "cell_type": "code",
      "metadata": {
        "colab": {
          "base_uri": "https://localhost:8080/"
        },
        "id": "JQ37dsloNMfM",
        "outputId": "c9a57a33-7984-4c7c-e634-8c41fbab581c"
      },
      "source": [
        "3.14159   # hashtag หรือ sharp # คือ comment  >>> อันนี้คือ output ที่ออกหน้าจอ"
      ],
      "execution_count": 23,
      "outputs": [
        {
          "output_type": "execute_result",
          "data": {
            "text/plain": [
              "3.14159"
            ]
          },
          "metadata": {
            "tags": []
          },
          "execution_count": 23
        }
      ]
    },
    {
      "cell_type": "code",
      "metadata": {
        "id": "TQGJrk3lMSpL"
      },
      "source": [
        "pi = 3.14159 # อันนี้คือ output ที่เข้าไปอยู่ในตัวแปร"
      ],
      "execution_count": 24,
      "outputs": []
    },
    {
      "cell_type": "code",
      "metadata": {
        "colab": {
          "base_uri": "https://localhost:8080/"
        },
        "id": "ubWKN4dWKBxi",
        "outputId": "947bdcaf-e689-4148-b33d-c07ca3ca9a25"
      },
      "source": [
        "pi\r\n"
      ],
      "execution_count": 25,
      "outputs": [
        {
          "output_type": "execute_result",
          "data": {
            "text/plain": [
              "3.14159"
            ]
          },
          "metadata": {
            "tags": []
          },
          "execution_count": 25
        }
      ]
    },
    {
      "cell_type": "code",
      "metadata": {
        "colab": {
          "base_uri": "https://localhost:8080/"
        },
        "id": "tXAw1DLQAls4",
        "outputId": "75aeeff4-4907-493a-b5a4-56ea1895b40a"
      },
      "source": [
        "a = 123456\r\n",
        "print(a)"
      ],
      "execution_count": 22,
      "outputs": [
        {
          "output_type": "stream",
          "text": [
            "123456\n"
          ],
          "name": "stdout"
        }
      ]
    },
    {
      "cell_type": "markdown",
      "metadata": {
        "id": "l6tQYTMmPJm7"
      },
      "source": [
        "# **ชนิดของตัวแปร 3 ชนิด**"
      ]
    },
    {
      "cell_type": "markdown",
      "metadata": {
        "id": "ac6dh7m-PONS"
      },
      "source": [
        "## *จำนวนเต็ม* *(integer, int)*"
      ]
    },
    {
      "cell_type": "code",
      "metadata": {
        "colab": {
          "base_uri": "https://localhost:8080/"
        },
        "id": "ewG_LbNTOwVT",
        "outputId": "508e165a-c558-4a00-b7d0-3ede496f8757"
      },
      "source": [
        "aaa = 1092\r\n",
        "print(aaa)"
      ],
      "execution_count": 21,
      "outputs": [
        {
          "output_type": "stream",
          "text": [
            "1092\n"
          ],
          "name": "stdout"
        }
      ]
    },
    {
      "cell_type": "markdown",
      "metadata": {
        "id": "MRobl1jOPTVh"
      },
      "source": [
        "## *จำนวนจริง (float)*"
      ]
    },
    {
      "cell_type": "code",
      "metadata": {
        "colab": {
          "base_uri": "https://localhost:8080/"
        },
        "id": "k6hcv-M_PZRh",
        "outputId": "49b260f0-9250-4261-d6c5-08b91ef92813"
      },
      "source": [
        "bbb = 11.\r\n",
        "print(bbb)"
      ],
      "execution_count": 20,
      "outputs": [
        {
          "output_type": "stream",
          "text": [
            "11.0\n"
          ],
          "name": "stdout"
        }
      ]
    },
    {
      "cell_type": "markdown",
      "metadata": {
        "id": "XFnQhDf5PgMR"
      },
      "source": [
        "# *ตัวอักษร-ข้อความ (character, taxt, string)*"
      ]
    },
    {
      "cell_type": "code",
      "metadata": {
        "colab": {
          "base_uri": "https://localhost:8080/"
        },
        "id": "t5DSDokwPoJp",
        "outputId": "d0be9db9-5709-4bb1-bb6a-a43c2fc4a12e"
      },
      "source": [
        "ccc = '123456'# เราใช้ single qoute ' หรือ double qoute \" ล้อมรอบตัวหนังสือเพื่อระบุว่าเป็น character-string \r\n",
        "print(ccc)"
      ],
      "execution_count": 19,
      "outputs": [
        {
          "output_type": "stream",
          "text": [
            "123456\n"
          ],
          "name": "stdout"
        }
      ]
    },
    {
      "cell_type": "code",
      "metadata": {
        "colab": {
          "base_uri": "https://localhost:8080/",
          "height": 161
        },
        "id": "Fx7JrhtjQB_O",
        "outputId": "35ddd54a-c620-4f17-f146-ca9ba7a461b7"
      },
      "source": [
        "aaa + bbb  #float + int = float"
      ],
      "execution_count": 18,
      "outputs": [
        {
          "output_type": "error",
          "ename": "NameError",
          "evalue": "ignored",
          "traceback": [
            "\u001b[0;31m---------------------------------------------------------------------------\u001b[0m",
            "\u001b[0;31mNameError\u001b[0m                                 Traceback (most recent call last)",
            "\u001b[0;32m<ipython-input-18-e947bfa661c1>\u001b[0m in \u001b[0;36m<module>\u001b[0;34m()\u001b[0m\n\u001b[0;32m----> 1\u001b[0;31m \u001b[0maaa\u001b[0m \u001b[0;34m+\u001b[0m \u001b[0mbbb\u001b[0m  \u001b[0;31m#float + int = float\u001b[0m\u001b[0;34m\u001b[0m\u001b[0;34m\u001b[0m\u001b[0m\n\u001b[0m",
            "\u001b[0;31mNameError\u001b[0m: name 'aaa' is not defined"
          ]
        }
      ]
    },
    {
      "cell_type": "code",
      "metadata": {
        "colab": {
          "base_uri": "https://localhost:8080/",
          "height": 161
        },
        "id": "lGsbA3I2QTtZ",
        "outputId": "c9bd78e9-27bb-4baa-c62e-e84a4b66af38"
      },
      "source": [
        "bbb + ccc #จารย์บอกไม่ต้องสนใจ แต่ถ้าได้เขียนโค้ดอยู่แล้ว error เราต้องเอาไปเสริชในgoogleหาเอง หาว่ามันคือไร และเวลาอ่าน error ให้อ่านบรรทัดสุดท้าย"
      ],
      "execution_count": 17,
      "outputs": [
        {
          "output_type": "error",
          "ename": "NameError",
          "evalue": "ignored",
          "traceback": [
            "\u001b[0;31m---------------------------------------------------------------------------\u001b[0m",
            "\u001b[0;31mNameError\u001b[0m                                 Traceback (most recent call last)",
            "\u001b[0;32m<ipython-input-17-cb98f434b847>\u001b[0m in \u001b[0;36m<module>\u001b[0;34m()\u001b[0m\n\u001b[0;32m----> 1\u001b[0;31m \u001b[0mbbb\u001b[0m \u001b[0;34m+\u001b[0m \u001b[0mccc\u001b[0m \u001b[0;31m#จารย์บอกไม่ต้องสนใจ แต่ถ้าได้เขียนโค้ดอยู่แล้ว error เราต้องเอาไปเสริชในgoogleหาเอง หาว่ามันคือไร และเวลาอ่าน error ให้อ่านบรรทัดสุดท้าย\u001b[0m\u001b[0;34m\u001b[0m\u001b[0;34m\u001b[0m\u001b[0m\n\u001b[0m",
            "\u001b[0;31mNameError\u001b[0m: name 'bbb' is not defined"
          ]
        }
      ]
    },
    {
      "cell_type": "code",
      "metadata": {
        "colab": {
          "base_uri": "https://localhost:8080/"
        },
        "id": "WrvS2ewzQpvC",
        "outputId": "f6d81476-4083-48b0-b3aa-ed767fe26c77"
      },
      "source": [
        "ddd = 'คนสวย'\r\n",
        "print(ddd)"
      ],
      "execution_count": 26,
      "outputs": [
        {
          "output_type": "stream",
          "text": [
            "คนสวย\n"
          ],
          "name": "stdout"
        }
      ]
    },
    {
      "cell_type": "markdown",
      "metadata": {
        "id": "1ZI_MttZQ0lR"
      },
      "source": [
        "# ***การเปลี่ยนชนิดของตัวแปร ***"
      ]
    },
    {
      "cell_type": "code",
      "metadata": {
        "colab": {
          "base_uri": "https://localhost:8080/"
        },
        "id": "frJBaO5wRFWg",
        "outputId": "0a4015ec-2af4-4e1f-acb1-1585d4cf4331"
      },
      "source": [
        "bbb + int(ccc)  ###  ก็คือใส่ int"
      ],
      "execution_count": 27,
      "outputs": [
        {
          "output_type": "execute_result",
          "data": {
            "text/plain": [
              "123467.0"
            ]
          },
          "metadata": {
            "tags": []
          },
          "execution_count": 27
        }
      ]
    },
    {
      "cell_type": "code",
      "metadata": {
        "colab": {
          "base_uri": "https://localhost:8080/"
        },
        "id": "mgKXtTZHRj4Q",
        "outputId": "6b92d9bc-4009-41df-a784-d19eb4e30b38"
      },
      "source": [
        "aaa + float (ccc) ### ใส่ float"
      ],
      "execution_count": 28,
      "outputs": [
        {
          "output_type": "execute_result",
          "data": {
            "text/plain": [
              "124548.0"
            ]
          },
          "metadata": {
            "tags": []
          },
          "execution_count": 28
        }
      ]
    },
    {
      "cell_type": "code",
      "metadata": {
        "colab": {
          "base_uri": "https://localhost:8080/",
          "height": 35
        },
        "id": "taHNmUDyRs4o",
        "outputId": "3797b0e3-b516-4c74-fff5-dcf1e3e2adb4"
      },
      "source": [
        "str(aaa) ### ใส่ string"
      ],
      "execution_count": 29,
      "outputs": [
        {
          "output_type": "execute_result",
          "data": {
            "application/vnd.google.colaboratory.intrinsic+json": {
              "type": "string"
            },
            "text/plain": [
              "'1092'"
            ]
          },
          "metadata": {
            "tags": []
          },
          "execution_count": 29
        }
      ]
    },
    {
      "cell_type": "markdown",
      "metadata": {
        "id": "Q785fyhGSOCI"
      },
      "source": [
        "# การดำเนินการ Operation (Operaions +,-,*,/%) "
      ]
    },
    {
      "cell_type": "code",
      "metadata": {
        "colab": {
          "base_uri": "https://localhost:8080/",
          "height": 161
        },
        "id": "-OujjyciSHZw",
        "outputId": "ad50b62d-8eff-44e2-8867-857c7fbdb3a3"
      },
      "source": [
        "a+b ## เวลาอ่านให้เรา error อ่านบรรทัด สุดท้าย"
      ],
      "execution_count": 13,
      "outputs": [
        {
          "output_type": "error",
          "ename": "NameError",
          "evalue": "ignored",
          "traceback": [
            "\u001b[0;31m---------------------------------------------------------------------------\u001b[0m",
            "\u001b[0;31mNameError\u001b[0m                                 Traceback (most recent call last)",
            "\u001b[0;32m<ipython-input-13-1d3f359050c3>\u001b[0m in \u001b[0;36m<module>\u001b[0;34m()\u001b[0m\n\u001b[0;32m----> 1\u001b[0;31m \u001b[0ma\u001b[0m\u001b[0;34m+\u001b[0m\u001b[0mb\u001b[0m \u001b[0;31m## เวลาอ่านให้เรา error อ่านบรรทัด สุดท้าย\u001b[0m\u001b[0;34m\u001b[0m\u001b[0;34m\u001b[0m\u001b[0m\n\u001b[0m",
            "\u001b[0;31mNameError\u001b[0m: name 'a' is not defined"
          ]
        }
      ]
    },
    {
      "cell_type": "code",
      "metadata": {
        "colab": {
          "base_uri": "https://localhost:8080/"
        },
        "id": "lgYWcBYQSxi_",
        "outputId": "c8462b7c-ca88-4b76-eece-e4022bb3b067"
      },
      "source": [
        "aaa + bbb\r\n"
      ],
      "execution_count": 30,
      "outputs": [
        {
          "output_type": "execute_result",
          "data": {
            "text/plain": [
              "1103.0"
            ]
          },
          "metadata": {
            "tags": []
          },
          "execution_count": 30
        }
      ]
    },
    {
      "cell_type": "code",
      "metadata": {
        "colab": {
          "base_uri": "https://localhost:8080/"
        },
        "id": "xmOZGUPmS1tP",
        "outputId": "83b4fc18-be05-4ad6-db8d-27a7ff20aaf2"
      },
      "source": [
        "aaa-bbb"
      ],
      "execution_count": 31,
      "outputs": [
        {
          "output_type": "execute_result",
          "data": {
            "text/plain": [
              "1081.0"
            ]
          },
          "metadata": {
            "tags": []
          },
          "execution_count": 31
        }
      ]
    },
    {
      "cell_type": "code",
      "metadata": {
        "colab": {
          "base_uri": "https://localhost:8080/"
        },
        "id": "1I_NLX4fS6AH",
        "outputId": "3e9f0f14-7c94-4c53-ca25-b85c5ff8f25e"
      },
      "source": [
        "ab = aaa*bbb\r\n",
        "print(ab)"
      ],
      "execution_count": 32,
      "outputs": [
        {
          "output_type": "stream",
          "text": [
            "12012.0\n"
          ],
          "name": "stdout"
        }
      ]
    },
    {
      "cell_type": "code",
      "metadata": {
        "colab": {
          "base_uri": "https://localhost:8080/"
        },
        "id": "WjgvI1YYTE9I",
        "outputId": "28a321e1-e07f-4145-c5d0-9d2fba51086f"
      },
      "source": [
        "ab+int(ccc)"
      ],
      "execution_count": 33,
      "outputs": [
        {
          "output_type": "execute_result",
          "data": {
            "text/plain": [
              "135468.0"
            ]
          },
          "metadata": {
            "tags": []
          },
          "execution_count": 33
        }
      ]
    },
    {
      "cell_type": "markdown",
      "metadata": {
        "id": "hgXifGVOTKWP"
      },
      "source": [
        "## ***% คือ modulo หารเอาเศษ***"
      ]
    },
    {
      "cell_type": "code",
      "metadata": {
        "colab": {
          "base_uri": "https://localhost:8080/"
        },
        "id": "-7EU28v8Tg3G",
        "outputId": "de2cad49-a247-4004-b28b-e2dcdf0741db"
      },
      "source": [
        "5%3"
      ],
      "execution_count": 34,
      "outputs": [
        {
          "output_type": "execute_result",
          "data": {
            "text/plain": [
              "2"
            ]
          },
          "metadata": {
            "tags": []
          },
          "execution_count": 34
        }
      ]
    },
    {
      "cell_type": "code",
      "metadata": {
        "colab": {
          "base_uri": "https://localhost:8080/"
        },
        "id": "d4fbB5MDTnD2",
        "outputId": "7796b4e6-d3eb-45e4-bfc4-a4d473a1f7dc"
      },
      "source": [
        "7%3"
      ],
      "execution_count": 35,
      "outputs": [
        {
          "output_type": "execute_result",
          "data": {
            "text/plain": [
              "1"
            ]
          },
          "metadata": {
            "tags": []
          },
          "execution_count": 35
        }
      ]
    },
    {
      "cell_type": "markdown",
      "metadata": {
        "id": "8EsV5VncTtMm"
      },
      "source": [
        "# **คำสั่ง print แบบพิเศษ (การ format string)**"
      ]
    },
    {
      "cell_type": "code",
      "metadata": {
        "colab": {
          "base_uri": "https://localhost:8080/"
        },
        "id": "9YWCkkXjGLS_",
        "outputId": "61b2f168-4882-437f-8624-8c1315ff93d8"
      },
      "source": [
        "print('ตัวแปร') #สิ่งที่อยู่ข้างในวงเล็บคือ ตัวแปร และ string"
      ],
      "execution_count": 36,
      "outputs": [
        {
          "output_type": "stream",
          "text": [
            "ตัวแปร\n"
          ],
          "name": "stdout"
        }
      ]
    },
    {
      "cell_type": "code",
      "metadata": {
        "colab": {
          "base_uri": "https://localhost:8080/"
        },
        "id": "N-gNq-05GN0W",
        "outputId": "a97d4878-a1d8-41cb-e755-621ca8e5a8a0"
      },
      "source": [
        "print(f'% คือการหารเอาเศษ เช่น 7%3 = {7%3}') # เพิ่ม f หน้า 'string' และใช้ {} ใส่ code"
      ],
      "execution_count": 37,
      "outputs": [
        {
          "output_type": "stream",
          "text": [
            "% คือการหารเอาเศษ เช่น 7%3 = 1\n"
          ],
          "name": "stdout"
        }
      ]
    },
    {
      "cell_type": "code",
      "metadata": {
        "colab": {
          "base_uri": "https://localhost:8080/"
        },
        "id": "gsSmtEIVGlWl",
        "outputId": "f881129b-9549-460a-8f8e-fa5836c1f0f5"
      },
      "source": [
        "print(f'% คือการหารเอาเศษ เช่น 7%3 = {7%3} \\\r\n",
        "    แต่\\n/ คือการหารปกติ เช่น 7/3 = {7/3}  \\\r\n",
        "    และ\\n// คือการหารเอาส่วน เช่น 7//3 = {7//3} \\\r\n",
        "    หรือ\\nใช้ int() เพื่อหารเอาส่วน เช่น int(7/3) = {int(7/3)}') # \\n คือการขึ้นบรรทัดใหม่ \\ ใช้ในการตัด code แต่ com จะไม่เห็น"
      ],
      "execution_count": 38,
      "outputs": [
        {
          "output_type": "stream",
          "text": [
            "% คือการหารเอาเศษ เช่น 7%3 = 1     แต่\n",
            "/ คือการหารปกติ เช่น 7/3 = 2.3333333333333335      และ\n",
            "// คือการหารเอาส่วน เช่น 7//3 = 2     หรือ\n",
            "ใช้ int() เพื่อหารเอาส่วน เช่น int(7/3) = 2\n"
          ],
          "name": "stdout"
        }
      ]
    },
    {
      "cell_type": "markdown",
      "metadata": {
        "id": "WtfEyy90HThm"
      },
      "source": [
        "# **DATA STRUCTURE (โครงสร้างข้อมูล)**"
      ]
    },
    {
      "cell_type": "code",
      "metadata": {
        "colab": {
          "base_uri": "https://localhost:8080/"
        },
        "id": "syXPrxwOOjCT",
        "outputId": "a2efc90e-865e-4299-a7f2-db5215d0f11f"
      },
      "source": [
        "[111,'c','เจ้าหมิว',aaa] ##เราสามารถใส่ ตัวเลข ตัวอักษร ข้อความ และ code ได้ ใน 1 list [] ก็คือ list นะจร๊"
      ],
      "execution_count": 75,
      "outputs": [
        {
          "output_type": "execute_result",
          "data": {
            "text/plain": [
              "[111, 'c', 'เจ้าหมิว', 1092]"
            ]
          },
          "metadata": {
            "tags": []
          },
          "execution_count": 75
        }
      ]
    },
    {
      "cell_type": "markdown",
      "metadata": {
        "id": "b-JH5l_tHeek"
      },
      "source": [
        "# **List คือ การเอาข้อมูลหลายๆตัวมาเรียงต่อกัน**"
      ]
    },
    {
      "cell_type": "markdown",
      "metadata": {
        "id": "hlM0SW-oHjdN"
      },
      "source": [
        "### *list สามารถสร้างได้ 2 แบบ ดังนี้*"
      ]
    },
    {
      "cell_type": "markdown",
      "metadata": {
        "id": "MKr0uf5yJSk9"
      },
      "source": [
        "*แบบที่1 > square brackets*"
      ]
    },
    {
      "cell_type": "code",
      "metadata": {
        "colab": {
          "base_uri": "https://localhost:8080/"
        },
        "id": "uTmSDED3Ns19",
        "outputId": "fb214248-fcb4-4d32-b2c5-074f77015333"
      },
      "source": [
        "list_a = []\r\n",
        "print(list_a) "
      ],
      "execution_count": 76,
      "outputs": [
        {
          "output_type": "stream",
          "text": [
            "[]\n"
          ],
          "name": "stdout"
        }
      ]
    },
    {
      "cell_type": "code",
      "metadata": {
        "colab": {
          "base_uri": "https://localhost:8080/"
        },
        "id": "UiUwhHe1N3YS",
        "outputId": "29bf1156-8226-46cf-9f61-b4058b1486bb"
      },
      "source": [
        "list_b = [111,'c','เจ้าหมิว',aaa]\r\n",
        "print(list_b)"
      ],
      "execution_count": 77,
      "outputs": [
        {
          "output_type": "stream",
          "text": [
            "[111, 'c', 'เจ้าหมิว', 1092]\n"
          ],
          "name": "stdout"
        }
      ]
    },
    {
      "cell_type": "markdown",
      "metadata": {
        "id": "eXQfWVdnJkYF"
      },
      "source": [
        "### *ลำดับที่อยู่ใน list มีความสำคัญ (ลำดับใน list เริ่มจาก 0,1,2,...)*"
      ]
    },
    {
      "cell_type": "code",
      "metadata": {
        "colab": {
          "base_uri": "https://localhost:8080/",
          "height": 35
        },
        "id": "k2tAFfFgOF9N",
        "outputId": "1763c8c4-4353-4865-8d76-7024901f6c64"
      },
      "source": [
        "list_b[2]"
      ],
      "execution_count": 78,
      "outputs": [
        {
          "output_type": "execute_result",
          "data": {
            "application/vnd.google.colaboratory.intrinsic+json": {
              "type": "string"
            },
            "text/plain": [
              "'เจ้าหมิว'"
            ]
          },
          "metadata": {
            "tags": []
          },
          "execution_count": 78
        }
      ]
    },
    {
      "cell_type": "markdown",
      "metadata": {
        "id": "l3AjHqGJKM6K"
      },
      "source": [
        "### *แบบที่2*"
      ]
    },
    {
      "cell_type": "code",
      "metadata": {
        "colab": {
          "base_uri": "https://localhost:8080/"
        },
        "id": "Ndp-Yv5yKRji",
        "outputId": "35849a66-57f2-417b-83b0-83aa3d3d9958"
      },
      "source": [
        "list_c = list()\r\n",
        "print(list_c)"
      ],
      "execution_count": 79,
      "outputs": [
        {
          "output_type": "stream",
          "text": [
            "[]\n"
          ],
          "name": "stdout"
        }
      ]
    },
    {
      "cell_type": "markdown",
      "metadata": {
        "id": "q6PExAH7KmJi"
      },
      "source": [
        "\r\n",
        "# **append() เพิ่มสมาชิกใน list**"
      ]
    },
    {
      "cell_type": "code",
      "metadata": {
        "colab": {
          "base_uri": "https://localhost:8080/"
        },
        "id": "Eomhx1nLKrvh",
        "outputId": "6d06c4c2-58f9-4595-9107-cdc3a7d85162"
      },
      "source": [
        "\r\n",
        "list_b.append('u')\r\n",
        "print(list_b)"
      ],
      "execution_count": 80,
      "outputs": [
        {
          "output_type": "stream",
          "text": [
            "[111, 'c', 'เจ้าหมิว', 1092, 'u']\n"
          ],
          "name": "stdout"
        }
      ]
    },
    {
      "cell_type": "markdown",
      "metadata": {
        "id": "IE0fac3hKvxx"
      },
      "source": [
        "ตัวที่อยู่ในวงเล็บหลังจากตัวแปร list เรียกว่า index ใช้สำหรับชี้ข้อมูลใน list\r\n",
        "\r\n",
        "(ชี้จากข้างหน้า,ชี้จากข้างหลัง)\r\n",
        "\r\n",
        "0 คือสมาชิกตัวแรก , -1 คือสมาชิกตัวสุดท้าย"
      ]
    },
    {
      "cell_type": "code",
      "metadata": {
        "colab": {
          "base_uri": "https://localhost:8080/",
          "height": 35
        },
        "id": "gsuxewh5K1LS",
        "outputId": "644c8d7b-487f-4e91-bcf5-6ea524ef9c37"
      },
      "source": [
        "list_b[-1]"
      ],
      "execution_count": 81,
      "outputs": [
        {
          "output_type": "execute_result",
          "data": {
            "application/vnd.google.colaboratory.intrinsic+json": {
              "type": "string"
            },
            "text/plain": [
              "'u'"
            ]
          },
          "metadata": {
            "tags": []
          },
          "execution_count": 81
        }
      ]
    },
    {
      "cell_type": "markdown",
      "metadata": {
        "id": "6omgC8GBK5qD"
      },
      "source": [
        "\r\n",
        "# **String > list of characters**"
      ]
    },
    {
      "cell_type": "code",
      "metadata": {
        "colab": {
          "base_uri": "https://localhost:8080/"
        },
        "id": "6sPNWkcTK9za",
        "outputId": "5e2dc089-515c-4c69-f533-0fbfdcd5e7b2"
      },
      "source": [
        "t = 'python is easy'\r\n",
        "print(t)"
      ],
      "execution_count": 82,
      "outputs": [
        {
          "output_type": "stream",
          "text": [
            "python is easy\n"
          ],
          "name": "stdout"
        }
      ]
    },
    {
      "cell_type": "code",
      "metadata": {
        "colab": {
          "base_uri": "https://localhost:8080/",
          "height": 35
        },
        "id": "aJG3Zb4-LHgx",
        "outputId": "7e2cfbde-8440-4631-9286-6c7df281e5c3"
      },
      "source": [
        "t[1]"
      ],
      "execution_count": 83,
      "outputs": [
        {
          "output_type": "execute_result",
          "data": {
            "application/vnd.google.colaboratory.intrinsic+json": {
              "type": "string"
            },
            "text/plain": [
              "'y'"
            ]
          },
          "metadata": {
            "tags": []
          },
          "execution_count": 83
        }
      ]
    },
    {
      "cell_type": "code",
      "metadata": {
        "colab": {
          "base_uri": "https://localhost:8080/",
          "height": 35
        },
        "id": "IhQqQBybLLf0",
        "outputId": "4355b46f-6b91-43e5-b24c-e45bc542ca46"
      },
      "source": [
        "t[-4]"
      ],
      "execution_count": 84,
      "outputs": [
        {
          "output_type": "execute_result",
          "data": {
            "application/vnd.google.colaboratory.intrinsic+json": {
              "type": "string"
            },
            "text/plain": [
              "'e'"
            ]
          },
          "metadata": {
            "tags": []
          },
          "execution_count": 84
        }
      ]
    },
    {
      "cell_type": "code",
      "metadata": {
        "colab": {
          "base_uri": "https://localhost:8080/",
          "height": 35
        },
        "id": "vNXEhO81LZab",
        "outputId": "25b48b1b-db9d-4c05-fe6c-ef96cae8a770"
      },
      "source": [
        "t[6]"
      ],
      "execution_count": 85,
      "outputs": [
        {
          "output_type": "execute_result",
          "data": {
            "application/vnd.google.colaboratory.intrinsic+json": {
              "type": "string"
            },
            "text/plain": [
              "' '"
            ]
          },
          "metadata": {
            "tags": []
          },
          "execution_count": 85
        }
      ]
    },
    {
      "cell_type": "markdown",
      "metadata": {
        "id": "kl8VLXGfLokD"
      },
      "source": [
        "\r\n",
        "# **จบ 5/ม.ค/2021 (จบสักที อาจารย์คือแร็ปรัวมากค่าาา 555+)**"
      ]
    },
    {
      "cell_type": "markdown",
      "metadata": {
        "id": "cetZ0r-shykV"
      },
      "source": [
        "#คาบ 3 11/ม.ค/64"
      ]
    },
    {
      "cell_type": "code",
      "metadata": {
        "id": "4Bd5IjWZiyyZ",
        "colab": {
          "base_uri": "https://localhost:8080/"
        },
        "outputId": "bb3fe9ba-a5de-47f8-9c34-4fe309275d66"
      },
      "source": [
        "len(t)"
      ],
      "execution_count": 86,
      "outputs": [
        {
          "output_type": "execute_result",
          "data": {
            "text/plain": [
              "14"
            ]
          },
          "metadata": {
            "tags": []
          },
          "execution_count": 86
        }
      ]
    },
    {
      "cell_type": "code",
      "metadata": {
        "id": "PNOLhutxlAql",
        "colab": {
          "base_uri": "https://localhost:8080/"
        },
        "outputId": "bd3c21c8-6bbc-4376-a7ae-14d5360a8ca3"
      },
      "source": [
        "list_b"
      ],
      "execution_count": 87,
      "outputs": [
        {
          "output_type": "execute_result",
          "data": {
            "text/plain": [
              "[111, 'c', 'เจ้าหมิว', 1092, 'u']"
            ]
          },
          "metadata": {
            "tags": []
          },
          "execution_count": 87
        }
      ]
    },
    {
      "cell_type": "code",
      "metadata": {
        "id": "5xtFFoGei7YT",
        "colab": {
          "base_uri": "https://localhost:8080/"
        },
        "outputId": "d3ab9233-867d-4786-e516-2199a996b49d"
      },
      "source": [
        "len(list_b) ## len คือคำสั่งตรวจสอบความยาวของ list (จำนวนสมาชิก)"
      ],
      "execution_count": 88,
      "outputs": [
        {
          "output_type": "execute_result",
          "data": {
            "text/plain": [
              "5"
            ]
          },
          "metadata": {
            "tags": []
          },
          "execution_count": 88
        }
      ]
    },
    {
      "cell_type": "code",
      "metadata": {
        "id": "FZeuQmP4jaQC",
        "colab": {
          "base_uri": "https://localhost:8080/",
          "height": 35
        },
        "outputId": "3c273d6f-0d6a-4e59-96cd-ce81558349cb"
      },
      "source": [
        "t[-4]"
      ],
      "execution_count": 89,
      "outputs": [
        {
          "output_type": "execute_result",
          "data": {
            "application/vnd.google.colaboratory.intrinsic+json": {
              "type": "string"
            },
            "text/plain": [
              "'e'"
            ]
          },
          "metadata": {
            "tags": []
          },
          "execution_count": 89
        }
      ]
    },
    {
      "cell_type": "code",
      "metadata": {
        "id": "zeb9qG3SlOvp",
        "colab": {
          "base_uri": "https://localhost:8080/"
        },
        "outputId": "512e7318-de60-4b37-c7bf-77f89ef9eac2"
      },
      "source": [
        "list_b.append(t)\r\n",
        "print(list_b)"
      ],
      "execution_count": 90,
      "outputs": [
        {
          "output_type": "stream",
          "text": [
            "[111, 'c', 'เจ้าหมิว', 1092, 'u', 'python is easy']\n"
          ],
          "name": "stdout"
        }
      ]
    },
    {
      "cell_type": "markdown",
      "metadata": {
        "id": "8MPtFX8VEMce"
      },
      "source": [
        "### *ตัวที่อยู่ข้างใน [ ] เราเรียกว่า Index (ตัวชี้)*\r\n"
      ]
    },
    {
      "cell_type": "markdown",
      "metadata": {
        "id": "XCnrEvL6liPQ"
      },
      "source": [
        "# **#Lise slicing สามารถทำได้โดยใช้ colon : [a:b] -> [a,b)**"
      ]
    },
    {
      "cell_type": "code",
      "metadata": {
        "id": "E_ieepu_l4kK",
        "colab": {
          "base_uri": "https://localhost:8080/"
        },
        "outputId": "61f66ffd-02c2-4649-c763-f0c0f3f93afe"
      },
      "source": [
        "print(t)\r\n",
        "print(t[7:9])  #หน้า: คือจุดเริ่มต้น หลัง: คือจุดสิ้นสุด#หน้า: คือจุดเริ่มต้น หลัง: คือจุดสิ้นสุด\r\n",
        "print(len(t[7:9]))"
      ],
      "execution_count": 91,
      "outputs": [
        {
          "output_type": "stream",
          "text": [
            "python is easy\n",
            "is\n",
            "2\n"
          ],
          "name": "stdout"
        }
      ]
    },
    {
      "cell_type": "code",
      "metadata": {
        "id": "r7mEAjs7nqyQ",
        "colab": {
          "base_uri": "https://localhost:8080/",
          "height": 35
        },
        "outputId": "a555772e-65ff-4b6c-ab77-6d2e3b258af7"
      },
      "source": [
        "t[0:14:2]  #เริ่มที่0 สิ้นสุดที่ 14 เว้นไปเก็บตัวที่ 2  เช่น 1234567 จะได้ 1357"
      ],
      "execution_count": 92,
      "outputs": [
        {
          "output_type": "execute_result",
          "data": {
            "application/vnd.google.colaboratory.intrinsic+json": {
              "type": "string"
            },
            "text/plain": [
              "'pto ses'"
            ]
          },
          "metadata": {
            "tags": []
          },
          "execution_count": 92
        }
      ]
    },
    {
      "cell_type": "code",
      "metadata": {
        "id": "rpezRJwJoOmW"
      },
      "source": [
        "z = [1,2,3,4,5,6,7,8,9,10]"
      ],
      "execution_count": 93,
      "outputs": []
    },
    {
      "cell_type": "markdown",
      "metadata": {
        "id": "O7UcLiGYoex9"
      },
      "source": [
        "#**quiz**\r\n",
        "ให้ใช้ list slicing เลือกมาเฉพาะเลขคู่"
      ]
    },
    {
      "cell_type": "code",
      "metadata": {
        "id": "peK8axIHot-B",
        "colab": {
          "base_uri": "https://localhost:8080/"
        },
        "outputId": "d6cedb8b-b3e9-490c-e24f-2491863b173e"
      },
      "source": [
        "z = [1,2,3,4,5,6,7,8,9,10]\r\n",
        "z[1:10:2]"
      ],
      "execution_count": 94,
      "outputs": [
        {
          "output_type": "execute_result",
          "data": {
            "text/plain": [
              "[2, 4, 6, 8, 10]"
            ]
          },
          "metadata": {
            "tags": []
          },
          "execution_count": 94
        }
      ]
    },
    {
      "cell_type": "markdown",
      "metadata": {
        "id": "qVsWd2cYpPYH"
      },
      "source": [
        "## ถ้าเว้นว่างหน้า : หมายความว่า เริ่มตั้งเเต่ตัวเเรก (0) \r\n"
      ]
    },
    {
      "cell_type": "markdown",
      "metadata": {
        "id": "uDc8xUj9FAXd"
      },
      "source": [
        "## ถ้าเว้นว่างหลัง : หมายความว่า ไปจนถึงตัวสุดท้าย (len(list))"
      ]
    },
    {
      "cell_type": "code",
      "metadata": {
        "id": "IHVBibEIpl62",
        "colab": {
          "base_uri": "https://localhost:8080/"
        },
        "outputId": "d98a1ac5-5d1e-4c09-ec21-8e6104dc98b5"
      },
      "source": [
        "print (t)\r\n",
        "print (t[:6]) # ไม่ใส่ข้างหน้าคือ 0 เลย\r\n",
        "print (t[10:])\r\n",
        "print (t[-4:])\r\n",
        "print (t[:])"
      ],
      "execution_count": 95,
      "outputs": [
        {
          "output_type": "stream",
          "text": [
            "python is easy\n",
            "python\n",
            "easy\n",
            "easy\n",
            "python is easy\n"
          ],
          "name": "stdout"
        }
      ]
    },
    {
      "cell_type": "code",
      "metadata": {
        "id": "eeOGpyOMqTde",
        "colab": {
          "base_uri": "https://localhost:8080/"
        },
        "outputId": "19600a91-b87a-4f70-addc-60c02f45f206"
      },
      "source": [
        "print (z[::2]) #เอาตั้งเเต่ตัวเเรกจนถึงตัวสุดท้าย แต่เว้นทีละ 2 ตัว"
      ],
      "execution_count": 96,
      "outputs": [
        {
          "output_type": "stream",
          "text": [
            "[1, 3, 5, 7, 9]\n"
          ],
          "name": "stdout"
        }
      ]
    },
    {
      "cell_type": "markdown",
      "metadata": {
        "id": "SgRv2O0Er3dC"
      },
      "source": [
        "# ***เราสามรถเอา list มาต่อกันได้ด้วย + ***"
      ]
    },
    {
      "cell_type": "code",
      "metadata": {
        "id": "3u_3DvRer1vL",
        "colab": {
          "base_uri": "https://localhost:8080/",
          "height": 35
        },
        "outputId": "1c0b990b-2a14-4736-ec68-98313662fe4b"
      },
      "source": [
        "t+'555'"
      ],
      "execution_count": 97,
      "outputs": [
        {
          "output_type": "execute_result",
          "data": {
            "application/vnd.google.colaboratory.intrinsic+json": {
              "type": "string"
            },
            "text/plain": [
              "'python is easy555'"
            ]
          },
          "metadata": {
            "tags": []
          },
          "execution_count": 97
        }
      ]
    },
    {
      "cell_type": "code",
      "metadata": {
        "id": "ZCgVumHDsItq",
        "colab": {
          "base_uri": "https://localhost:8080/",
          "height": 178
        },
        "outputId": "15893412-95c5-4612-9e60-f60053a20bdd"
      },
      "source": [
        "t+list_b ##ไม่สามารถเอา list ปกติมาต่อกับ string ได้\r\n",
        "         ## สัญลักษณ์ + จะใช้กับตัวอักษร+ตัวอักษร   หรือ ตัวเลข+ตัวเลข"
      ],
      "execution_count": 98,
      "outputs": [
        {
          "output_type": "error",
          "ename": "TypeError",
          "evalue": "ignored",
          "traceback": [
            "\u001b[0;31m---------------------------------------------------------------------------\u001b[0m",
            "\u001b[0;31mTypeError\u001b[0m                                 Traceback (most recent call last)",
            "\u001b[0;32m<ipython-input-98-c51260bb6317>\u001b[0m in \u001b[0;36m<module>\u001b[0;34m()\u001b[0m\n\u001b[0;32m----> 1\u001b[0;31m \u001b[0mt\u001b[0m\u001b[0;34m+\u001b[0m\u001b[0mlist_b\u001b[0m \u001b[0;31m##ไม่สามารถเอา list ปกติมาต่อกับ string ได้\u001b[0m\u001b[0;34m\u001b[0m\u001b[0;34m\u001b[0m\u001b[0m\n\u001b[0m\u001b[1;32m      2\u001b[0m          \u001b[0;31m## สัญลักษณ์ + จะใช้กับตัวอักษร+ตัวอักษร   หรือ ตัวเลข+ตัวเลข\u001b[0m\u001b[0;34m\u001b[0m\u001b[0;34m\u001b[0m\u001b[0;34m\u001b[0m\u001b[0m\n",
            "\u001b[0;31mTypeError\u001b[0m: must be str, not list"
          ]
        }
      ]
    },
    {
      "cell_type": "code",
      "metadata": {
        "colab": {
          "base_uri": "https://localhost:8080/"
        },
        "id": "dT6joaqySEeR",
        "outputId": "06278e36-a49d-4678-d939-ec78b479acbb"
      },
      "source": [
        "print(list_a)\r\n",
        "print(list_b)\r\n",
        "print(list_b + list_a)"
      ],
      "execution_count": 99,
      "outputs": [
        {
          "output_type": "stream",
          "text": [
            "[]\n",
            "[111, 'c', 'เจ้าหมิว', 1092, 'u', 'python is easy']\n",
            "[111, 'c', 'เจ้าหมิว', 1092, 'u', 'python is easy']\n"
          ],
          "name": "stdout"
        }
      ]
    },
    {
      "cell_type": "code",
      "metadata": {
        "id": "DjTOhwswtJSD",
        "colab": {
          "base_uri": "https://localhost:8080/"
        },
        "outputId": "0323ab72-5f42-4fc5-d8a3-d90062f530c1"
      },
      "source": [
        "list_b.append(list_a)\r\n",
        "print(list_b)"
      ],
      "execution_count": 100,
      "outputs": [
        {
          "output_type": "stream",
          "text": [
            "[111, 'c', 'เจ้าหมิว', 1092, 'u', 'python is easy', []]\n"
          ],
          "name": "stdout"
        }
      ]
    },
    {
      "cell_type": "markdown",
      "metadata": {
        "id": "K_o4Rvistyx6"
      },
      "source": [
        "# การเเบ่ง string ตามสัญลักษณ์ที่กำหนด -> split string"
      ]
    },
    {
      "cell_type": "code",
      "metadata": {
        "id": "Cc08UHK_uEHK"
      },
      "source": [
        "t"
      ],
      "execution_count": null,
      "outputs": []
    },
    {
      "cell_type": "code",
      "metadata": {
        "id": "49NOINlWuGax"
      },
      "source": [
        "t.split(' ')  #การแบ่งสมาชิกด้วย ช่องว่าง\r\n",
        "['python','is','easy']"
      ],
      "execution_count": null,
      "outputs": []
    },
    {
      "cell_type": "code",
      "metadata": {
        "id": "QlDpLQoHuw5M"
      },
      "source": [
        "time = '12:30:15'"
      ],
      "execution_count": null,
      "outputs": []
    },
    {
      "cell_type": "code",
      "metadata": {
        "id": "QpZaiDXEu6zo"
      },
      "source": [
        "time.split(':')"
      ],
      "execution_count": null,
      "outputs": []
    },
    {
      "cell_type": "code",
      "metadata": {
        "id": "asG2FFLZvJMg"
      },
      "source": [
        "t_sp = t.split(' ')\r\n",
        "print(t_sp)"
      ],
      "execution_count": null,
      "outputs": []
    },
    {
      "cell_type": "code",
      "metadata": {
        "id": "hDM3sQULvaRp"
      },
      "source": [
        "## วิธีรวมกลับ\r\n",
        "print (':'.join(t_sp))"
      ],
      "execution_count": null,
      "outputs": []
    },
    {
      "cell_type": "markdown",
      "metadata": {
        "id": "pORKyRmbGS7F"
      },
      "source": [
        "#HW คำนวณเวลาเป็นวินาทีของเวลาต่อไปนี้โดยใช้คำสั่ง split() ช่วย (print ออกมาให้สวยงาม)\r\n",
        "12:30:15\r\n",
        "\r\n",
        "13:41:07\r\n",
        "\r\n",
        "12:53:15\r\n",
        "\r\n",
        "00:59:25\r\n",
        "\r\n",
        "11:11:11\r\n",
        "\r\n",
        "16:06:09\r\n",
        "\r\n",
        "21:12:30\r\n",
        "\r\n",
        "10:06:15\r\n",
        "\r\n",
        "ตัวอย่าง > 01:00:01 = 3601 วินาที\r\n",
        "\r\n",
        "ตัวอย่าง > 00:01:10 = 70 วินาที"
      ]
    },
    {
      "cell_type": "markdown",
      "metadata": {
        "id": "9yJKXI2fGgUQ"
      },
      "source": [
        "#**ตอบ**"
      ]
    },
    {
      "cell_type": "code",
      "metadata": {
        "colab": {
          "base_uri": "https://localhost:8080/"
        },
        "id": "U4VgNPEuGpQ8",
        "outputId": "d5f92e03-3b16-40a3-9956-dfdc554030f5"
      },
      "source": [
        "q1 ='12:30:15'\r\n",
        "q1.split(':')\r\n",
        "list_q1 = [12,30,15]\r\n",
        "h1 = list_q1[0]*3600  # 12 ชั่วโมง มี 43200 วินาที\r\n",
        "m1 = list_q1[1]*60   # 30 นาที มี 1800 วินาที\r\n",
        "s1 = list_q1[2]     # มี 15 วินาที\r\n",
        "Ans_q1 = h1+m1+s1\r\n",
        "print(Ans_q1, 'วินาที')"
      ],
      "execution_count": 108,
      "outputs": [
        {
          "output_type": "stream",
          "text": [
            "45015 วินาที\n"
          ],
          "name": "stdout"
        }
      ]
    },
    {
      "cell_type": "code",
      "metadata": {
        "colab": {
          "base_uri": "https://localhost:8080/"
        },
        "id": "muuTa0YKGyCW",
        "outputId": "955cc32f-2e23-4aef-946d-015dbbf1c932"
      },
      "source": [
        "q2 ='13:41:07'\r\n",
        "q2.split(':')\r\n",
        "list_q2 = [13,41,7]\r\n",
        "h2 = list_q2[0]*3600\r\n",
        "m2 = list_q2[1]*60\r\n",
        "s2 = list_q2[2]\r\n",
        "Ans_q2 = h2+m2+s2\r\n",
        "print(Ans_q2, 'วินาที')\r\n"
      ],
      "execution_count": 107,
      "outputs": [
        {
          "output_type": "stream",
          "text": [
            "49267 วินาที\n"
          ],
          "name": "stdout"
        }
      ]
    },
    {
      "cell_type": "code",
      "metadata": {
        "colab": {
          "base_uri": "https://localhost:8080/"
        },
        "id": "-53StYC6G5LJ",
        "outputId": "062d4b09-a806-4548-cb3b-a322b357cd7d"
      },
      "source": [
        "q3 ='12:53:15'\r\n",
        "q3.split(':')\r\n",
        "list_q3 = [12,53,15]\r\n",
        "h3 = list_q3[0]*3600\r\n",
        "m3 = list_q3[1]*60\r\n",
        "s3 = list_q3[2]\r\n",
        "Ans_q3 = h3+m3+s3\r\n",
        "print(Ans_q3, 'วินาที')"
      ],
      "execution_count": 106,
      "outputs": [
        {
          "output_type": "stream",
          "text": [
            "46395 วินาที\n"
          ],
          "name": "stdout"
        }
      ]
    },
    {
      "cell_type": "code",
      "metadata": {
        "colab": {
          "base_uri": "https://localhost:8080/"
        },
        "id": "XJKKpf_XG8DH",
        "outputId": "2f56d5ec-270d-4acc-ecf8-1850136c3530"
      },
      "source": [
        "q4 ='00:59:25'\r\n",
        "q4.split(':')\r\n",
        "list_q4 = [00,59,25]\r\n",
        "h4 = list_q4[0]*3600\r\n",
        "m4 = list_q4[1]*60\r\n",
        "s4 = list_q4[2]\r\n",
        "Ans_q4 = h4+m4+s4\r\n",
        "print(Ans_q4, 'วินาที')"
      ],
      "execution_count": 105,
      "outputs": [
        {
          "output_type": "stream",
          "text": [
            "3565 วินาที\n"
          ],
          "name": "stdout"
        }
      ]
    },
    {
      "cell_type": "code",
      "metadata": {
        "colab": {
          "base_uri": "https://localhost:8080/"
        },
        "id": "UtT7QQwMG-zW",
        "outputId": "d3e57b5f-18a0-426d-d134-f03cef55d564"
      },
      "source": [
        "q5 ='11:11:11'\r\n",
        "q5.split(':')\r\n",
        "list_q5 = [11,11,11]\r\n",
        "h5 = list_q5[0]*3600\r\n",
        "m5 = list_q5[1]*60\r\n",
        "s5 = list_q5[2]\r\n",
        "Ans_q5 = h5+m5+s5\r\n",
        "print(Ans_q5, 'วินาที')"
      ],
      "execution_count": 104,
      "outputs": [
        {
          "output_type": "stream",
          "text": [
            "40271 วินาที\n"
          ],
          "name": "stdout"
        }
      ]
    },
    {
      "cell_type": "code",
      "metadata": {
        "colab": {
          "base_uri": "https://localhost:8080/"
        },
        "id": "8JhMi-DAHCJG",
        "outputId": "73227077-d444-43cd-fb2c-14b52ecdac8f"
      },
      "source": [
        "q6 ='16:06:09'\r\n",
        "q6.split(':')\r\n",
        "list_q6 = [16,6,9]\r\n",
        "h6 = list_q6[0]*3600\r\n",
        "m6 = list_q6[1]*60\r\n",
        "s6 = list_q6[2]\r\n",
        "Ans_q6 = h6+m6+s6\r\n",
        "print(Ans_q6, 'วินาที')"
      ],
      "execution_count": 103,
      "outputs": [
        {
          "output_type": "stream",
          "text": [
            "57969 วินาที\n"
          ],
          "name": "stdout"
        }
      ]
    },
    {
      "cell_type": "code",
      "metadata": {
        "colab": {
          "base_uri": "https://localhost:8080/"
        },
        "id": "jDYymy4aHExf",
        "outputId": "ddd37690-47f6-4ca8-b763-4f85c7bcb416"
      },
      "source": [
        "q7 ='21:12:30'\r\n",
        "q7.split(':')\r\n",
        "list_q7 = [21,12,30]\r\n",
        "h7 = list_q7[0]*3600\r\n",
        "m7 = list_q7[1]*60\r\n",
        "s7 = list_q7[2]\r\n",
        "Ans_q7 = h7+m7+s7\r\n",
        "print(Ans_q7, 'วินาที')"
      ],
      "execution_count": 101,
      "outputs": [
        {
          "output_type": "stream",
          "text": [
            "76350 วินาที\n"
          ],
          "name": "stdout"
        }
      ]
    },
    {
      "cell_type": "code",
      "metadata": {
        "colab": {
          "base_uri": "https://localhost:8080/"
        },
        "id": "TubByjb0HJVu",
        "outputId": "cd2070fb-7315-4758-a7ef-5bfbc1bb42eb"
      },
      "source": [
        "q8 ='10:06:15'\r\n",
        "q8.split(':')\r\n",
        "list_q8 = [10,6,15]\r\n",
        "h8 = list_q8[0]*3600\r\n",
        "m8 = list_q8[1]*60\r\n",
        "s8 = list_q8[2]\r\n",
        "Ans_q8 = h8+m8+s8\r\n",
        "print(Ans_q8, 'วินาที')"
      ],
      "execution_count": 102,
      "outputs": [
        {
          "output_type": "stream",
          "text": [
            "36375 วินาที\n"
          ],
          "name": "stdout"
        }
      ]
    }
  ]
}