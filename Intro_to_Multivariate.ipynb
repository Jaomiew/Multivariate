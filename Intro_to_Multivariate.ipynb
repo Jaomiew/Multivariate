{
  "nbformat": 4,
  "nbformat_minor": 0,
  "metadata": {
    "colab": {
      "name": "Intro to Multivariate.ipynb",
      "provenance": [],
      "authorship_tag": "ABX9TyOtnMHYrRhxsZkrmPAoUoq/",
      "include_colab_link": true
    },
    "kernelspec": {
      "name": "python3",
      "display_name": "Python 3"
    }
  },
  "cells": [
    {
      "cell_type": "markdown",
      "metadata": {
        "id": "view-in-github",
        "colab_type": "text"
      },
      "source": [
        "<a href=\"https://colab.research.google.com/github/Jaomiew/Multivariate/blob/main/Intro_to_Multivariate.ipynb\" target=\"_parent\"><img src=\"https://colab.research.google.com/assets/colab-badge.svg\" alt=\"Open In Colab\"/></a>"
      ]
    },
    {
      "cell_type": "markdown",
      "metadata": {
        "id": "Hu1p37OqjeG_"
      },
      "source": [
        "วนิศรา จงใจ 623021054-8"
      ]
    },
    {
      "cell_type": "code",
      "metadata": {
        "id": "Ht_zcqP9kLjm"
      },
      "source": [
        ""
      ],
      "execution_count": null,
      "outputs": []
    },
    {
      "cell_type": "code",
      "metadata": {
        "colab": {
          "base_uri": "https://localhost:8080/"
        },
        "id": "ZX84eLWbkRWj",
        "outputId": "29857f5f-a2e8-4d27-d5d2-8da4cb7569d3"
      },
      "source": [
        "print('วนิศรา') #single quote (') ใช้ล้อมรอบข้อความ"
      ],
      "execution_count": 3,
      "outputs": [
        {
          "output_type": "stream",
          "text": [
            "วนิศรา\n"
          ],
          "name": "stdout"
        }
      ]
    }
  ]
}