{
  "nbformat": 4,
  "nbformat_minor": 0,
  "metadata": {
    "colab": {
      "name": "Function_Numpy_Pandas.ipynb",
      "provenance": [],
      "collapsed_sections": [],
      "authorship_tag": "ABX9TyNOV3rNoQJJvwfYqLaltkMi",
      "include_colab_link": true
    },
    "kernelspec": {
      "name": "python3",
      "display_name": "Python 3"
    }
  },
  "cells": [
    {
      "cell_type": "markdown",
      "metadata": {
        "id": "view-in-github",
        "colab_type": "text"
      },
      "source": [
        "<a href=\"https://colab.research.google.com/github/Jaomiew/Multivariate/blob/main/Function_Numpy_Pandas.ipynb\" target=\"_parent\"><img src=\"https://colab.research.google.com/assets/colab-badge.svg\" alt=\"Open In Colab\"/></a>"
      ]
    },
    {
      "cell_type": "markdown",
      "metadata": {
        "id": "oqhPT_LfSSMI"
      },
      "source": [
        "# **Funcion**"
      ]
    },
    {
      "cell_type": "markdown",
      "metadata": {
        "id": "BOhi9WZWTANv"
      },
      "source": [
        "```Python\r\n",
        "def function_name(_Input_):\r\n",
        "    do_something with _Input_ to produce _Output_\r\n",
        "    return _Output_\r\n",
        "```"
      ]
    },
    {
      "cell_type": "markdown",
      "metadata": {
        "id": "nw5si_-ZTYjv"
      },
      "source": [
        "## **funcion มีทั้งหมด 4 ส่วน**\r\n",
        "1. บอก python ว่าเราจะเขียนฟังก์ชั่น ชื่ออะไร def funcion_name():(ขาดไม่ได้)\r\n",
        "2. กำหนดตัวแปรที่จะเป็น Input (ขาดไม่ได้)\r\n",
        "3. ส่วนประมวลผล do_something with input to get Output (ขาดไม่ได้)\r\n",
        "4. ส่วน Output return output (ขาดไม่ได้)\r\n",
        "###เราใช้ เว้นวรรค (indent) เพื่อบอกขอบเขตของ code"
      ]
    },
    {
      "cell_type": "markdown",
      "metadata": {
        "id": "cagU-KtJWVtV"
      },
      "source": [
        "## **สร้างฟังก์ชั่น**"
      ]
    },
    {
      "cell_type": "code",
      "metadata": {
        "id": "yAwpvvzdUqrQ",
        "colab": {
          "base_uri": "https://localhost:8080/"
        },
        "outputId": "49ff15aa-3089-451c-c757-5d50337a3f1e"
      },
      "source": [
        "def print_name(name,surname,ID):\r\n",
        "    st = f'ชื่อ {name} นามสกุล {surname} ID {ID}'\r\n",
        "    return st\r\n",
        "print('outside function')"
      ],
      "execution_count": null,
      "outputs": [
        {
          "output_type": "stream",
          "text": [
            "outside function\n"
          ],
          "name": "stdout"
        }
      ]
    },
    {
      "cell_type": "markdown",
      "metadata": {
        "id": "AWDkQhA9Wzb_"
      },
      "source": [
        "## **การเรียกใช้ฟังก์ชั่น**"
      ]
    },
    {
      "cell_type": "code",
      "metadata": {
        "colab": {
          "base_uri": "https://localhost:8080/",
          "height": 34
        },
        "id": "UXnKsBdBVVpm",
        "outputId": "c021c0c9-e5f0-4b14-cc81-5a3ae776bb7f"
      },
      "source": [
        "print_name('วนิศรา','จงใจ','623021054-8')\r\n"
      ],
      "execution_count": null,
      "outputs": [
        {
          "output_type": "execute_result",
          "data": {
            "application/vnd.google.colaboratory.intrinsic+json": {
              "type": "string"
            },
            "text/plain": [
              "'ชื่อ วนิศรา นามสกุล จงใจ ID 623021054-8'"
            ]
          },
          "metadata": {
            "tags": []
          },
          "execution_count": 3
        }
      ]
    },
    {
      "cell_type": "code",
      "metadata": {
        "colab": {
          "base_uri": "https://localhost:8080/"
        },
        "id": "aI7qWWn4W__W",
        "outputId": "35b63a0a-43ac-471a-f834-b0d6d19d9394"
      },
      "source": [
        "output_string = print_name('วนิศรา','จงใจ','623021054-8')\r\n",
        "print(output_string)"
      ],
      "execution_count": null,
      "outputs": [
        {
          "output_type": "stream",
          "text": [
            "ชื่อ วนิศรา นามสกุล จงใจ ID 623021054-8\n"
          ],
          "name": "stdout"
        }
      ]
    },
    {
      "cell_type": "markdown",
      "metadata": {
        "id": "_IAcifxuXob9"
      },
      "source": [
        "## **ฟังก์ชั่นไม่จำเป็นต้องมี output**"
      ]
    },
    {
      "cell_type": "code",
      "metadata": {
        "id": "qu7kNz8nXthW"
      },
      "source": [
        "def print_name2(surname,ID,name):\r\n",
        "    st = f'ชื่อ {name} นามสกุล {surname} รหัส {ID}'\r\n",
        "    print(st)"
      ],
      "execution_count": null,
      "outputs": []
    },
    {
      "cell_type": "code",
      "metadata": {
        "colab": {
          "base_uri": "https://localhost:8080/"
        },
        "id": "RlbPepPgYbR-",
        "outputId": "fd367083-98c3-448b-f582-2c09ee9a3eab"
      },
      "source": [
        "print_name2('วนิศรา', 'จงใจ', '623021054-8')"
      ],
      "execution_count": null,
      "outputs": [
        {
          "output_type": "stream",
          "text": [
            "ชื่อ 623021054-8 นามสกุล วนิศรา รหัส จงใจ\n"
          ],
          "name": "stdout"
        }
      ]
    },
    {
      "cell_type": "code",
      "metadata": {
        "colab": {
          "base_uri": "https://localhost:8080/"
        },
        "id": "kXIQugGfY-RM",
        "outputId": "ac1b0196-97b1-4c6a-8982-b832bc5814a7"
      },
      "source": [
        "op2 = print_name2('วนิศรา', 'จงใจ', '623021054-8')"
      ],
      "execution_count": null,
      "outputs": [
        {
          "output_type": "stream",
          "text": [
            "ชื่อ 623021054-8 นามสกุล วนิศรา รหัส จงใจ\n"
          ],
          "name": "stdout"
        }
      ]
    },
    {
      "cell_type": "code",
      "metadata": {
        "id": "cC8CpF6qZJkT",
        "colab": {
          "base_uri": "https://localhost:8080/"
        },
        "outputId": "40791f27-ef17-4f03-f3c4-154d47d3ae1f"
      },
      "source": [
        "print(op2)"
      ],
      "execution_count": null,
      "outputs": [
        {
          "output_type": "stream",
          "text": [
            "None\n"
          ],
          "name": "stdout"
        }
      ]
    },
    {
      "cell_type": "markdown",
      "metadata": {
        "id": "pHq9ldBhZOuc"
      },
      "source": [
        "## **ฟังก์ชั่นไม่จำเป็นต้องมี input**"
      ]
    },
    {
      "cell_type": "code",
      "metadata": {
        "id": "s9ibeaEJZUgD"
      },
      "source": [
        "def pi():\r\n",
        "    return 3.14159265359"
      ],
      "execution_count": null,
      "outputs": []
    },
    {
      "cell_type": "code",
      "metadata": {
        "colab": {
          "base_uri": "https://localhost:8080/"
        },
        "id": "U4d39G4VZgFE",
        "outputId": "794a18c4-e42c-4d58-d4f9-f3f989c8fa67"
      },
      "source": [
        "#คำนวณพื้นที่วงกลมท่มีเส้นผ่านศูนย์กลางเท่ากับ 3\r\n",
        "pi()*(1.5**2)"
      ],
      "execution_count": null,
      "outputs": [
        {
          "output_type": "execute_result",
          "data": {
            "text/plain": [
              "7.0685834705775"
            ]
          },
          "metadata": {
            "tags": []
          },
          "execution_count": 29
        }
      ]
    },
    {
      "cell_type": "code",
      "metadata": {
        "id": "zZdldtBCZycT"
      },
      "source": [
        "def print_my_name():\r\n",
        "    print('วนิศรา จงใจ IDxxxxxxxxxxx')"
      ],
      "execution_count": null,
      "outputs": []
    },
    {
      "cell_type": "code",
      "metadata": {
        "colab": {
          "base_uri": "https://localhost:8080/"
        },
        "id": "qGXMTSuYaIIj",
        "outputId": "b4842b8e-e63f-4b9a-c4b0-c535c6f1c80b"
      },
      "source": [
        "print_my_name()"
      ],
      "execution_count": null,
      "outputs": [
        {
          "output_type": "stream",
          "text": [
            "วนิศรา จงใจ IDxxxxxxxxxxx\n"
          ],
          "name": "stdout"
        }
      ]
    },
    {
      "cell_type": "markdown",
      "metadata": {
        "id": "0NdR9ZYxaU28"
      },
      "source": [
        "### 1.  input ของfuncion ใน python มีสองเเบบ input ที่จำเป็นต้องใส่กับ input ที่ไม่จำเป็นต้องใส่ (มีค่า default) \r\n",
        "### 2. เราต้องเรียง intput ที่จำเป็นต้องใส่ขึ้นก่อน"
      ]
    },
    {
      "cell_type": "code",
      "metadata": {
        "id": "pmXWisYEbB_c"
      },
      "source": [
        "def print_2lines_default(name, surname, ID, grade='F'):\r\n",
        "    st = f'ชื่อ {name} นามสกุล {surname} รหัส {ID}'\r\n",
        "    print(st)\r\n",
        "    st2=f'เกรดวิชา Multivariate >>> {grade}'\r\n",
        "    print(st2)"
      ],
      "execution_count": null,
      "outputs": []
    },
    {
      "cell_type": "code",
      "metadata": {
        "colab": {
          "base_uri": "https://localhost:8080/"
        },
        "id": "Ar1I5gJacJTU",
        "outputId": "34980eee-4a14-446f-aa29-3b7daee2e59f"
      },
      "source": [
        "print_2lines_default('วนิศรา','จงใจ','623021054-8')\r\n"
      ],
      "execution_count": null,
      "outputs": [
        {
          "output_type": "stream",
          "text": [
            "ชื่อ วนิศรา นามสกุล จงใจ รหัส 623021054-8\n",
            "เกรดวิชา Multivariate >>> F\n"
          ],
          "name": "stdout"
        }
      ]
    },
    {
      "cell_type": "code",
      "metadata": {
        "colab": {
          "base_uri": "https://localhost:8080/"
        },
        "id": "KleVU4662r-J",
        "outputId": "60b9e3f8-928b-45f8-b3f2-e55921cc70aa"
      },
      "source": [
        "print_2lines_default('วนิศรา','จงใจ','623021054-8','A')"
      ],
      "execution_count": null,
      "outputs": [
        {
          "output_type": "stream",
          "text": [
            "ชื่อ วนิศรา นามสกุล จงใจ รหัส 623021054-8\n",
            "เกรดวิชา Multivariate >>> A\n"
          ],
          "name": "stdout"
        }
      ]
    },
    {
      "cell_type": "markdown",
      "metadata": {
        "id": "8Qgo7DuJ3UBJ"
      },
      "source": [
        "### **เราสามารถเรียกฟังก์ชั่นโดยใช้ชื่อตัวแปรของฟังก์ชั่นช่วยได้**"
      ]
    },
    {
      "cell_type": "code",
      "metadata": {
        "colab": {
          "base_uri": "https://localhost:8080/"
        },
        "id": "jLTcRYMs3asR",
        "outputId": "42a9cd31-5574-4501-8338-4fdfc534d088"
      },
      "source": [
        "print_name2(name='วนิศรา', surname='จงใจ', ID='623021054-8')"
      ],
      "execution_count": null,
      "outputs": [
        {
          "output_type": "stream",
          "text": [
            "ชื่อ วนิศรา นามสกุล จงใจ รหัส 623021054-8\n"
          ],
          "name": "stdout"
        }
      ]
    },
    {
      "cell_type": "markdown",
      "metadata": {
        "id": "HDXToDPw3jv_"
      },
      "source": [
        "### **HW3 ให้เขียน function คำนวณจำนวนวินาทีจาก เวลาต่อไปนี้**\r\n",
        "\r\n",
        "'14-15-31'\r\n",
        "\r\n",
        "'13-00-01'\r\n",
        "\r\n",
        "'05-49-44'\r\n",
        "\r\n",
        "'00-00-16'\r\n",
        "\r\n",
        "### **และ print ให้สวยงาม**"
      ]
    },
    {
      "cell_type": "code",
      "metadata": {
        "id": "Jov7DCs66G2P"
      },
      "source": [
        "def print_time(time):\r\n",
        "         time_sp = time.split('-') \r\n",
        "         Answer = int(time_sp[0])*60*60 + int(time_sp[1])*60 + int(time_sp[2])\r\n",
        "         print(f'เวลา {time} คำนวณเป็นจำนวนวินาทีได้เท่ากับ {Answer} วินาที')"
      ],
      "execution_count": null,
      "outputs": []
    },
    {
      "cell_type": "code",
      "metadata": {
        "colab": {
          "base_uri": "https://localhost:8080/"
        },
        "id": "LUOFCniK5Rut",
        "outputId": "440340d9-caa7-4123-8134-86d620c76eaf"
      },
      "source": [
        "print_time('14-15-31')"
      ],
      "execution_count": null,
      "outputs": [
        {
          "output_type": "stream",
          "text": [
            "เวลา 14-15-31 คำนวณเป็นจำนวนวินาทีได้เท่ากับ 51331 วินาที\n"
          ],
          "name": "stdout"
        }
      ]
    },
    {
      "cell_type": "code",
      "metadata": {
        "colab": {
          "base_uri": "https://localhost:8080/"
        },
        "id": "svOZSXx46jS1",
        "outputId": "61b2b2e0-19ab-425c-e272-bffe7672aeb7"
      },
      "source": [
        "print_time('13-00-01')"
      ],
      "execution_count": null,
      "outputs": [
        {
          "output_type": "stream",
          "text": [
            "เวลา 13-00-01 คำนวณเป็นจำนวนวินาทีได้เท่ากับ 46801 วินาที\n"
          ],
          "name": "stdout"
        }
      ]
    },
    {
      "cell_type": "code",
      "metadata": {
        "colab": {
          "base_uri": "https://localhost:8080/"
        },
        "id": "CSgB5p3z6lEF",
        "outputId": "0cc4394c-4aff-477b-8474-339ca2082b1c"
      },
      "source": [
        "print_time('05-49-44')"
      ],
      "execution_count": null,
      "outputs": [
        {
          "output_type": "stream",
          "text": [
            "เวลา 05-49-44 คำนวณเป็นจำนวนวินาทีได้เท่ากับ 20984 วินาที\n"
          ],
          "name": "stdout"
        }
      ]
    },
    {
      "cell_type": "code",
      "metadata": {
        "colab": {
          "base_uri": "https://localhost:8080/"
        },
        "id": "HEgxPIf06pz1",
        "outputId": "58407c11-feb5-4e2b-dffe-7dc456573762"
      },
      "source": [
        "print_time('00-00-16')"
      ],
      "execution_count": null,
      "outputs": [
        {
          "output_type": "stream",
          "text": [
            "เวลา 00-00-16 คำนวณเป็นจำนวนวินาทีได้เท่ากับ 16 วินาที\n"
          ],
          "name": "stdout"
        }
      ]
    }
  ]
}