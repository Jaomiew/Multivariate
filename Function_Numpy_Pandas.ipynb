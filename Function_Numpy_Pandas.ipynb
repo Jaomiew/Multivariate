{
  "nbformat": 4,
  "nbformat_minor": 0,
  "metadata": {
    "colab": {
      "name": "Function_Numpy_Pandas.ipynb",
      "provenance": [],
      "collapsed_sections": [],
      "authorship_tag": "ABX9TyOiq9yr+riCdk2CCYtUu02v",
      "include_colab_link": true
    },
    "kernelspec": {
      "name": "python3",
      "display_name": "Python 3"
    }
  },
  "cells": [
    {
      "cell_type": "markdown",
      "metadata": {
        "id": "view-in-github",
        "colab_type": "text"
      },
      "source": [
        "<a href=\"https://colab.research.google.com/github/Jaomiew/Multivariate/blob/main/Function_Numpy_Pandas.ipynb\" target=\"_parent\"><img src=\"https://colab.research.google.com/assets/colab-badge.svg\" alt=\"Open In Colab\"/></a>"
      ]
    },
    {
      "cell_type": "markdown",
      "metadata": {
        "id": "oqhPT_LfSSMI"
      },
      "source": [
        "# **Funcion**"
      ]
    },
    {
      "cell_type": "markdown",
      "metadata": {
        "id": "BOhi9WZWTANv"
      },
      "source": [
        "```Python\r\n",
        "def function_name(_Input_):\r\n",
        "    do_something with _Input_ to produce _Output_\r\n",
        "    return _Output_\r\n",
        "```"
      ]
    },
    {
      "cell_type": "markdown",
      "metadata": {
        "id": "nw5si_-ZTYjv"
      },
      "source": [
        "## **funcion มีทั้งหมด 4 ส่วน**\r\n",
        "1. บอก python ว่าเราจะเขียนฟังก์ชั่น ชื่ออะไร def funcion_name():(ขาดไม่ได้)\r\n",
        "2. กำหนดตัวแปรที่จะเป็น Input (ขาดไม่ได้)\r\n",
        "3. ส่วนประมวลผล do_something with input to get Output (ขาดไม่ได้)\r\n",
        "4. ส่วน Output return output (ขาดไม่ได้)\r\n",
        "###เราใช้ เว้นวรรค (indent) เพื่อบอกขอบเขตของ code"
      ]
    },
    {
      "cell_type": "markdown",
      "metadata": {
        "id": "cagU-KtJWVtV"
      },
      "source": [
        "## **สร้างฟังก์ชั่น**"
      ]
    },
    {
      "cell_type": "code",
      "metadata": {
        "id": "yAwpvvzdUqrQ",
        "colab": {
          "base_uri": "https://localhost:8080/"
        },
        "outputId": "e45d93c3-4609-46e0-9dd0-3ab811df00ae"
      },
      "source": [
        "def print_name(name,surname,ID):\r\n",
        "    st = f'ชื่อ {name} นามสกุล {surname} ID {ID}'\r\n",
        "    return st\r\n",
        "print('outside function')"
      ],
      "execution_count": 4,
      "outputs": [
        {
          "output_type": "stream",
          "text": [
            "outside function\n"
          ],
          "name": "stdout"
        }
      ]
    },
    {
      "cell_type": "markdown",
      "metadata": {
        "id": "AWDkQhA9Wzb_"
      },
      "source": [
        "## **การเรียกใช้ฟังก์ชั่น**"
      ]
    },
    {
      "cell_type": "code",
      "metadata": {
        "colab": {
          "base_uri": "https://localhost:8080/",
          "height": 35
        },
        "id": "UXnKsBdBVVpm",
        "outputId": "b5903164-4383-4759-f725-1a50b685e243"
      },
      "source": [
        "print_name('วนิศรา','จงใจ','623021054-8')\r\n"
      ],
      "execution_count": 5,
      "outputs": [
        {
          "output_type": "execute_result",
          "data": {
            "application/vnd.google.colaboratory.intrinsic+json": {
              "type": "string"
            },
            "text/plain": [
              "'ชื่อ วนิศรา นามสกุล จงใจ ID 623021054-8'"
            ]
          },
          "metadata": {
            "tags": []
          },
          "execution_count": 5
        }
      ]
    },
    {
      "cell_type": "code",
      "metadata": {
        "colab": {
          "base_uri": "https://localhost:8080/"
        },
        "id": "aI7qWWn4W__W",
        "outputId": "512153d1-f3d2-4b0b-a67f-ec675f1f2d2a"
      },
      "source": [
        "output_string = print_name('วนิศรา','จงใจ','623021054-8')\r\n",
        "print(output_string)"
      ],
      "execution_count": 6,
      "outputs": [
        {
          "output_type": "stream",
          "text": [
            "ชื่อ วนิศรา นามสกุล จงใจ ID 623021054-8\n"
          ],
          "name": "stdout"
        }
      ]
    },
    {
      "cell_type": "markdown",
      "metadata": {
        "id": "_IAcifxuXob9"
      },
      "source": [
        "## **ฟังก์ชั่นไม่จำเป็นต้องมี output**"
      ]
    },
    {
      "cell_type": "code",
      "metadata": {
        "id": "qu7kNz8nXthW"
      },
      "source": [
        "def print_name2(surname,ID,name):\r\n",
        "    st = f'ชื่อ {name} นามสกุล {surname} รหัส {ID}'\r\n",
        "    print(st)"
      ],
      "execution_count": 7,
      "outputs": []
    },
    {
      "cell_type": "code",
      "metadata": {
        "colab": {
          "base_uri": "https://localhost:8080/"
        },
        "id": "RlbPepPgYbR-",
        "outputId": "f8f8e5df-022e-4b91-b463-e49f50b8951e"
      },
      "source": [
        "print_name2('วนิศรา', 'จงใจ', '623021054-8')"
      ],
      "execution_count": 8,
      "outputs": [
        {
          "output_type": "stream",
          "text": [
            "ชื่อ 623021054-8 นามสกุล วนิศรา รหัส จงใจ\n"
          ],
          "name": "stdout"
        }
      ]
    },
    {
      "cell_type": "code",
      "metadata": {
        "colab": {
          "base_uri": "https://localhost:8080/"
        },
        "id": "kXIQugGfY-RM",
        "outputId": "a66380c2-076d-43d4-e0dc-92474f466c45"
      },
      "source": [
        "op2 = print_name2('วนิศรา', 'จงใจ', '623021054-8')"
      ],
      "execution_count": 9,
      "outputs": [
        {
          "output_type": "stream",
          "text": [
            "ชื่อ 623021054-8 นามสกุล วนิศรา รหัส จงใจ\n"
          ],
          "name": "stdout"
        }
      ]
    },
    {
      "cell_type": "code",
      "metadata": {
        "id": "cC8CpF6qZJkT",
        "colab": {
          "base_uri": "https://localhost:8080/"
        },
        "outputId": "785150fa-e6a9-4bac-b31b-474064be7559"
      },
      "source": [
        "print(op2)"
      ],
      "execution_count": 10,
      "outputs": [
        {
          "output_type": "stream",
          "text": [
            "None\n"
          ],
          "name": "stdout"
        }
      ]
    },
    {
      "cell_type": "markdown",
      "metadata": {
        "id": "pHq9ldBhZOuc"
      },
      "source": [
        "## **ฟังก์ชั่นไม่จำเป็นต้องมี input**"
      ]
    },
    {
      "cell_type": "code",
      "metadata": {
        "id": "s9ibeaEJZUgD"
      },
      "source": [
        "def pi():\r\n",
        "    return 3.14159265359"
      ],
      "execution_count": 11,
      "outputs": []
    },
    {
      "cell_type": "code",
      "metadata": {
        "colab": {
          "base_uri": "https://localhost:8080/"
        },
        "id": "U4d39G4VZgFE",
        "outputId": "2c72801c-8706-43cf-c89b-b3d201d1e941"
      },
      "source": [
        "#คำนวณพื้นที่วงกลมท่มีเส้นผ่านศูนย์กลางเท่ากับ 3\r\n",
        "pi()*(1.5**2)"
      ],
      "execution_count": 12,
      "outputs": [
        {
          "output_type": "execute_result",
          "data": {
            "text/plain": [
              "7.0685834705775"
            ]
          },
          "metadata": {
            "tags": []
          },
          "execution_count": 12
        }
      ]
    },
    {
      "cell_type": "code",
      "metadata": {
        "id": "zZdldtBCZycT"
      },
      "source": [
        "def print_my_name():\r\n",
        "    print('วนิศรา จงใจ IDxxxxxxxxxxx')"
      ],
      "execution_count": 13,
      "outputs": []
    },
    {
      "cell_type": "code",
      "metadata": {
        "colab": {
          "base_uri": "https://localhost:8080/"
        },
        "id": "qGXMTSuYaIIj",
        "outputId": "e828449d-c511-46d6-e0fe-916b8180e752"
      },
      "source": [
        "print_my_name()"
      ],
      "execution_count": 14,
      "outputs": [
        {
          "output_type": "stream",
          "text": [
            "วนิศรา จงใจ IDxxxxxxxxxxx\n"
          ],
          "name": "stdout"
        }
      ]
    },
    {
      "cell_type": "markdown",
      "metadata": {
        "id": "0NdR9ZYxaU28"
      },
      "source": [
        "### 1.  input ของfuncion ใน python มีสองเเบบ input ที่จำเป็นต้องใส่กับ input ที่ไม่จำเป็นต้องใส่ (มีค่า default) \r\n",
        "### 2. เราต้องเรียง intput ที่จำเป็นต้องใส่ขึ้นก่อน"
      ]
    },
    {
      "cell_type": "code",
      "metadata": {
        "id": "pmXWisYEbB_c"
      },
      "source": [
        "def print_2lines_default(name, surname, ID, grade='F'):\r\n",
        "    st = f'ชื่อ {name} นามสกุล {surname} รหัส {ID}'\r\n",
        "    print(st)\r\n",
        "    st2=f'เกรดวิชา Multivariate >>> {grade}'\r\n",
        "    print(st2)"
      ],
      "execution_count": 15,
      "outputs": []
    },
    {
      "cell_type": "code",
      "metadata": {
        "colab": {
          "base_uri": "https://localhost:8080/"
        },
        "id": "Ar1I5gJacJTU",
        "outputId": "0015e0e5-5dfc-40f7-ed30-e8d17b296762"
      },
      "source": [
        "print_2lines_default('วนิศรา','จงใจ','623021054-8')\r\n"
      ],
      "execution_count": 16,
      "outputs": [
        {
          "output_type": "stream",
          "text": [
            "ชื่อ วนิศรา นามสกุล จงใจ รหัส 623021054-8\n",
            "เกรดวิชา Multivariate >>> F\n"
          ],
          "name": "stdout"
        }
      ]
    },
    {
      "cell_type": "code",
      "metadata": {
        "colab": {
          "base_uri": "https://localhost:8080/"
        },
        "id": "KleVU4662r-J",
        "outputId": "8a40d41e-d72c-4414-ac21-eed12c4fd82f"
      },
      "source": [
        "print_2lines_default('วนิศรา','จงใจ','623021054-8','A')"
      ],
      "execution_count": 17,
      "outputs": [
        {
          "output_type": "stream",
          "text": [
            "ชื่อ วนิศรา นามสกุล จงใจ รหัส 623021054-8\n",
            "เกรดวิชา Multivariate >>> A\n"
          ],
          "name": "stdout"
        }
      ]
    },
    {
      "cell_type": "markdown",
      "metadata": {
        "id": "8Qgo7DuJ3UBJ"
      },
      "source": [
        "### **เราสามารถเรียกฟังก์ชั่นโดยใช้ชื่อตัวแปรของฟังก์ชั่นช่วยได้**"
      ]
    },
    {
      "cell_type": "code",
      "metadata": {
        "colab": {
          "base_uri": "https://localhost:8080/"
        },
        "id": "jLTcRYMs3asR",
        "outputId": "95ff9192-789a-4765-8bc3-16a9d86b1cba"
      },
      "source": [
        "print_name2(name='วนิศรา', surname='จงใจ', ID='623021054-8')"
      ],
      "execution_count": 18,
      "outputs": [
        {
          "output_type": "stream",
          "text": [
            "ชื่อ วนิศรา นามสกุล จงใจ รหัส 623021054-8\n"
          ],
          "name": "stdout"
        }
      ]
    },
    {
      "cell_type": "markdown",
      "metadata": {
        "id": "HDXToDPw3jv_"
      },
      "source": [
        "### **HW3 ให้เขียน function คำนวณจำนวนวินาทีจาก เวลาต่อไปนี้**\r\n",
        "\r\n",
        "'14-15-31'\r\n",
        "\r\n",
        "'13-00-01'\r\n",
        "\r\n",
        "'05-49-44'\r\n",
        "\r\n",
        "'00-00-16'\r\n",
        "\r\n",
        "### **และ print ให้สวยงาม**"
      ]
    },
    {
      "cell_type": "code",
      "metadata": {
        "id": "Jov7DCs66G2P"
      },
      "source": [
        "def print_time(time):\r\n",
        "         time_sp = time.split('-') \r\n",
        "         Answer = int(time_sp[0])*60*60 + int(time_sp[1])*60 + int(time_sp[2])\r\n",
        "         print(f'เวลา {time} คำนวณเป็นจำนวนวินาทีได้เท่ากับ {Answer} วินาที')"
      ],
      "execution_count": 19,
      "outputs": []
    },
    {
      "cell_type": "code",
      "metadata": {
        "colab": {
          "base_uri": "https://localhost:8080/"
        },
        "id": "LUOFCniK5Rut",
        "outputId": "f43920fa-0354-4716-dda8-33c62e8e31ac"
      },
      "source": [
        "print_time('14-15-31')"
      ],
      "execution_count": 20,
      "outputs": [
        {
          "output_type": "stream",
          "text": [
            "เวลา 14-15-31 คำนวณเป็นจำนวนวินาทีได้เท่ากับ 51331 วินาที\n"
          ],
          "name": "stdout"
        }
      ]
    },
    {
      "cell_type": "code",
      "metadata": {
        "colab": {
          "base_uri": "https://localhost:8080/"
        },
        "id": "svOZSXx46jS1",
        "outputId": "c1b20eae-240d-4d21-9853-1f0d4725cb5f"
      },
      "source": [
        "print_time('13-00-01')"
      ],
      "execution_count": 21,
      "outputs": [
        {
          "output_type": "stream",
          "text": [
            "เวลา 13-00-01 คำนวณเป็นจำนวนวินาทีได้เท่ากับ 46801 วินาที\n"
          ],
          "name": "stdout"
        }
      ]
    },
    {
      "cell_type": "code",
      "metadata": {
        "colab": {
          "base_uri": "https://localhost:8080/"
        },
        "id": "CSgB5p3z6lEF",
        "outputId": "14db3707-8648-4bda-e1a7-5acc2972ec1a"
      },
      "source": [
        "print_time('05-49-44')"
      ],
      "execution_count": 22,
      "outputs": [
        {
          "output_type": "stream",
          "text": [
            "เวลา 05-49-44 คำนวณเป็นจำนวนวินาทีได้เท่ากับ 20984 วินาที\n"
          ],
          "name": "stdout"
        }
      ]
    },
    {
      "cell_type": "code",
      "metadata": {
        "colab": {
          "base_uri": "https://localhost:8080/"
        },
        "id": "HEgxPIf06pz1",
        "outputId": "96103369-00ab-45e3-bb2e-53a7853df829"
      },
      "source": [
        "print_time('00-00-16')"
      ],
      "execution_count": 23,
      "outputs": [
        {
          "output_type": "stream",
          "text": [
            "เวลา 00-00-16 คำนวณเป็นจำนวนวินาทีได้เท่ากับ 16 วินาที\n"
          ],
          "name": "stdout"
        }
      ]
    },
    {
      "cell_type": "markdown",
      "metadata": {
        "id": "6mXrTiqPQSXc"
      },
      "source": [
        "# **Numpy -> pacage สำหรับจัดการกับ Array ที่เป็นตัวเลข (Matrix)**\r\n",
        "\r\n",
        "\r\n",
        "Num + py -> Numercal + python\r\n",
        "\r\n",
        "การใช้ Pakge\r\n",
        "1. ```import``` ```ชื่อ Pakage```#เรียกใช้ Pakage\r\n",
        "2. ชื่อ Pakage. =ชื่อฟังก์ชั่น #เรียกใช้ Functoin"
      ]
    },
    {
      "cell_type": "code",
      "metadata": {
        "id": "BsTpFpbTSEBa"
      },
      "source": [
        "import numpy"
      ],
      "execution_count": 27,
      "outputs": []
    },
    {
      "cell_type": "markdown",
      "metadata": {
        "id": "HRvlvuCET0RF"
      },
      "source": [
        "Data struture -> array"
      ]
    },
    {
      "cell_type": "markdown",
      "metadata": {
        "id": "aOdMSnBFUDRu"
      },
      "source": [
        "สร้าง array (numpy array)"
      ]
    },
    {
      "cell_type": "code",
      "metadata": {
        "id": "M42m0uNBTtyZ"
      },
      "source": [
        "mat_ex1 = numpy.array([[5.2,3.0,4.5],[9.1,0.1,0.3]]) # มีเเถว0กับเเถว1 "
      ],
      "execution_count": 33,
      "outputs": []
    },
    {
      "cell_type": "markdown",
      "metadata": {
        "id": "nrb_CwhZUzNK"
      },
      "source": [
        "ชี้ค่าใน numpy array"
      ]
    },
    {
      "cell_type": "code",
      "metadata": {
        "id": "h9mFA7w0V0BM",
        "outputId": "1f502146-db47-4ba5-910b-78b50d8d70fa",
        "colab": {
          "base_uri": "https://localhost:8080/"
        }
      },
      "source": [
        "mat_ex1[1] #[ใช้แถว,หลัก] เรียกใช้เเถว 1"
      ],
      "execution_count": 39,
      "outputs": [
        {
          "output_type": "execute_result",
          "data": {
            "text/plain": [
              "array([9.1, 0.1, 0.3])"
            ]
          },
          "metadata": {
            "tags": []
          },
          "execution_count": 39
        }
      ]
    },
    {
      "cell_type": "code",
      "metadata": {
        "id": "f4pc1EKXU4Gt",
        "outputId": "a6e53076-8dca-4227-fa0f-2ed2dcc66bf6",
        "colab": {
          "base_uri": "https://localhost:8080/"
        }
      },
      "source": [
        "mat_ex1[1,1] #[ใช้แถว,หลัก] เรียกใช้เเถว 1 หลักที่ 1"
      ],
      "execution_count": 35,
      "outputs": [
        {
          "output_type": "execute_result",
          "data": {
            "text/plain": [
              "0.1"
            ]
          },
          "metadata": {
            "tags": []
          },
          "execution_count": 35
        }
      ]
    },
    {
      "cell_type": "markdown",
      "metadata": {
        "id": "wbeAPY8ZV5N2"
      },
      "source": [
        "ถ้าไม่มี numprarray"
      ]
    },
    {
      "cell_type": "code",
      "metadata": {
        "id": "gJjY4DTXV86k",
        "outputId": "6140fba6-a72f-4706-8bd7-79e36b0654db",
        "colab": {
          "base_uri": "https://localhost:8080/"
        }
      },
      "source": [
        "list_ex1 = [[5.2,3.0,4.5],[9.1,0.1,0.3]]\r\n",
        "print(list_ex1)"
      ],
      "execution_count": 38,
      "outputs": [
        {
          "output_type": "stream",
          "text": [
            "[[5.2, 3.0, 4.5], [9.1, 0.1, 0.3]]\n"
          ],
          "name": "stdout"
        }
      ]
    },
    {
      "cell_type": "code",
      "metadata": {
        "id": "raFCOnUXWfrw",
        "outputId": "8ae8e274-00b5-434e-fa1b-0fc921eb86a4",
        "colab": {
          "base_uri": "https://localhost:8080/"
        }
      },
      "source": [
        "list_ex1[1][1] #ใส่เลขได้เเค่ตัวเดียว เรียกใช้เเถว 1 หลักที่ 1"
      ],
      "execution_count": 40,
      "outputs": [
        {
          "output_type": "execute_result",
          "data": {
            "text/plain": [
              "0.1"
            ]
          },
          "metadata": {
            "tags": []
          },
          "execution_count": 40
        }
      ]
    },
    {
      "cell_type": "code",
      "metadata": {
        "id": "_vN0Cnz8XbaP",
        "outputId": "8509341b-d277-4473-880b-403b6d8b2838",
        "colab": {
          "base_uri": "https://localhost:8080/"
        }
      },
      "source": [
        "list(list_ex1)\r\n",
        "a = list_ex1[1]\r\n",
        "print(a)\r\n",
        "print(a[1])"
      ],
      "execution_count": 41,
      "outputs": [
        {
          "output_type": "stream",
          "text": [
            "[9.1, 0.1, 0.3]\n",
            "0.1\n"
          ],
          "name": "stdout"
        }
      ]
    },
    {
      "cell_type": "markdown",
      "metadata": {
        "id": "iZ676jC4X5aK"
      },
      "source": [
        "Matrix Operation\r\n",
        "\r\n",
        "Data 2 แบบ -> matrix (2D) , scalar (ตัวเลขค่าคงที่)"
      ]
    },
    {
      "cell_type": "code",
      "metadata": {
        "id": "PwN8fEFCYW9w",
        "outputId": "ef9e6fa8-d531-41f1-ea1c-9ff96da99406",
        "colab": {
          "base_uri": "https://localhost:8080/"
        }
      },
      "source": [
        "mat_ex1 = numpy.array([[5.2,3.0,4.5],[9.1,0.1,0.3]])\r\n",
        "print(mat_ex1)\r\n",
        "mat_ex2 = numpy.array([[2,3.7,5.9],[91,1.5,7.3]])\r\n",
        "print(mat_ex2)"
      ],
      "execution_count": 43,
      "outputs": [
        {
          "output_type": "stream",
          "text": [
            "[[5.2 3.  4.5]\n",
            " [9.1 0.1 0.3]]\n",
            "[[ 2.   3.7  5.9]\n",
            " [91.   1.5  7.3]]\n"
          ],
          "name": "stdout"
        }
      ]
    },
    {
      "cell_type": "markdown",
      "metadata": {
        "id": "Is385If9ZBX0"
      },
      "source": [
        "บวกกับลบ matrix เอาตัวเลขตำเเหน่งเดียวกันมาบวกกัน"
      ]
    },
    {
      "cell_type": "code",
      "metadata": {
        "id": "17ag3ZfHYq6E",
        "outputId": "1e231060-7637-440d-dffb-d95c649226ab",
        "colab": {
          "base_uri": "https://localhost:8080/"
        }
      },
      "source": [
        "mat_ex3 = mat_ex1 + mat_ex2\r\n",
        "print(mat_ex3)\r\n",
        "mat_ex4 = mat_ex1 - mat_ex2\r\n",
        "print(mat_ex4)"
      ],
      "execution_count": 44,
      "outputs": [
        {
          "output_type": "stream",
          "text": [
            "[[  7.2   6.7  10.4]\n",
            " [100.1   1.6   7.6]]\n",
            "[[  3.2  -0.7  -1.4]\n",
            " [-81.9  -1.4  -7. ]]\n"
          ],
          "name": "stdout"
        }
      ]
    },
    {
      "cell_type": "markdown",
      "metadata": {
        "id": "CH8ureVyZrBx"
      },
      "source": [
        "ข้อจำกัดคือ บวกกับลบต้องเหมือนกัน"
      ]
    },
    {
      "cell_type": "markdown",
      "metadata": {
        "id": "g2u-nmlAZx-R"
      },
      "source": [
        "mat_ex0"
      ]
    },
    {
      "cell_type": "code",
      "metadata": {
        "id": "tqBQC2nZZ5-b"
      },
      "source": [
        ""
      ],
      "execution_count": null,
      "outputs": []
    },
    {
      "cell_type": "markdown",
      "metadata": {
        "id": "ChJI-z2xZ-_V"
      },
      "source": [
        "การตรวจสอบขนาดของ matrix"
      ]
    },
    {
      "cell_type": "code",
      "metadata": {
        "id": "cJ6cABdwaRiY",
        "outputId": "f7c6713a-c4e4-4f8d-9c82-f018fe7740f9",
        "colab": {
          "base_uri": "https://localhost:8080/"
        }
      },
      "source": [
        "mat_ex3.shape"
      ],
      "execution_count": 45,
      "outputs": [
        {
          "output_type": "execute_result",
          "data": {
            "text/plain": [
              "(2, 3)"
            ]
          },
          "metadata": {
            "tags": []
          },
          "execution_count": 45
        }
      ]
    },
    {
      "cell_type": "code",
      "metadata": {
        "id": "VhlBZXm-a1mV",
        "outputId": "8f09206c-35b0-40d3-8b87-3e4531587edf",
        "colab": {
          "base_uri": "https://localhost:8080/"
        }
      },
      "source": [
        "mat_ex3.shape[0]"
      ],
      "execution_count": 47,
      "outputs": [
        {
          "output_type": "execute_result",
          "data": {
            "text/plain": [
              "2"
            ]
          },
          "metadata": {
            "tags": []
          },
          "execution_count": 47
        }
      ]
    },
    {
      "cell_type": "markdown",
      "metadata": {
        "id": "5GYEcj4AbAPd"
      },
      "source": [
        "การคูณ matrix"
      ]
    },
    {
      "cell_type": "code",
      "metadata": {
        "id": "CjFiq1X0b457",
        "outputId": "ea59cadc-59e9-42e9-f9e3-1d95f29e812d",
        "colab": {
          "base_uri": "https://localhost:8080/"
        }
      },
      "source": [
        "print(mat_ex1)\r\n",
        "print(mat_ex1.shape) #ขนาดของmatrix\r\n",
        "print(mat_ex2)\r\n",
        "print(mat_ex2.shape)"
      ],
      "execution_count": 51,
      "outputs": [
        {
          "output_type": "stream",
          "text": [
            "[[5.2 3.  4.5]\n",
            " [9.1 0.1 0.3]]\n",
            "(2, 3)\n",
            "[[ 2.   3.7  5.9]\n",
            " [91.   1.5  7.3]]\n",
            "(2, 3)\n"
          ],
          "name": "stdout"
        }
      ]
    },
    {
      "cell_type": "code",
      "metadata": {
        "id": "0pCxp_7NbMTT",
        "outputId": "be851139-abf4-4eac-da37-e9760a16e74a",
        "colab": {
          "base_uri": "https://localhost:8080/"
        }
      },
      "source": [
        "mat_ex1 * mat_ex2 #ไม่ได้ทำแบบนี้"
      ],
      "execution_count": 48,
      "outputs": [
        {
          "output_type": "execute_result",
          "data": {
            "text/plain": [
              "array([[1.040e+01, 1.110e+01, 2.655e+01],\n",
              "       [8.281e+02, 1.500e-01, 2.190e+00]])"
            ]
          },
          "metadata": {
            "tags": []
          },
          "execution_count": 48
        }
      ]
    },
    {
      "cell_type": "code",
      "metadata": {
        "id": "OaKWX-NQfv-d",
        "outputId": "c624a659-0957-4721-a04c-d6268b5dc681",
        "colab": {
          "base_uri": "https://localhost:8080/",
          "height": 195
        }
      },
      "source": [
        "numpy.dot(mat_ex1,mat_ex2)"
      ],
      "execution_count": 52,
      "outputs": [
        {
          "output_type": "error",
          "ename": "ValueError",
          "evalue": "ignored",
          "traceback": [
            "\u001b[0;31m---------------------------------------------------------------------------\u001b[0m",
            "\u001b[0;31mValueError\u001b[0m                                Traceback (most recent call last)",
            "\u001b[0;32m<ipython-input-52-87326e5d09ab>\u001b[0m in \u001b[0;36m<module>\u001b[0;34m()\u001b[0m\n\u001b[0;32m----> 1\u001b[0;31m \u001b[0mnumpy\u001b[0m\u001b[0;34m.\u001b[0m\u001b[0mdot\u001b[0m\u001b[0;34m(\u001b[0m\u001b[0mmat_ex1\u001b[0m\u001b[0;34m,\u001b[0m\u001b[0mmat_ex2\u001b[0m\u001b[0;34m)\u001b[0m\u001b[0;34m\u001b[0m\u001b[0;34m\u001b[0m\u001b[0m\n\u001b[0m",
            "\u001b[0;32m<__array_function__ internals>\u001b[0m in \u001b[0;36mdot\u001b[0;34m(*args, **kwargs)\u001b[0m\n",
            "\u001b[0;31mValueError\u001b[0m: shapes (2,3) and (2,3) not aligned: 3 (dim 1) != 2 (dim 0)"
          ]
        }
      ]
    },
    {
      "cell_type": "markdown",
      "metadata": {
        "id": "A2qlQUIoes3f"
      },
      "source": [
        "สิ่งที่จะคูณmatrix ได้ (แถว*หลัก)\r\n",
        "\r\n",
        "1. หลักของตัวข้างหน้า = แถวของ matrix ตัวข้างหลัง dot product (AAA,x , (x,ZZZ))= (AAA,ZZZ)"
      ]
    },
    {
      "cell_type": "code",
      "metadata": {
        "id": "XzEXdlphforK",
        "outputId": "fdb8f3bb-113a-496b-cf5f-8aeeac9dbd53",
        "colab": {
          "base_uri": "https://localhost:8080/",
          "height": 128
        }
      },
      "source": [
        "print(mat_ex1) 2*3 ตั้งทำให้เป็น 3*2\r\n",
        "print(mat_ex1.shape) 2,3 \r\n",
        "print(mat_ex2)       \r\n",
        "print(mat_ex2.shape) 2,3 "
      ],
      "execution_count": 56,
      "outputs": [
        {
          "output_type": "error",
          "ename": "SyntaxError",
          "evalue": "ignored",
          "traceback": [
            "\u001b[0;36m  File \u001b[0;32m\"<ipython-input-56-dd2ed6d12983>\"\u001b[0;36m, line \u001b[0;32m1\u001b[0m\n\u001b[0;31m    print(mat_ex1) 2*3 ตั้งทำให้เป็น 3*2\u001b[0m\n\u001b[0m                   ^\u001b[0m\n\u001b[0;31mSyntaxError\u001b[0m\u001b[0;31m:\u001b[0m invalid syntax\n"
          ]
        }
      ]
    },
    {
      "cell_type": "markdown",
      "metadata": {
        "id": "Tx37mN6YgEIu"
      },
      "source": [
        "# Transpose กลับแถวเป็นหลัก กลับหลักเป็นเเถว\r\n",
        "\r\n",
        "matrix.T"
      ]
    },
    {
      "cell_type": "code",
      "metadata": {
        "id": "c6lDpAO3gVXe",
        "outputId": "7373fe25-e154-4843-fc90-74ebce9e9e68",
        "colab": {
          "base_uri": "https://localhost:8080/",
          "height": 128
        }
      },
      "source": [
        "์๊numpy.dot(mat_1,mat_ex2.T) #(2,3).(3,2)"
      ],
      "execution_count": 55,
      "outputs": [
        {
          "output_type": "error",
          "ename": "SyntaxError",
          "evalue": "ignored",
          "traceback": [
            "\u001b[0;36m  File \u001b[0;32m\"<ipython-input-55-baed7f9bf022>\"\u001b[0;36m, line \u001b[0;32m1\u001b[0m\n\u001b[0;31m    ์๊numpy.dot(mat_1,mat_ex2.T) #(2,3).(3,2)\u001b[0m\n\u001b[0m          ^\u001b[0m\n\u001b[0;31mSyntaxError\u001b[0m\u001b[0;31m:\u001b[0m invalid character in identifier\n"
          ]
        }
      ]
    },
    {
      "cell_type": "code",
      "metadata": {
        "id": "fpWIh8_lh0dS",
        "outputId": "a0d7b658-4389-4bfc-99b7-564cf46aa9bc",
        "colab": {
          "base_uri": "https://localhost:8080/",
          "height": 161
        }
      },
      "source": [
        "numpy.dot(mat_1.T,mat_ex2) #(3,2).(2,3)"
      ],
      "execution_count": 57,
      "outputs": [
        {
          "output_type": "error",
          "ename": "NameError",
          "evalue": "ignored",
          "traceback": [
            "\u001b[0;31m---------------------------------------------------------------------------\u001b[0m",
            "\u001b[0;31mNameError\u001b[0m                                 Traceback (most recent call last)",
            "\u001b[0;32m<ipython-input-57-6a171f276a6a>\u001b[0m in \u001b[0;36m<module>\u001b[0;34m()\u001b[0m\n\u001b[0;32m----> 1\u001b[0;31m \u001b[0mnumpy\u001b[0m\u001b[0;34m.\u001b[0m\u001b[0mdot\u001b[0m\u001b[0;34m(\u001b[0m\u001b[0mmat_1\u001b[0m\u001b[0;34m.\u001b[0m\u001b[0mT\u001b[0m\u001b[0;34m,\u001b[0m\u001b[0mmat_ex2\u001b[0m\u001b[0;34m)\u001b[0m \u001b[0;31m#(3,2).(2,3)\u001b[0m\u001b[0;34m\u001b[0m\u001b[0;34m\u001b[0m\u001b[0m\n\u001b[0m",
            "\u001b[0;31mNameError\u001b[0m: name 'mat_1' is not defined"
          ]
        }
      ]
    }
  ]
}