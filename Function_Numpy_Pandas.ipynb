{
  "nbformat": 4,
  "nbformat_minor": 0,
  "metadata": {
    "colab": {
      "name": "Function_Numpy_Pandas.ipynb",
      "provenance": [],
      "collapsed_sections": [],
      "authorship_tag": "ABX9TyMgzKXjjCGLUE+9ofCoKhb+",
      "include_colab_link": true
    },
    "kernelspec": {
      "name": "python3",
      "display_name": "Python 3"
    }
  },
  "cells": [
    {
      "cell_type": "markdown",
      "metadata": {
        "id": "view-in-github",
        "colab_type": "text"
      },
      "source": [
        "<a href=\"https://colab.research.google.com/github/Jaomiew/Multivariate/blob/main/Function_Numpy_Pandas.ipynb\" target=\"_parent\"><img src=\"https://colab.research.google.com/assets/colab-badge.svg\" alt=\"Open In Colab\"/></a>"
      ]
    },
    {
      "cell_type": "markdown",
      "metadata": {
        "id": "oqhPT_LfSSMI"
      },
      "source": [
        "# **Funcion**"
      ]
    },
    {
      "cell_type": "markdown",
      "metadata": {
        "id": "BOhi9WZWTANv"
      },
      "source": [
        "```Python\r\n",
        "def function_name(_Input_):\r\n",
        "    do_something with _Input_ to produce _Output_\r\n",
        "    return _Output_\r\n",
        "```"
      ]
    },
    {
      "cell_type": "markdown",
      "metadata": {
        "id": "nw5si_-ZTYjv"
      },
      "source": [
        "## **funcion มีทั้งหมด 4 ส่วน**\r\n",
        "1. บอก python ว่าเราจะเขียนฟังก์ชั่น ชื่ออะไร def funcion_name():(ขาดไม่ได้)\r\n",
        "2. กำหนดตัวแปรที่จะเป็น Input (ขาดไม่ได้)\r\n",
        "3. ส่วนประมวลผล do_something with input to get Output (ขาดไม่ได้)\r\n",
        "4. ส่วน Output return output (ขาดไม่ได้)\r\n",
        "###เราใช้ เว้นวรรค (indent) เพื่อบอกขอบเขตของ code"
      ]
    },
    {
      "cell_type": "markdown",
      "metadata": {
        "id": "cagU-KtJWVtV"
      },
      "source": [
        "## **สร้างฟังก์ชั่น**"
      ]
    },
    {
      "cell_type": "code",
      "metadata": {
        "id": "yAwpvvzdUqrQ",
        "colab": {
          "base_uri": "https://localhost:8080/"
        },
        "outputId": "87032c1d-02d2-4f4c-f5e2-2bb49c36e9b3"
      },
      "source": [
        "def print_name(name,surname,ID):\r\n",
        "    st = f'ชื่อ {name} นามสกุล {surname} ID {ID}'\r\n",
        "    return st\r\n",
        "print('outside function')"
      ],
      "execution_count": 1,
      "outputs": [
        {
          "output_type": "stream",
          "text": [
            "outside function\n"
          ],
          "name": "stdout"
        }
      ]
    },
    {
      "cell_type": "markdown",
      "metadata": {
        "id": "AWDkQhA9Wzb_"
      },
      "source": [
        "## **การเรียกใช้ฟังก์ชั่น**"
      ]
    },
    {
      "cell_type": "code",
      "metadata": {
        "colab": {
          "base_uri": "https://localhost:8080/",
          "height": 35
        },
        "id": "UXnKsBdBVVpm",
        "outputId": "a0938b24-f319-4660-9f50-e0f62d3d4a0a"
      },
      "source": [
        "print_name('วนิศรา','จงใจ','623021054-8')\r\n"
      ],
      "execution_count": 2,
      "outputs": [
        {
          "output_type": "execute_result",
          "data": {
            "application/vnd.google.colaboratory.intrinsic+json": {
              "type": "string"
            },
            "text/plain": [
              "'ชื่อ วนิศรา นามสกุล จงใจ ID 623021054-8'"
            ]
          },
          "metadata": {
            "tags": []
          },
          "execution_count": 2
        }
      ]
    },
    {
      "cell_type": "code",
      "metadata": {
        "colab": {
          "base_uri": "https://localhost:8080/"
        },
        "id": "aI7qWWn4W__W",
        "outputId": "c8f20934-128a-483b-8c84-9687dc14c71f"
      },
      "source": [
        "output_string = print_name('วนิศรา','จงใจ','623021054-8')\r\n",
        "print(output_string)"
      ],
      "execution_count": 3,
      "outputs": [
        {
          "output_type": "stream",
          "text": [
            "ชื่อ วนิศรา นามสกุล จงใจ ID 623021054-8\n"
          ],
          "name": "stdout"
        }
      ]
    },
    {
      "cell_type": "markdown",
      "metadata": {
        "id": "_IAcifxuXob9"
      },
      "source": [
        "## **ฟังก์ชั่นไม่จำเป็นต้องมี output**"
      ]
    },
    {
      "cell_type": "code",
      "metadata": {
        "id": "qu7kNz8nXthW"
      },
      "source": [
        "def print_name2(surname,ID,name):\r\n",
        "    st = f'ชื่อ {name} นามสกุล {surname} รหัส {ID}'\r\n",
        "    print(st)"
      ],
      "execution_count": 4,
      "outputs": []
    },
    {
      "cell_type": "code",
      "metadata": {
        "colab": {
          "base_uri": "https://localhost:8080/"
        },
        "id": "RlbPepPgYbR-",
        "outputId": "e14d72f0-e2bc-4669-f66b-2bb00067412b"
      },
      "source": [
        "print_name2('วนิศรา', 'จงใจ', '623021054-8')"
      ],
      "execution_count": 5,
      "outputs": [
        {
          "output_type": "stream",
          "text": [
            "ชื่อ 623021054-8 นามสกุล วนิศรา รหัส จงใจ\n"
          ],
          "name": "stdout"
        }
      ]
    },
    {
      "cell_type": "code",
      "metadata": {
        "colab": {
          "base_uri": "https://localhost:8080/"
        },
        "id": "kXIQugGfY-RM",
        "outputId": "7d8391ab-f07e-479f-ff2f-644f4116e7ce"
      },
      "source": [
        "op2 = print_name2('วนิศรา', 'จงใจ', '623021054-8')"
      ],
      "execution_count": 6,
      "outputs": [
        {
          "output_type": "stream",
          "text": [
            "ชื่อ 623021054-8 นามสกุล วนิศรา รหัส จงใจ\n"
          ],
          "name": "stdout"
        }
      ]
    },
    {
      "cell_type": "code",
      "metadata": {
        "id": "cC8CpF6qZJkT",
        "colab": {
          "base_uri": "https://localhost:8080/"
        },
        "outputId": "46fae793-892b-4e69-a4d8-19551dfa7fe1"
      },
      "source": [
        "print(op2)"
      ],
      "execution_count": 7,
      "outputs": [
        {
          "output_type": "stream",
          "text": [
            "None\n"
          ],
          "name": "stdout"
        }
      ]
    },
    {
      "cell_type": "markdown",
      "metadata": {
        "id": "pHq9ldBhZOuc"
      },
      "source": [
        "## **ฟังก์ชั่นไม่จำเป็นต้องมี input**"
      ]
    },
    {
      "cell_type": "code",
      "metadata": {
        "id": "s9ibeaEJZUgD"
      },
      "source": [
        "def pi():\r\n",
        "    return 3.14159265359"
      ],
      "execution_count": 8,
      "outputs": []
    },
    {
      "cell_type": "code",
      "metadata": {
        "colab": {
          "base_uri": "https://localhost:8080/"
        },
        "id": "U4d39G4VZgFE",
        "outputId": "76237874-52fc-4dcd-82a8-afb1ee78bc29"
      },
      "source": [
        "#คำนวณพื้นที่วงกลมท่มีเส้นผ่านศูนย์กลางเท่ากับ 3\r\n",
        "pi()*(1.5**2)"
      ],
      "execution_count": 9,
      "outputs": [
        {
          "output_type": "execute_result",
          "data": {
            "text/plain": [
              "7.0685834705775"
            ]
          },
          "metadata": {
            "tags": []
          },
          "execution_count": 9
        }
      ]
    },
    {
      "cell_type": "code",
      "metadata": {
        "id": "zZdldtBCZycT"
      },
      "source": [
        "def print_my_name():\r\n",
        "    print('วนิศรา จงใจ IDxxxxxxxxxxx')"
      ],
      "execution_count": 10,
      "outputs": []
    },
    {
      "cell_type": "code",
      "metadata": {
        "colab": {
          "base_uri": "https://localhost:8080/"
        },
        "id": "qGXMTSuYaIIj",
        "outputId": "e30ac16b-faa8-4656-e372-a1d7d8677b31"
      },
      "source": [
        "print_my_name()"
      ],
      "execution_count": 11,
      "outputs": [
        {
          "output_type": "stream",
          "text": [
            "วนิศรา จงใจ IDxxxxxxxxxxx\n"
          ],
          "name": "stdout"
        }
      ]
    },
    {
      "cell_type": "markdown",
      "metadata": {
        "id": "0NdR9ZYxaU28"
      },
      "source": [
        "### 1.  input ของfuncion ใน python มีสองเเบบ input ที่จำเป็นต้องใส่กับ input ที่ไม่จำเป็นต้องใส่ (มีค่า default) \r\n",
        "### 2. เราต้องเรียง intput ที่จำเป็นต้องใส่ขึ้นก่อน"
      ]
    },
    {
      "cell_type": "code",
      "metadata": {
        "id": "pmXWisYEbB_c"
      },
      "source": [
        "def print_2lines_default(name, surname, ID, grade='F'):\r\n",
        "    st = f'ชื่อ {name} นามสกุล {surname} รหัส {ID}'\r\n",
        "    print(st)\r\n",
        "    st2=f'เกรดวิชา Multivariate >>> {grade}'\r\n",
        "    print(st2)"
      ],
      "execution_count": 12,
      "outputs": []
    },
    {
      "cell_type": "code",
      "metadata": {
        "colab": {
          "base_uri": "https://localhost:8080/"
        },
        "id": "Ar1I5gJacJTU",
        "outputId": "56725831-6475-49fe-c342-7ae6569c4c52"
      },
      "source": [
        "print_2lines_default('วนิศรา','จงใจ','623021054-8')\r\n"
      ],
      "execution_count": 13,
      "outputs": [
        {
          "output_type": "stream",
          "text": [
            "ชื่อ วนิศรา นามสกุล จงใจ รหัส 623021054-8\n",
            "เกรดวิชา Multivariate >>> F\n"
          ],
          "name": "stdout"
        }
      ]
    },
    {
      "cell_type": "code",
      "metadata": {
        "colab": {
          "base_uri": "https://localhost:8080/"
        },
        "id": "KleVU4662r-J",
        "outputId": "1282972c-6d03-4ee3-a854-e3daa3a0fa8b"
      },
      "source": [
        "print_2lines_default('วนิศรา','จงใจ','623021054-8','A')"
      ],
      "execution_count": 14,
      "outputs": [
        {
          "output_type": "stream",
          "text": [
            "ชื่อ วนิศรา นามสกุล จงใจ รหัส 623021054-8\n",
            "เกรดวิชา Multivariate >>> A\n"
          ],
          "name": "stdout"
        }
      ]
    },
    {
      "cell_type": "markdown",
      "metadata": {
        "id": "8Qgo7DuJ3UBJ"
      },
      "source": [
        "### **เราสามารถเรียกฟังก์ชั่นโดยใช้ชื่อตัวแปรของฟังก์ชั่นช่วยได้**"
      ]
    },
    {
      "cell_type": "code",
      "metadata": {
        "colab": {
          "base_uri": "https://localhost:8080/"
        },
        "id": "jLTcRYMs3asR",
        "outputId": "64233445-8f98-464b-99b4-8b7a03461618"
      },
      "source": [
        "print_name2(name='วนิศรา', surname='จงใจ', ID='623021054-8')"
      ],
      "execution_count": 15,
      "outputs": [
        {
          "output_type": "stream",
          "text": [
            "ชื่อ วนิศรา นามสกุล จงใจ รหัส 623021054-8\n"
          ],
          "name": "stdout"
        }
      ]
    },
    {
      "cell_type": "markdown",
      "metadata": {
        "id": "HDXToDPw3jv_"
      },
      "source": [
        "### **HW3 ให้เขียน function คำนวณจำนวนวินาทีจาก เวลาต่อไปนี้**\r\n",
        "\r\n",
        "'14-15-31'\r\n",
        "\r\n",
        "'13-00-01'\r\n",
        "\r\n",
        "'05-49-44'\r\n",
        "\r\n",
        "'00-00-16'\r\n",
        "\r\n",
        "### **และ print ให้สวยงาม**"
      ]
    },
    {
      "cell_type": "code",
      "metadata": {
        "id": "Jov7DCs66G2P"
      },
      "source": [
        "def print_time(time):\r\n",
        "         time_sp = time.split('-') \r\n",
        "         Answer = int(time_sp[0])*60*60 + int(time_sp[1])*60 + int(time_sp[2])\r\n",
        "         print(f'เวลา {time} คำนวณเป็นจำนวนวินาทีได้เท่ากับ {Answer} วินาที')"
      ],
      "execution_count": 16,
      "outputs": []
    },
    {
      "cell_type": "code",
      "metadata": {
        "colab": {
          "base_uri": "https://localhost:8080/"
        },
        "id": "LUOFCniK5Rut",
        "outputId": "2fe4a154-12c1-4aa7-b749-59321b5e6576"
      },
      "source": [
        "print_time('14-15-31')"
      ],
      "execution_count": 17,
      "outputs": [
        {
          "output_type": "stream",
          "text": [
            "เวลา 14-15-31 คำนวณเป็นจำนวนวินาทีได้เท่ากับ 51331 วินาที\n"
          ],
          "name": "stdout"
        }
      ]
    },
    {
      "cell_type": "code",
      "metadata": {
        "colab": {
          "base_uri": "https://localhost:8080/"
        },
        "id": "svOZSXx46jS1",
        "outputId": "9b86cbef-33bb-4b53-aa36-6c373c663318"
      },
      "source": [
        "print_time('13-00-01')"
      ],
      "execution_count": 18,
      "outputs": [
        {
          "output_type": "stream",
          "text": [
            "เวลา 13-00-01 คำนวณเป็นจำนวนวินาทีได้เท่ากับ 46801 วินาที\n"
          ],
          "name": "stdout"
        }
      ]
    },
    {
      "cell_type": "code",
      "metadata": {
        "colab": {
          "base_uri": "https://localhost:8080/"
        },
        "id": "CSgB5p3z6lEF",
        "outputId": "f6cd4da8-0635-4d9a-b1af-0501e6cdfdb4"
      },
      "source": [
        "print_time('05-49-44')"
      ],
      "execution_count": 19,
      "outputs": [
        {
          "output_type": "stream",
          "text": [
            "เวลา 05-49-44 คำนวณเป็นจำนวนวินาทีได้เท่ากับ 20984 วินาที\n"
          ],
          "name": "stdout"
        }
      ]
    },
    {
      "cell_type": "code",
      "metadata": {
        "colab": {
          "base_uri": "https://localhost:8080/"
        },
        "id": "HEgxPIf06pz1",
        "outputId": "a2233e81-ef29-4ebe-b7bc-25dd5b9507bb"
      },
      "source": [
        "print_time('00-00-16')"
      ],
      "execution_count": 20,
      "outputs": [
        {
          "output_type": "stream",
          "text": [
            "เวลา 00-00-16 คำนวณเป็นจำนวนวินาทีได้เท่ากับ 16 วินาที\n"
          ],
          "name": "stdout"
        }
      ]
    },
    {
      "cell_type": "markdown",
      "metadata": {
        "id": "6mXrTiqPQSXc"
      },
      "source": [
        "# **Numpy -> pacage สำหรับจัดการกับ Array ที่เป็นตัวเลข (Matrix)**\r\n",
        "\r\n",
        "\r\n",
        "### Num + py -> Numercal + python\r\n",
        "\r\n",
        "### การใช้ Pakge\r\n",
        "1. ```import``` ```ชื่อ Pakage```#เรียกใช้ Pakage\r\n",
        "2. ชื่อ Pakage. =ชื่อฟังก์ชั่น #เรียกใช้ Functoin"
      ]
    },
    {
      "cell_type": "code",
      "metadata": {
        "id": "BsTpFpbTSEBa"
      },
      "source": [
        "import numpy"
      ],
      "execution_count": 43,
      "outputs": []
    },
    {
      "cell_type": "markdown",
      "metadata": {
        "id": "HRvlvuCET0RF"
      },
      "source": [
        "# **Data struture -> array**"
      ]
    },
    {
      "cell_type": "markdown",
      "metadata": {
        "id": "aOdMSnBFUDRu"
      },
      "source": [
        "# **สร้าง array (numpy array)**"
      ]
    },
    {
      "cell_type": "code",
      "metadata": {
        "id": "M42m0uNBTtyZ"
      },
      "source": [
        "mat_ex1 = numpy.array([[5.2,3.0,4.5],[9.1,0.1,0.3]]) # มีเเถว0กับเเถว1 "
      ],
      "execution_count": 45,
      "outputs": []
    },
    {
      "cell_type": "markdown",
      "metadata": {
        "id": "nrb_CwhZUzNK"
      },
      "source": [
        "# **ชี้ค่าใน numpy array**"
      ]
    },
    {
      "cell_type": "code",
      "metadata": {
        "id": "h9mFA7w0V0BM",
        "colab": {
          "base_uri": "https://localhost:8080/"
        },
        "outputId": "585e2215-a254-4c97-d2c7-9995ed2659b1"
      },
      "source": [
        "mat_ex1[1] #[ใช้แถว,หลัก] เรียกใช้เเถว 1"
      ],
      "execution_count": 46,
      "outputs": [
        {
          "output_type": "execute_result",
          "data": {
            "text/plain": [
              "array([9.1, 0.1, 0.3])"
            ]
          },
          "metadata": {
            "tags": []
          },
          "execution_count": 46
        }
      ]
    },
    {
      "cell_type": "code",
      "metadata": {
        "id": "f4pc1EKXU4Gt",
        "colab": {
          "base_uri": "https://localhost:8080/"
        },
        "outputId": "46572926-4be3-4098-9e1f-e10a3216f13a"
      },
      "source": [
        "mat_ex1[1,1] #[ใช้แถว,หลัก] เรียกใช้เเถว 1 หลักที่ 1"
      ],
      "execution_count": 47,
      "outputs": [
        {
          "output_type": "execute_result",
          "data": {
            "text/plain": [
              "0.1"
            ]
          },
          "metadata": {
            "tags": []
          },
          "execution_count": 47
        }
      ]
    },
    {
      "cell_type": "markdown",
      "metadata": {
        "id": "wbeAPY8ZV5N2"
      },
      "source": [
        "# **ถ้าไม่มี numprarray**"
      ]
    },
    {
      "cell_type": "code",
      "metadata": {
        "id": "gJjY4DTXV86k",
        "colab": {
          "base_uri": "https://localhost:8080/"
        },
        "outputId": "b9059c0d-a544-4455-90f6-5dc03054b9cf"
      },
      "source": [
        "list_ex1 = [[5.2,3.0,4.5],[9.1,0.1,0.3]]\r\n",
        "print(list_ex1)"
      ],
      "execution_count": 48,
      "outputs": [
        {
          "output_type": "stream",
          "text": [
            "[[5.2, 3.0, 4.5], [9.1, 0.1, 0.3]]\n"
          ],
          "name": "stdout"
        }
      ]
    },
    {
      "cell_type": "code",
      "metadata": {
        "id": "raFCOnUXWfrw",
        "colab": {
          "base_uri": "https://localhost:8080/"
        },
        "outputId": "53e44e9d-2d9b-48c8-c51f-af183932d035"
      },
      "source": [
        "list_ex1[1][1] #ใส่เลขได้เเค่ตัวเดียว เรียกใช้เเถว 1 หลักที่ 1"
      ],
      "execution_count": 49,
      "outputs": [
        {
          "output_type": "execute_result",
          "data": {
            "text/plain": [
              "0.1"
            ]
          },
          "metadata": {
            "tags": []
          },
          "execution_count": 49
        }
      ]
    },
    {
      "cell_type": "code",
      "metadata": {
        "id": "_vN0Cnz8XbaP",
        "colab": {
          "base_uri": "https://localhost:8080/"
        },
        "outputId": "320acc5e-5540-45eb-d9bf-b2803d62e09e"
      },
      "source": [
        "list(list_ex1)\r\n",
        "a = list_ex1[1]\r\n",
        "print(a)\r\n",
        "print(a[1])"
      ],
      "execution_count": 50,
      "outputs": [
        {
          "output_type": "stream",
          "text": [
            "[9.1, 0.1, 0.3]\n",
            "0.1\n"
          ],
          "name": "stdout"
        }
      ]
    },
    {
      "cell_type": "markdown",
      "metadata": {
        "id": "iZ676jC4X5aK"
      },
      "source": [
        "# **Matrix Operation**\r\n",
        "\r\n",
        "### Data 2 แบบ -> matrix (2D) , scalar (ตัวเลขค่าคงที่)"
      ]
    },
    {
      "cell_type": "code",
      "metadata": {
        "id": "PwN8fEFCYW9w",
        "colab": {
          "base_uri": "https://localhost:8080/"
        },
        "outputId": "c0d89e99-011c-4062-bddc-89fc08b7e909"
      },
      "source": [
        "mat_ex1 = numpy.array([[5.2,3.0,4.5],[9.1,0.1,0.3]])\r\n",
        "print(mat_ex1)\r\n",
        "mat_ex2 = numpy.array([[2,3.7,5.9],[91,1.5,7.3]])\r\n",
        "print(mat_ex2)"
      ],
      "execution_count": 51,
      "outputs": [
        {
          "output_type": "stream",
          "text": [
            "[[5.2 3.  4.5]\n",
            " [9.1 0.1 0.3]]\n",
            "[[ 2.   3.7  5.9]\n",
            " [91.   1.5  7.3]]\n"
          ],
          "name": "stdout"
        }
      ]
    },
    {
      "cell_type": "markdown",
      "metadata": {
        "id": "Is385If9ZBX0"
      },
      "source": [
        "# **บวกกับลบ matrix เอาตัวเลขตำเเหน่งเดียวกันมาบวกกัน**\r\n",
        "\r\n",
        "### (หน้าตาของ matrix ต้องเหมือนกัน)"
      ]
    },
    {
      "cell_type": "code",
      "metadata": {
        "id": "p8-EnEhAV6GP",
        "outputId": "823439fb-d15c-4de6-f656-f369c2b71d6d",
        "colab": {
          "base_uri": "https://localhost:8080/"
        }
      },
      "source": [
        "mat_ex0 = numpy.array([[1,2],[3,4]])\r\n",
        "print(mat_ex0)"
      ],
      "execution_count": 54,
      "outputs": [
        {
          "output_type": "stream",
          "text": [
            "[[1 2]\n",
            " [3 4]]\n"
          ],
          "name": "stdout"
        }
      ]
    },
    {
      "cell_type": "code",
      "metadata": {
        "id": "17ag3ZfHYq6E",
        "colab": {
          "base_uri": "https://localhost:8080/"
        },
        "outputId": "5a091d76-3190-4743-bd31-a2153eb0615c"
      },
      "source": [
        "mat_ex3 = mat_ex1 + mat_ex2\r\n",
        "print(mat_ex3)\r\n",
        "mat_ex4 = mat_ex1 - mat_ex2\r\n",
        "print(mat_ex4)"
      ],
      "execution_count": 52,
      "outputs": [
        {
          "output_type": "stream",
          "text": [
            "[[  7.2   6.7  10.4]\n",
            " [100.1   1.6   7.6]]\n",
            "[[  3.2  -0.7  -1.4]\n",
            " [-81.9  -1.4  -7. ]]\n"
          ],
          "name": "stdout"
        }
      ]
    },
    {
      "cell_type": "markdown",
      "metadata": {
        "id": "CH8ureVyZrBx"
      },
      "source": [
        "# **ข้อจำกัดคือ บวกกับลบต้องเหมือนกัน**"
      ]
    },
    {
      "cell_type": "code",
      "metadata": {
        "id": "tqBQC2nZZ5-b",
        "outputId": "8e645a34-c66c-4f57-b370-515d1896dacf",
        "colab": {
          "base_uri": "https://localhost:8080/",
          "height": 161
        }
      },
      "source": [
        "mat_ex1 + mat_ex0"
      ],
      "execution_count": 55,
      "outputs": [
        {
          "output_type": "error",
          "ename": "ValueError",
          "evalue": "ignored",
          "traceback": [
            "\u001b[0;31m---------------------------------------------------------------------------\u001b[0m",
            "\u001b[0;31mValueError\u001b[0m                                Traceback (most recent call last)",
            "\u001b[0;32m<ipython-input-55-806ad2057085>\u001b[0m in \u001b[0;36m<module>\u001b[0;34m()\u001b[0m\n\u001b[0;32m----> 1\u001b[0;31m \u001b[0mmat_ex1\u001b[0m \u001b[0;34m+\u001b[0m \u001b[0mmat_ex0\u001b[0m\u001b[0;34m\u001b[0m\u001b[0;34m\u001b[0m\u001b[0m\n\u001b[0m",
            "\u001b[0;31mValueError\u001b[0m: operands could not be broadcast together with shapes (2,3) (2,2) "
          ]
        }
      ]
    },
    {
      "cell_type": "markdown",
      "metadata": {
        "id": "ChJI-z2xZ-_V"
      },
      "source": [
        "# **การตรวจสอบขนาดของ matrix**"
      ]
    },
    {
      "cell_type": "code",
      "metadata": {
        "id": "cJ6cABdwaRiY",
        "colab": {
          "base_uri": "https://localhost:8080/"
        },
        "outputId": "078997d5-5d61-4de6-b908-cd0a45b81263"
      },
      "source": [
        "mat_ex3.shape"
      ],
      "execution_count": 30,
      "outputs": [
        {
          "output_type": "execute_result",
          "data": {
            "text/plain": [
              "(2, 3)"
            ]
          },
          "metadata": {
            "tags": []
          },
          "execution_count": 30
        }
      ]
    },
    {
      "cell_type": "code",
      "metadata": {
        "id": "VhlBZXm-a1mV",
        "colab": {
          "base_uri": "https://localhost:8080/"
        },
        "outputId": "dd2f6362-be4d-43f2-a57d-b2df9fe27ae8"
      },
      "source": [
        "mat_ex3.shape[0]"
      ],
      "execution_count": 31,
      "outputs": [
        {
          "output_type": "execute_result",
          "data": {
            "text/plain": [
              "2"
            ]
          },
          "metadata": {
            "tags": []
          },
          "execution_count": 31
        }
      ]
    },
    {
      "cell_type": "markdown",
      "metadata": {
        "id": "5GYEcj4AbAPd"
      },
      "source": [
        "# **การคูณ matrix**"
      ]
    },
    {
      "cell_type": "markdown",
      "metadata": {
        "id": "xJq-PxccWWEz"
      },
      "source": [
        "### **(หลักของ Matrix ตัวข้างหน้า ต้องเท่ากับแถวของ Matrix ตัวข้างหลัง)**\r\n",
        "\r\n",
        "### (AAA,x) . (x,ZZZ) = (AAA,ZZZ)"
      ]
    },
    {
      "cell_type": "code",
      "metadata": {
        "id": "C26LRcVKWhzi",
        "outputId": "97072ff0-6e00-4632-e078-567ede317d9c",
        "colab": {
          "base_uri": "https://localhost:8080/",
          "height": 212
        }
      },
      "source": [
        "\r\n",
        "numpy.dot(mat_ex1,mat_ex2)"
      ],
      "execution_count": 65,
      "outputs": [
        {
          "output_type": "error",
          "ename": "ValueError",
          "evalue": "ignored",
          "traceback": [
            "\u001b[0;31m---------------------------------------------------------------------------\u001b[0m",
            "\u001b[0;31mValueError\u001b[0m                                Traceback (most recent call last)",
            "\u001b[0;32m<ipython-input-65-40798680ec0d>\u001b[0m in \u001b[0;36m<module>\u001b[0;34m()\u001b[0m\n\u001b[1;32m      1\u001b[0m \u001b[0;34m\u001b[0m\u001b[0m\n\u001b[0;32m----> 2\u001b[0;31m \u001b[0mnumpy\u001b[0m\u001b[0;34m.\u001b[0m\u001b[0mdot\u001b[0m\u001b[0;34m(\u001b[0m\u001b[0mmat_ex1\u001b[0m\u001b[0;34m,\u001b[0m\u001b[0mmat_ex2\u001b[0m\u001b[0;34m)\u001b[0m\u001b[0;34m\u001b[0m\u001b[0;34m\u001b[0m\u001b[0m\n\u001b[0m",
            "\u001b[0;32m<__array_function__ internals>\u001b[0m in \u001b[0;36mdot\u001b[0;34m(*args, **kwargs)\u001b[0m\n",
            "\u001b[0;31mValueError\u001b[0m: shapes (2,3) and (2,3) not aligned: 3 (dim 1) != 2 (dim 0)"
          ]
        }
      ]
    },
    {
      "cell_type": "code",
      "metadata": {
        "id": "CjFiq1X0b457",
        "colab": {
          "base_uri": "https://localhost:8080/"
        },
        "outputId": "36f34f88-26b2-4f20-b13d-49fc3f084394"
      },
      "source": [
        "print(mat_ex1)\r\n",
        "print(mat_ex1.shape) #ขนาดของmatrix\r\n",
        "print(mat_ex2)\r\n",
        "print(mat_ex2.shape)"
      ],
      "execution_count": 66,
      "outputs": [
        {
          "output_type": "stream",
          "text": [
            "[[5.2 3.  4.5]\n",
            " [9.1 0.1 0.3]]\n",
            "(2, 3)\n",
            "[[ 2.   3.7  5.9]\n",
            " [91.   1.5  7.3]]\n",
            "(2, 3)\n"
          ],
          "name": "stdout"
        }
      ]
    },
    {
      "cell_type": "code",
      "metadata": {
        "id": "0pCxp_7NbMTT",
        "colab": {
          "base_uri": "https://localhost:8080/"
        },
        "outputId": "ecfb62bc-ddfc-447f-de27-136089e6cd1f"
      },
      "source": [
        "mat_ex1 * mat_ex2 #ไม่ได้ทำแบบนี้"
      ],
      "execution_count": 33,
      "outputs": [
        {
          "output_type": "execute_result",
          "data": {
            "text/plain": [
              "array([[1.040e+01, 1.110e+01, 2.655e+01],\n",
              "       [8.281e+02, 1.500e-01, 2.190e+00]])"
            ]
          },
          "metadata": {
            "tags": []
          },
          "execution_count": 33
        }
      ]
    },
    {
      "cell_type": "markdown",
      "metadata": {
        "id": "eJrOwnCSYkRp"
      },
      "source": [
        "# **การคูณ matrix (แถวคูณหลัก)**\r\n",
        "\r\n",
        "### (หลักของ Matrix ตัวข้างหน้า ต้องเท่ากับแถวของ Matrix ตัวข้างหลัง)\r\n",
        "\r\n",
        "### (AAA,x) . (x,ZZZ) = (AAA,ZZZ)"
      ]
    },
    {
      "cell_type": "code",
      "metadata": {
        "id": "OaKWX-NQfv-d",
        "colab": {
          "base_uri": "https://localhost:8080/",
          "height": 195
        },
        "outputId": "23650f60-e15f-426e-9ce5-cfc149e23573"
      },
      "source": [
        "numpy.dot(mat_ex1,mat_ex2)"
      ],
      "execution_count": 67,
      "outputs": [
        {
          "output_type": "error",
          "ename": "ValueError",
          "evalue": "ignored",
          "traceback": [
            "\u001b[0;31m---------------------------------------------------------------------------\u001b[0m",
            "\u001b[0;31mValueError\u001b[0m                                Traceback (most recent call last)",
            "\u001b[0;32m<ipython-input-67-87326e5d09ab>\u001b[0m in \u001b[0;36m<module>\u001b[0;34m()\u001b[0m\n\u001b[0;32m----> 1\u001b[0;31m \u001b[0mnumpy\u001b[0m\u001b[0;34m.\u001b[0m\u001b[0mdot\u001b[0m\u001b[0;34m(\u001b[0m\u001b[0mmat_ex1\u001b[0m\u001b[0;34m,\u001b[0m\u001b[0mmat_ex2\u001b[0m\u001b[0;34m)\u001b[0m\u001b[0;34m\u001b[0m\u001b[0;34m\u001b[0m\u001b[0m\n\u001b[0m",
            "\u001b[0;32m<__array_function__ internals>\u001b[0m in \u001b[0;36mdot\u001b[0;34m(*args, **kwargs)\u001b[0m\n",
            "\u001b[0;31mValueError\u001b[0m: shapes (2,3) and (2,3) not aligned: 3 (dim 1) != 2 (dim 0)"
          ]
        }
      ]
    },
    {
      "cell_type": "markdown",
      "metadata": {
        "id": "A2qlQUIoes3f"
      },
      "source": [
        "## สิ่งที่จะคูณmatrix ได้ (แถว*หลัก) \r\n",
        "\r\n",
        "1. หลักของตัวข้างหน้า = แถวของ matrix ตัวข้างหลัง dot product (AAA,x , (x,ZZZ))= (AAA,ZZZ)"
      ]
    },
    {
      "cell_type": "code",
      "metadata": {
        "id": "XzEXdlphforK",
        "colab": {
          "base_uri": "https://localhost:8080/"
        },
        "outputId": "d4e8aa34-a737-45fa-8a95-55971b3452b3"
      },
      "source": [
        "print(mat_ex1) \r\n",
        "print(mat_ex1.shape) \r\n",
        "print(mat_ex2)       \r\n",
        "print(mat_ex2.shape) "
      ],
      "execution_count": 59,
      "outputs": [
        {
          "output_type": "stream",
          "text": [
            "[[5.2 3.  4.5]\n",
            " [9.1 0.1 0.3]]\n",
            "(2, 3)\n",
            "[[ 2.   3.7  5.9]\n",
            " [91.   1.5  7.3]]\n",
            "(2, 3)\n"
          ],
          "name": "stdout"
        }
      ]
    },
    {
      "cell_type": "markdown",
      "metadata": {
        "id": "Tx37mN6YgEIu"
      },
      "source": [
        "## **Transpose กลับแถวเป็นหลัก กลับหลักเป็นเเถว**\r\n",
        "\r\n",
        "matrix.T"
      ]
    },
    {
      "cell_type": "code",
      "metadata": {
        "id": "c6lDpAO3gVXe",
        "colab": {
          "base_uri": "https://localhost:8080/"
        },
        "outputId": "5c4bcffa-cbe8-4ef5-bb32-1f6391fda076"
      },
      "source": [
        "\r\n",
        "print(mat_ex2)\r\n",
        "print(mat_ex2.shape)"
      ],
      "execution_count": 61,
      "outputs": [
        {
          "output_type": "stream",
          "text": [
            "[[ 2.   3.7  5.9]\n",
            " [91.   1.5  7.3]]\n",
            "(2, 3)\n"
          ],
          "name": "stdout"
        }
      ]
    },
    {
      "cell_type": "code",
      "metadata": {
        "id": "xwPQWleBXaQE",
        "outputId": "8310622a-3476-4f0b-9219-de0f19f1a7e4",
        "colab": {
          "base_uri": "https://localhost:8080/"
        }
      },
      "source": [
        "print(mat_ex2.T)\r\n",
        "print(mat_ex2.T.shape)"
      ],
      "execution_count": 62,
      "outputs": [
        {
          "output_type": "stream",
          "text": [
            "[[ 2.  91. ]\n",
            " [ 3.7  1.5]\n",
            " [ 5.9  7.3]]\n",
            "(3, 2)\n"
          ],
          "name": "stdout"
        }
      ]
    },
    {
      "cell_type": "code",
      "metadata": {
        "id": "fpWIh8_lh0dS",
        "colab": {
          "base_uri": "https://localhost:8080/"
        },
        "outputId": "e0245c00-7f3e-4d2c-c573-4b4fd75b3804"
      },
      "source": [
        "numpy.dot(mat_ex1,mat_ex2.T) #(2,3).(3,2)"
      ],
      "execution_count": 63,
      "outputs": [
        {
          "output_type": "execute_result",
          "data": {
            "text/plain": [
              "array([[ 48.05, 510.55],\n",
              "       [ 20.34, 830.44]])"
            ]
          },
          "metadata": {
            "tags": []
          },
          "execution_count": 63
        }
      ]
    },
    {
      "cell_type": "code",
      "metadata": {
        "id": "JGD3L2rLYB6J",
        "outputId": "028213d9-88da-42b7-f959-818312d52913",
        "colab": {
          "base_uri": "https://localhost:8080/"
        }
      },
      "source": [
        "numpy.dot(mat_ex1.T,mat_ex2) #(3,2).(2,3) = (3,3)"
      ],
      "execution_count": 64,
      "outputs": [
        {
          "output_type": "execute_result",
          "data": {
            "text/plain": [
              "array([[838.5 ,  32.89,  97.11],\n",
              "       [ 15.1 ,  11.25,  18.43],\n",
              "       [ 36.3 ,  17.1 ,  28.74]])"
            ]
          },
          "metadata": {
            "tags": []
          },
          "execution_count": 64
        }
      ]
    },
    {
      "cell_type": "markdown",
      "metadata": {
        "id": "wnCw-xLqZAly"
      },
      "source": [
        "# **HW4 อธิบายการหา Determinant และ Inverse matrix (รูป และ คำอธิบาย)**"
      ]
    },
    {
      "cell_type": "markdown",
      "metadata": {
        "id": "JmfFMqjYY-U1"
      },
      "source": [
        "\r\n",
         
        
        "# **~pandas~**"
      ]
    }
  ]
}
