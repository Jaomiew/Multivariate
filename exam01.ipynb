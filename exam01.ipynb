{
  "nbformat": 4,
  "nbformat_minor": 0,
  "metadata": {
    "colab": {
      "name": "exam01.ipynb",
      "provenance": [],
      "authorship_tag": "ABX9TyOAtkkQuN7N3Arv06ZZRRrS",
      "include_colab_link": true
    },
    "kernelspec": {
      "name": "python3",
      "display_name": "Python 3"
    },
    "language_info": {
      "name": "python"
    }
  },
  "cells": [
    {
      "cell_type": "markdown",
      "metadata": {
        "id": "view-in-github",
        "colab_type": "text"
      },
      "source": [
        "<a href=\"https://colab.research.google.com/github/Jaomiew/Multivariate/blob/main/exam01.ipynb\" target=\"_parent\"><img src=\"https://colab.research.google.com/assets/colab-badge.svg\" alt=\"Open In Colab\"/></a>"
      ]
    },
    {
      "cell_type": "code",
      "metadata": {
        "id": "i5xhAMqkTA6T"
      },
      "source": [
        "import numpy as np\n",
        "from matplotlib import pyplot as plt\n",
        "from scipy import stats\n",
        "import pandas as pd\n",
        "from sklearn.decomposition import PCA"
      ],
      "execution_count": 1,
      "outputs": []
    },
    {
      "cell_type": "code",
      "metadata": {
        "colab": {
          "base_uri": "https://localhost:8080/",
          "height": 404
        },
        "id": "WKDxEBGUUk69",
        "outputId": "e2956cb7-6670-4763-df5d-90aa210d7c00"
      },
      "source": [
        "m = pd.read_csv('Pizza.csv')\n",
        "m"
      ],
      "execution_count": 4,
      "outputs": [
        {
          "output_type": "execute_result",
          "data": {
            "text/html": [
              "<div>\n",
              "<style scoped>\n",
              "    .dataframe tbody tr th:only-of-type {\n",
              "        vertical-align: middle;\n",
              "    }\n",
              "\n",
              "    .dataframe tbody tr th {\n",
              "        vertical-align: top;\n",
              "    }\n",
              "\n",
              "    .dataframe thead th {\n",
              "        text-align: right;\n",
              "    }\n",
              "</style>\n",
              "<table border=\"1\" class=\"dataframe\">\n",
              "  <thead>\n",
              "    <tr style=\"text-align: right;\">\n",
              "      <th></th>\n",
              "      <th>brand</th>\n",
              "      <th>id</th>\n",
              "      <th>mois</th>\n",
              "      <th>prot</th>\n",
              "      <th>fat</th>\n",
              "      <th>ash</th>\n",
              "      <th>sodium</th>\n",
              "      <th>carb</th>\n",
              "      <th>cal</th>\n",
              "    </tr>\n",
              "  </thead>\n",
              "  <tbody>\n",
              "    <tr>\n",
              "      <th>0</th>\n",
              "      <td>A</td>\n",
              "      <td>14069</td>\n",
              "      <td>27.82</td>\n",
              "      <td>21.43</td>\n",
              "      <td>44.87</td>\n",
              "      <td>5.11</td>\n",
              "      <td>1.77</td>\n",
              "      <td>0.77</td>\n",
              "      <td>4.93</td>\n",
              "    </tr>\n",
              "    <tr>\n",
              "      <th>1</th>\n",
              "      <td>A</td>\n",
              "      <td>14053</td>\n",
              "      <td>28.49</td>\n",
              "      <td>21.26</td>\n",
              "      <td>43.89</td>\n",
              "      <td>5.34</td>\n",
              "      <td>1.79</td>\n",
              "      <td>1.02</td>\n",
              "      <td>4.84</td>\n",
              "    </tr>\n",
              "    <tr>\n",
              "      <th>2</th>\n",
              "      <td>A</td>\n",
              "      <td>14025</td>\n",
              "      <td>28.35</td>\n",
              "      <td>19.99</td>\n",
              "      <td>45.78</td>\n",
              "      <td>5.08</td>\n",
              "      <td>1.63</td>\n",
              "      <td>0.80</td>\n",
              "      <td>4.95</td>\n",
              "    </tr>\n",
              "    <tr>\n",
              "      <th>3</th>\n",
              "      <td>A</td>\n",
              "      <td>14016</td>\n",
              "      <td>30.55</td>\n",
              "      <td>20.15</td>\n",
              "      <td>43.13</td>\n",
              "      <td>4.79</td>\n",
              "      <td>1.61</td>\n",
              "      <td>1.38</td>\n",
              "      <td>4.74</td>\n",
              "    </tr>\n",
              "    <tr>\n",
              "      <th>4</th>\n",
              "      <td>A</td>\n",
              "      <td>14005</td>\n",
              "      <td>30.49</td>\n",
              "      <td>21.28</td>\n",
              "      <td>41.65</td>\n",
              "      <td>4.82</td>\n",
              "      <td>1.64</td>\n",
              "      <td>1.76</td>\n",
              "      <td>4.67</td>\n",
              "    </tr>\n",
              "    <tr>\n",
              "      <th>...</th>\n",
              "      <td>...</td>\n",
              "      <td>...</td>\n",
              "      <td>...</td>\n",
              "      <td>...</td>\n",
              "      <td>...</td>\n",
              "      <td>...</td>\n",
              "      <td>...</td>\n",
              "      <td>...</td>\n",
              "      <td>...</td>\n",
              "    </tr>\n",
              "    <tr>\n",
              "      <th>295</th>\n",
              "      <td>J</td>\n",
              "      <td>34044</td>\n",
              "      <td>44.91</td>\n",
              "      <td>11.07</td>\n",
              "      <td>17.00</td>\n",
              "      <td>2.49</td>\n",
              "      <td>0.66</td>\n",
              "      <td>25.36</td>\n",
              "      <td>2.91</td>\n",
              "    </tr>\n",
              "    <tr>\n",
              "      <th>296</th>\n",
              "      <td>J</td>\n",
              "      <td>24069</td>\n",
              "      <td>43.15</td>\n",
              "      <td>11.79</td>\n",
              "      <td>18.46</td>\n",
              "      <td>2.43</td>\n",
              "      <td>0.67</td>\n",
              "      <td>24.17</td>\n",
              "      <td>3.10</td>\n",
              "    </tr>\n",
              "    <tr>\n",
              "      <th>297</th>\n",
              "      <td>J</td>\n",
              "      <td>34039</td>\n",
              "      <td>44.55</td>\n",
              "      <td>11.01</td>\n",
              "      <td>16.03</td>\n",
              "      <td>2.43</td>\n",
              "      <td>0.64</td>\n",
              "      <td>25.98</td>\n",
              "      <td>2.92</td>\n",
              "    </tr>\n",
              "    <tr>\n",
              "      <th>298</th>\n",
              "      <td>J</td>\n",
              "      <td>14044</td>\n",
              "      <td>47.60</td>\n",
              "      <td>10.43</td>\n",
              "      <td>15.18</td>\n",
              "      <td>2.32</td>\n",
              "      <td>0.56</td>\n",
              "      <td>24.47</td>\n",
              "      <td>2.76</td>\n",
              "    </tr>\n",
              "    <tr>\n",
              "      <th>299</th>\n",
              "      <td>J</td>\n",
              "      <td>14045</td>\n",
              "      <td>46.84</td>\n",
              "      <td>9.91</td>\n",
              "      <td>15.50</td>\n",
              "      <td>2.27</td>\n",
              "      <td>0.57</td>\n",
              "      <td>25.48</td>\n",
              "      <td>2.81</td>\n",
              "    </tr>\n",
              "  </tbody>\n",
              "</table>\n",
              "<p>300 rows × 9 columns</p>\n",
              "</div>"
            ],
            "text/plain": [
              "    brand     id   mois   prot    fat   ash  sodium   carb   cal\n",
              "0       A  14069  27.82  21.43  44.87  5.11    1.77   0.77  4.93\n",
              "1       A  14053  28.49  21.26  43.89  5.34    1.79   1.02  4.84\n",
              "2       A  14025  28.35  19.99  45.78  5.08    1.63   0.80  4.95\n",
              "3       A  14016  30.55  20.15  43.13  4.79    1.61   1.38  4.74\n",
              "4       A  14005  30.49  21.28  41.65  4.82    1.64   1.76  4.67\n",
              "..    ...    ...    ...    ...    ...   ...     ...    ...   ...\n",
              "295     J  34044  44.91  11.07  17.00  2.49    0.66  25.36  2.91\n",
              "296     J  24069  43.15  11.79  18.46  2.43    0.67  24.17  3.10\n",
              "297     J  34039  44.55  11.01  16.03  2.43    0.64  25.98  2.92\n",
              "298     J  14044  47.60  10.43  15.18  2.32    0.56  24.47  2.76\n",
              "299     J  14045  46.84   9.91  15.50  2.27    0.57  25.48  2.81\n",
              "\n",
              "[300 rows x 9 columns]"
            ]
          },
          "metadata": {
            "tags": []
          },
          "execution_count": 4
        }
      ]
    },
    {
      "cell_type": "code",
      "metadata": {
        "colab": {
          "base_uri": "https://localhost:8080/",
          "height": 294
        },
        "id": "d_pQecucUuW6",
        "outputId": "85a9bb60-c39f-4379-feff-4feef25b795e"
      },
      "source": [
        "pd.plotting.scatter_matrix(m);"
      ],
      "execution_count": 6,
      "outputs": [
        {
          "output_type": "display_data",
          "data": {
            "image/png": "[encoded data removed]",
            "text/plain": [
              "<Figure size 432x288 with 64 Axes>"
            ]
          },
          "metadata": {
            "tags": [],
            "needs_background": "light"
          }
        }
      ]
    },
    {
      "cell_type": "code",
      "metadata": {
        "colab": {
          "base_uri": "https://localhost:8080/"
        },
        "id": "SHdHMVw1U0VW",
        "outputId": "5ca34e8d-0d5e-44b8-afc5-0a69d81dbf00"
      },
      "source": [
        "m_matrix = np.array(exam.iloc[:,-7:])\n",
        "m_matrix"
      ],
      "execution_count": 7,
      "outputs": [
        {
          "output_type": "execute_result",
          "data": {
            "text/plain": [
              "array([[27.82, 21.43, 44.87, ...,  1.77,  0.77,  4.93],\n",
              "       [28.49, 21.26, 43.89, ...,  1.79,  1.02,  4.84],\n",
              "       [28.35, 19.99, 45.78, ...,  1.63,  0.8 ,  4.95],\n",
              "       ...,\n",
              "       [44.55, 11.01, 16.03, ...,  0.64, 25.98,  2.92],\n",
              "       [47.6 , 10.43, 15.18, ...,  0.56, 24.47,  2.76],\n",
              "       [46.84,  9.91, 15.5 , ...,  0.57, 25.48,  2.81]])"
            ]
          },
          "metadata": {
            "tags": []
          },
          "execution_count": 7
        }
      ]
    },
    {
      "cell_type": "code",
      "metadata": {
        "colab": {
          "base_uri": "https://localhost:8080/"
        },
        "id": "r_pGMfzWU5r0",
        "outputId": "147ea1d4-52e5-45d6-b014-6467630abb04"
      },
      "source": [
        "m_matrix = m_matrix.T\n",
        "print(m_matrix.shape)\n",
        "m_matrix"
      ],
      "execution_count": 8,
      "outputs": [
        {
          "output_type": "stream",
          "text": [
            "(7, 300)\n"
          ],
          "name": "stdout"
        },
        {
          "output_type": "execute_result",
          "data": {
            "text/plain": [
              "array([[27.82, 28.49, 28.35, ..., 44.55, 47.6 , 46.84],\n",
              "       [21.43, 21.26, 19.99, ..., 11.01, 10.43,  9.91],\n",
              "       [44.87, 43.89, 45.78, ..., 16.03, 15.18, 15.5 ],\n",
              "       ...,\n",
              "       [ 1.77,  1.79,  1.63, ...,  0.64,  0.56,  0.57],\n",
              "       [ 0.77,  1.02,  0.8 , ..., 25.98, 24.47, 25.48],\n",
              "       [ 4.93,  4.84,  4.95, ...,  2.92,  2.76,  2.81]])"
            ]
          },
          "metadata": {
            "tags": []
          },
          "execution_count": 8
        }
      ]
    },
    {
      "cell_type": "markdown",
      "metadata": {
        "id": "5TYxOxYVVC-y"
      },
      "source": [
        "### **ปรับ std และ mean**\n",
        "\n",
        "**โดย std = 1 และ mean = 0**"
      ]
    },
    {
      "cell_type": "code",
      "metadata": {
        "colab": {
          "base_uri": "https://localhost:8080/"
        },
        "id": "hpsDrFyUVR8q",
        "outputId": "d0eedc88-9806-4df5-d7c9-c177bfe4f80f"
      },
      "source": [
        "# ใช้วิธีแบบเร็วเพื่องานต่อการคำนวน\n",
        "m_matrix_m0_std1 = stats.zscore(m_matrix,axis=1)\n",
        "m_matrix_m0_std1"
      ],
      "execution_count": 9,
      "outputs": [
        {
          "output_type": "execute_result",
          "data": {
            "text/plain": [
              "array([[-1.37181459, -1.30156227, -1.31624186, ...,  0.3823963 ,\n",
              "         0.70220164,  0.62251244],\n",
              "       [ 1.25418127,  1.22771661,  1.03000998, ..., -0.36794707,\n",
              "        -0.45823828, -0.53918903],\n",
              "       [ 2.74984143,  2.64047481,  2.85139615, ..., -0.46866201,\n",
              "        -0.56352082, -0.52780927],\n",
              "       ...,\n",
              "       [ 2.97668662,  3.03077869,  2.59804213, ..., -0.07951534,\n",
              "        -0.29588362, -0.26883759],\n",
              "       [-1.22751105, -1.21362189, -1.22584435, ...,  0.1730719 ,\n",
              "         0.08918137,  0.14529358],\n",
              "       [ 2.68012924,  2.53473344,  2.71243942, ..., -0.56704362,\n",
              "        -0.82552504, -0.7447496 ]])"
            ]
          },
          "metadata": {
            "tags": []
          },
          "execution_count": 9
        }
      ]
    },
    {
      "cell_type": "code",
      "metadata": {
        "colab": {
          "base_uri": "https://localhost:8080/"
        },
        "id": "jxzvHNW-Vdlj",
        "outputId": "e2460f2f-3aaa-4c06-9574-23d3d3c6053a"
      },
      "source": [
        "np.mean(m_matrix_m0_std1,axis=1) \n",
        "# เช็คค่า mean"
      ],
      "execution_count": 12,
      "outputs": [
        {
          "output_type": "execute_result",
          "data": {
            "text/plain": [
              "array([-1.18423789e-16,  1.89478063e-16, -2.36847579e-16, -5.21064673e-16,\n",
              "       -2.36847579e-16, -4.73695157e-17,  1.89478063e-16])"
            ]
          },
          "metadata": {
            "tags": []
          },
          "execution_count": 12
        }
      ]
    },
    {
      "cell_type": "code",
      "metadata": {
        "colab": {
          "base_uri": "https://localhost:8080/"
        },
        "id": "QaQ40zcPVk55",
        "outputId": "f4a35231-8270-4b14-94c5-9d42c2669ec2"
      },
      "source": [
        "np.std(m_matrix_m0_std1,axis=1)\n",
        "# เช็คค่า std"
      ],
      "execution_count": 11,
      "outputs": [
        {
          "output_type": "execute_result",
          "data": {
            "text/plain": [
              "array([1., 1., 1., 1., 1., 1., 1.])"
            ]
          },
          "metadata": {
            "tags": []
          },
          "execution_count": 11
        }
      ]
    },
    {
      "cell_type": "code",
      "metadata": {
        "colab": {
          "base_uri": "https://localhost:8080/",
          "height": 365
        },
        "id": "xvjT1PeEVrpC",
        "outputId": "8fbd5b85-7c29-4444-be02-7ff69dbcb46e"
      },
      "source": [
        "plt.hist(m_matrix_m0_std1[0,:],bins = 'rice', color = 'k')"
      ],
      "execution_count": 13,
      "outputs": [
        {
          "output_type": "execute_result",
          "data": {
            "text/plain": [
              "(array([ 8., 46., 29., 10., 38., 13.,  5.,  1., 11., 47., 35., 22., 25.,\n",
              "        10.]),\n",
              " array([-1.66750345, -1.42618899, -1.18487452, -0.94356005, -0.70224558,\n",
              "        -0.46093111, -0.21961664,  0.02169783,  0.2630123 ,  0.50432677,\n",
              "         0.74564124,  0.98695571,  1.22827018,  1.46958465,  1.71089912]),\n",
              " <a list of 14 Patch objects>)"
            ]
          },
          "metadata": {
            "tags": []
          },
          "execution_count": 13
        },
        {
          "output_type": "display_data",
          "data": {
            "image/png": "[encoded data removed]",
            "text/plain": [
              "<Figure size 432x288 with 1 Axes>"
            ]
          },
          "metadata": {
            "tags": [],
            "needs_background": "light"
          }
        }
      ]
    },
    {
      "cell_type": "code",
      "metadata": {
        "colab": {
          "base_uri": "https://localhost:8080/",
          "height": 365
        },
        "id": "a7it0hjDVyL_",
        "outputId": "43c07354-28e3-4aa9-aa76-ae1aa4fcee67"
      },
      "source": [
        "plt.hist(m_matrix[0,:],bins = 'rice', color = 'y') \n",
        "plt.hist(m_matrix_m0_std1[0,:],bins = 'rice', color = 'k')"
      ],
      "execution_count": 15,
      "outputs": [
        {
          "output_type": "execute_result",
          "data": {
            "text/plain": [
              "(array([ 8., 46., 29., 10., 38., 13.,  5.,  1., 11., 47., 35., 22., 25.,\n",
              "        10.]),\n",
              " array([-1.66750345, -1.42618899, -1.18487452, -0.94356005, -0.70224558,\n",
              "        -0.46093111, -0.21961664,  0.02169783,  0.2630123 ,  0.50432677,\n",
              "         0.74564124,  0.98695571,  1.22827018,  1.46958465,  1.71089912]),\n",
              " <a list of 14 Patch objects>)"
            ]
          },
          "metadata": {
            "tags": []
          },
          "execution_count": 15
        },
        {
          "output_type": "display_data",
          "data": {
            "image/png": "[encoded data removed]",
            "text/plain": [
              "<Figure size 432x288 with 1 Axes>"
            ]
          },
          "metadata": {
            "tags": [],
            "needs_background": "light"
          }
        }
      ]
    },
    {
      "cell_type": "markdown",
      "metadata": {
        "id": "g4najxRUV81f"
      },
      "source": [
        "### **หาค่า cov matrix ของ data**"
      ]
    },
    {
      "cell_type": "code",
      "metadata": {
        "colab": {
          "base_uri": "https://localhost:8080/"
        },
        "id": "rrV5j0fUWGi0",
        "outputId": "90334c42-3b3e-4e2a-dca8-8a52e741abd3"
      },
      "source": [
        "m_cov = np.cov(m_matrix_m0_std1)\n",
        "m_cov"
      ],
      "execution_count": 16,
      "outputs": [
        {
          "output_type": "execute_result",
          "data": {
            "text/plain": [
              "array([[ 1.00334448,  0.36145252, -0.17189118,  0.26644367, -0.10262097,\n",
              "        -0.59378092, -0.7669972 ],\n",
              "       [ 0.36145252,  1.00334448,  0.49966723,  0.82659903,  0.43056473,\n",
              "        -0.85639691,  0.07049308],\n",
              "       [-0.17189118,  0.49966723,  1.00334448,  0.79428157,  0.93644671,\n",
              "        -0.64237943,  0.76712418],\n",
              "       [ 0.26644367,  0.82659903,  0.79428157,  1.00334448,  0.8108249 ,\n",
              "        -0.90199502,  0.32756032],\n",
              "       [-0.10262097,  0.43056473,  0.93644671,  0.8108249 ,  1.00334448,\n",
              "        -0.6222505 ,  0.67420485],\n",
              "       [-0.59378092, -0.85639691, -0.64237943, -0.90199502, -0.6222505 ,\n",
              "         1.00334448, -0.02356313],\n",
              "       [-0.7669972 ,  0.07049308,  0.76712418,  0.32756032,  0.67420485,\n",
              "        -0.02356313,  1.00334448]])"
            ]
          },
          "metadata": {
            "tags": []
          },
          "execution_count": 16
        }
      ]
    },
    {
      "cell_type": "markdown",
      "metadata": {
        "id": "Sd7ZjrkuWOB4"
      },
      "source": [
        "### **eigen value และ eigen vector**"
      ]
    },
    {
      "cell_type": "code",
      "metadata": {
        "id": "UcXFs9rdWY1z"
      },
      "source": [
        "eigen_values, eigen_vectors = np.linalg.eig(m_cov)"
      ],
      "execution_count": 17,
      "outputs": []
    },
    {
      "cell_type": "code",
      "metadata": {
        "colab": {
          "base_uri": "https://localhost:8080/"
        },
        "id": "M-nbt1BZWeQe",
        "outputId": "652a8eba-3914-41a4-8505-791277dbc2a3"
      },
      "source": [
        "eigen_values"
      ],
      "execution_count": 18,
      "outputs": [
        {
          "output_type": "execute_result",
          "data": {
            "text/plain": [
              "array([4.18573434e+00, 2.29811778e+00, 4.15948838e-01, 9.54925358e-02,\n",
              "       2.77695834e-02, 3.38738483e-04, 9.55061572e-06])"
            ]
          },
          "metadata": {
            "tags": []
          },
          "execution_count": 18
        }
      ]
    },
    {
      "cell_type": "code",
      "metadata": {
        "colab": {
          "base_uri": "https://localhost:8080/"
        },
        "id": "q28Nni7IWe9o",
        "outputId": "99929a11-978c-4af7-a2c0-c5ac2497fade"
      },
      "source": [
        "eigen_vectors"
      ],
      "execution_count": 19,
      "outputs": [
        {
          "output_type": "execute_result",
          "data": {
            "text/plain": [
              "array([[ 6.47093729e-02,  6.28275866e-01, -4.21668945e-01,\n",
              "        -2.20721584e-01,  6.47029345e-03, -4.46449902e-01,\n",
              "        -4.18569035e-01],\n",
              "       [ 3.78760904e-01,  2.69706650e-01,  7.46027442e-01,\n",
              "        -1.05931982e-02,  3.87982788e-01,  1.71520299e-04,\n",
              "        -2.76764643e-01],\n",
              "       [ 4.46665915e-01, -2.34379085e-01, -1.99308714e-01,\n",
              "        -5.07042158e-01, -1.73367634e-01,  5.25402868e-01,\n",
              "        -3.77671525e-01],\n",
              "       [ 4.71889526e-01,  1.10990417e-01,  5.62726863e-02,\n",
              "         5.52398549e-01, -6.70885701e-01, -5.88609281e-02,\n",
              "        -5.60214003e-02],\n",
              "       [ 4.35702887e-01, -2.01661652e-01, -4.55168874e-01,\n",
              "         4.46276890e-01,  6.02614079e-01, -3.13098518e-03,\n",
              "         5.24323817e-04],\n",
              "       [-4.24913712e-01, -3.20312078e-01,  5.22365058e-02,\n",
              "         3.34339481e-01, -7.43689883e-03,  5.08853525e-04,\n",
              "        -7.76067911e-01],\n",
              "       [ 2.44487304e-01, -5.67457559e-01,  1.13315588e-01,\n",
              "        -2.79263154e-01, -7.80031747e-02, -7.21913853e-01,\n",
              "        -1.20598098e-02]])"
            ]
          },
          "metadata": {
            "tags": []
          },
          "execution_count": 19
        }
      ]
    },
    {
      "cell_type": "markdown",
      "metadata": {
        "id": "ai9qFd5UWlhN"
      },
      "source": [
        "### **eigen vector อธิบาย data ได้ดีแค่ไหน** "
      ]
    },
    {
      "cell_type": "code",
      "metadata": {
        "colab": {
          "base_uri": "https://localhost:8080/"
        },
        "id": "P_XlID8mWyk9",
        "outputId": "e2429b08-804a-4c99-c0ac-c725db7d8df2"
      },
      "source": [
        "sum(eigen_values)"
      ],
      "execution_count": 20,
      "outputs": [
        {
          "output_type": "execute_result",
          "data": {
            "text/plain": [
              "7.0234113712374535"
            ]
          },
          "metadata": {
            "tags": []
          },
          "execution_count": 20
        }
      ]
    },
    {
      "cell_type": "code",
      "metadata": {
        "colab": {
          "base_uri": "https://localhost:8080/"
        },
        "id": "nZ7plC1pW0Nx",
        "outputId": "eb9efc11-448d-4572-e3a6-077cc236dac8"
      },
      "source": [
        "variance_explained = []\n",
        "for i in eigen_values:\n",
        "     variance_explained.append((i/sum(eigen_values))*100)\n",
        "        \n",
        "print(variance_explained)"
      ],
      "execution_count": 21,
      "outputs": [
        {
          "output_type": "stream",
          "text": [
            "[59.59688423344787, 32.720819826580865, 5.9223191753902285, 1.3596318186805307, 0.3953859725404401, 0.004822990783854994, 0.00013598257622030136]\n"
          ],
          "name": "stdout"
        }
      ]
    },
    {
      "cell_type": "code",
      "metadata": {
        "colab": {
          "base_uri": "https://localhost:8080/"
        },
        "id": "iN3C-8C6W2x5",
        "outputId": "88c23a7b-065b-46ae-8b65-16cec5c95ed2"
      },
      "source": [
        "cumulative_variance_explained = np.cumsum(variance_explained)\n",
        "print(cumulative_variance_explained)"
      ],
      "execution_count": 22,
      "outputs": [
        {
          "output_type": "stream",
          "text": [
            "[ 59.59688423  92.31770406  98.24002324  99.59965505  99.99504103\n",
            "  99.99986402 100.        ]\n"
          ],
          "name": "stdout"
        }
      ]
    },
    {
      "cell_type": "code",
      "metadata": {
        "colab": {
          "base_uri": "https://localhost:8080/"
        },
        "id": "HnMtQxV2W6Qe",
        "outputId": "3bb0c59e-3ad5-4cf1-a029-36f63fe702a1"
      },
      "source": [
        "selected_eigen_vectors = eigen_vectors[:,:2]\n",
        "selected_eigen_vectors"
      ],
      "execution_count": 23,
      "outputs": [
        {
          "output_type": "execute_result",
          "data": {
            "text/plain": [
              "array([[ 0.06470937,  0.62827587],\n",
              "       [ 0.3787609 ,  0.26970665],\n",
              "       [ 0.44666592, -0.23437908],\n",
              "       [ 0.47188953,  0.11099042],\n",
              "       [ 0.43570289, -0.20166165],\n",
              "       [-0.42491371, -0.32031208],\n",
              "       [ 0.2444873 , -0.56745756]])"
            ]
          },
          "metadata": {
            "tags": []
          },
          "execution_count": 23
        }
      ]
    },
    {
      "cell_type": "markdown",
      "metadata": {
        "id": "ueyq80GwW8a0"
      },
      "source": [
        "**5. plot กราฟ ด้วย data ใหม่**"
      ]
    },
    {
      "cell_type": "code",
      "metadata": {
        "colab": {
          "base_uri": "https://localhost:8080/"
        },
        "id": "hsVLN_mwXDhg",
        "outputId": "6aef4151-3545-46a1-f431-ff0e7ebc79b4"
      },
      "source": [
        "X = m_matrix_m0_std1\n",
        "X.shape"
      ],
      "execution_count": 24,
      "outputs": [
        {
          "output_type": "execute_result",
          "data": {
            "text/plain": [
              "(7, 300)"
            ]
          },
          "metadata": {
            "tags": []
          },
          "execution_count": 24
        }
      ]
    },
    {
      "cell_type": "code",
      "metadata": {
        "colab": {
          "base_uri": "https://localhost:8080/"
        },
        "id": "XpRRhQwHXHX8",
        "outputId": "123a5373-8f87-478a-a6d8-3886b00f008c"
      },
      "source": [
        "W = selected_eigen_vectors\n",
        "W.shape"
      ],
      "execution_count": 25,
      "outputs": [
        {
          "output_type": "execute_result",
          "data": {
            "text/plain": [
              "(7, 2)"
            ]
          },
          "metadata": {
            "tags": []
          },
          "execution_count": 25
        }
      ]
    },
    {
      "cell_type": "code",
      "metadata": {
        "colab": {
          "base_uri": "https://localhost:8080/"
        },
        "id": "IR_04qDLXK88",
        "outputId": "7cfc55bc-25d2-44c9-d7e3-9b62ef7f3abf"
      },
      "source": [
        "X_pca = X.T.dot(W)\n",
        "X_pca"
      ],
      "execution_count": 26,
      "outputs": [
        {
          "output_type": "execute_result",
          "data": {
            "text/plain": [
              "array([[ 5.01034284, -2.67921532],\n",
              "       [ 5.02375538, -2.52929455],\n",
              "       [ 4.8054393 , -2.67370033],\n",
              "       [ 4.4695434 , -2.28502923],\n",
              "       [ 4.47189256, -2.1591524 ],\n",
              "       [ 4.50479978, -2.16797296],\n",
              "       [ 4.31535781, -2.05704328],\n",
              "       [ 4.75785167, -2.35308587],\n",
              "       [ 4.85461934, -2.68121904],\n",
              "       [ 4.91640631, -2.65851314],\n",
              "       [ 4.84099582, -2.73660839],\n",
              "       [ 4.89136871, -2.74250173],\n",
              "       [ 4.61075407, -2.57925365],\n",
              "       [ 4.42153254, -2.29169853],\n",
              "       [ 4.46677678, -2.13288492],\n",
              "       [ 4.75343467, -2.46713643],\n",
              "       [ 4.44513083, -1.82836512],\n",
              "       [ 4.20201792, -1.80148331],\n",
              "       [ 4.49687192, -1.88605015],\n",
              "       [ 4.60756167, -2.2350726 ],\n",
              "       [ 4.85726834, -2.96634356],\n",
              "       [ 4.82265249, -2.78671232],\n",
              "       [ 4.51834142, -2.16243103],\n",
              "       [ 4.25395639, -2.12444278],\n",
              "       [ 4.48975064, -2.0179968 ],\n",
              "       [ 4.5415983 , -2.38008587],\n",
              "       [ 4.63411775, -2.60980367],\n",
              "       [ 4.46880183, -2.43393573],\n",
              "       [ 4.75034835, -2.36096907],\n",
              "       [ 1.86118455,  0.48587897],\n",
              "       [ 1.31234408,  1.12624028],\n",
              "       [ 1.76567377,  0.30620877],\n",
              "       [ 1.67139319,  0.65144827],\n",
              "       [ 1.59326652,  0.72707134],\n",
              "       [ 1.75214117,  0.52491359],\n",
              "       [ 1.79769844,  0.57453759],\n",
              "       [ 1.286141  ,  0.58758656],\n",
              "       [ 0.98536152,  1.29977025],\n",
              "       [ 1.59570217,  1.07984544],\n",
              "       [ 1.66692136,  0.63713047],\n",
              "       [ 1.6845547 ,  0.50321064],\n",
              "       [ 1.79800953,  0.7904533 ],\n",
              "       [ 1.75061615,  0.51344222],\n",
              "       [ 1.01729263,  1.55250195],\n",
              "       [ 0.96090738,  1.69798925],\n",
              "       [ 1.06044938,  1.36389587],\n",
              "       [ 1.69385387,  0.51160892],\n",
              "       [ 1.83131552,  0.62632326],\n",
              "       [ 1.52979499,  1.08927516],\n",
              "       [ 1.62269178,  0.58070193],\n",
              "       [ 1.78981468,  0.45184037],\n",
              "       [ 1.72759525,  0.41874695],\n",
              "       [ 1.79232263,  0.74423421],\n",
              "       [ 1.77583723,  0.78346255],\n",
              "       [ 1.22040739,  1.33618025],\n",
              "       [ 1.54381467,  0.97453037],\n",
              "       [ 1.70900086,  0.87072594],\n",
              "       [ 1.75775457,  0.79412042],\n",
              "       [ 1.2110394 ,  0.81082625],\n",
              "       [ 1.28189732,  0.80443536],\n",
              "       [ 1.3733351 ,  1.80122345],\n",
              "       [ 1.15302122,  2.25379525],\n",
              "       [ 1.14451053,  1.82648305],\n",
              "       [ 1.22366524,  1.93765239],\n",
              "       [ 1.24542212,  1.55804968],\n",
              "       [ 0.89628008,  1.87408594],\n",
              "       [ 1.01190454,  2.49203028],\n",
              "       [ 1.30418459,  2.06139605],\n",
              "       [ 0.64245467,  2.37064841],\n",
              "       [ 1.15053786,  2.44211386],\n",
              "       [ 0.89464272,  2.63538814],\n",
              "       [ 0.96134848,  1.91412784],\n",
              "       [ 1.59575164,  1.72259452],\n",
              "       [ 1.29185378,  1.72064198],\n",
              "       [ 1.06187896,  1.7097069 ],\n",
              "       [ 0.81162826,  1.8139897 ],\n",
              "       [ 1.02066449,  1.93066386],\n",
              "       [ 1.38747555,  2.55709329],\n",
              "       [ 1.3004686 ,  1.65802232],\n",
              "       [ 1.32731252,  1.98754478],\n",
              "       [ 1.02507197,  2.67524429],\n",
              "       [ 0.57003212,  2.05430598],\n",
              "       [ 0.58796339,  2.39381541],\n",
              "       [ 0.77893632,  2.2425099 ],\n",
              "       [ 1.53905599,  1.35568239],\n",
              "       [ 0.80177424,  2.40023848],\n",
              "       [ 0.98012931,  1.95271555],\n",
              "       [ 2.05211762,  1.13661565],\n",
              "       [ 2.06438087,  1.02174759],\n",
              "       [ 1.5052601 ,  1.45416007],\n",
              "       [ 1.24749992,  1.62755954],\n",
              "       [ 1.51913478,  1.32898032],\n",
              "       [ 1.92763776,  1.27098937],\n",
              "       [ 1.36683591,  1.45845091],\n",
              "       [ 1.43567138,  1.51879615],\n",
              "       [ 0.99351428,  2.25935653],\n",
              "       [ 1.56222022,  1.39255468],\n",
              "       [ 1.42930017,  1.3746553 ],\n",
              "       [ 1.42246877,  1.36562295],\n",
              "       [ 1.31593828,  1.60121511],\n",
              "       [ 2.28875406,  1.56927721],\n",
              "       [ 2.30757369,  1.49090762],\n",
              "       [ 2.30945294,  1.61725871],\n",
              "       [ 1.50415072,  1.446633  ],\n",
              "       [ 1.40720989,  1.49385939],\n",
              "       [ 1.42095785,  1.54888361],\n",
              "       [ 1.42922317,  1.45025978],\n",
              "       [ 1.48619291,  1.47073621],\n",
              "       [ 1.42176713,  1.53672834],\n",
              "       [ 1.32625034,  1.71902473],\n",
              "       [ 2.10986662,  1.04822176],\n",
              "       [ 1.33652814,  1.75641512],\n",
              "       [ 2.27647626,  1.71748936],\n",
              "       [ 1.26515249,  1.62827241],\n",
              "       [ 1.89472139,  1.16419595],\n",
              "       [ 2.09497349,  1.10184213],\n",
              "       [ 1.95422658,  1.14781612],\n",
              "       [ 1.90883414,  1.14109238],\n",
              "       [ 1.38747555,  2.55709329],\n",
              "       [-1.78508374, -0.93730223],\n",
              "       [-1.61239519, -0.68870939],\n",
              "       [-1.72068915, -0.80774568],\n",
              "       [-2.48791824,  0.30864105],\n",
              "       [-1.8109961 , -0.85377463],\n",
              "       [-2.55407381,  0.34239815],\n",
              "       [-1.96003658, -0.72624966],\n",
              "       [-1.53132552, -0.33790409],\n",
              "       [-1.68835128, -0.70806928],\n",
              "       [-1.68275918, -0.65462563],\n",
              "       [-1.72115025, -0.33622006],\n",
              "       [-1.89115326, -0.67135361],\n",
              "       [-1.40000925, -1.1013241 ],\n",
              "       [-1.43569567, -1.29364811],\n",
              "       [-1.26143793, -0.77995887],\n",
              "       [-1.83301609, -0.41564567],\n",
              "       [-1.93492686, -0.50614069],\n",
              "       [-1.26143793, -0.77995887],\n",
              "       [-1.72794962, -0.87879778],\n",
              "       [-1.7244848 , -0.59347181],\n",
              "       [-1.43597176, -1.03127186],\n",
              "       [-1.49475568, -0.9154107 ],\n",
              "       [-1.36474412, -1.12433436],\n",
              "       [-1.38808848, -1.25109639],\n",
              "       [-1.40866022, -1.04778053],\n",
              "       [-2.21483101, -0.19981725],\n",
              "       [-1.72115025, -0.33622006],\n",
              "       [-1.88259866, -0.82289078],\n",
              "       [-1.46176163, -1.85216829],\n",
              "       [-1.74262567, -1.41437548],\n",
              "       [-1.82386905, -1.371206  ],\n",
              "       [-1.29320992, -1.68102466],\n",
              "       [-1.52679042, -1.80743526],\n",
              "       [-1.70600919, -1.3713592 ],\n",
              "       [-1.78120934, -1.63085458],\n",
              "       [-1.9159626 , -1.15829528],\n",
              "       [-1.7548986 , -1.40151739],\n",
              "       [-1.77381037, -1.42068345],\n",
              "       [-1.34013776, -1.63353376],\n",
              "       [-1.82897798, -1.47892298],\n",
              "       [-1.26554737, -1.82620911],\n",
              "       [-1.77362596, -1.42843184],\n",
              "       [-1.75798096, -1.82974681],\n",
              "       [-1.57668271, -1.7766323 ],\n",
              "       [-1.33563644, -1.77469016],\n",
              "       [-1.86527936, -1.40887776],\n",
              "       [-1.48422146, -2.03951573],\n",
              "       [-1.82705147, -1.29470259],\n",
              "       [-1.90681569, -1.19477404],\n",
              "       [-2.0054374 , -1.23349466],\n",
              "       [-1.68916325, -1.55785357],\n",
              "       [-1.68852808, -1.47264801],\n",
              "       [-1.56720682, -1.67211105],\n",
              "       [-1.64586028, -1.63966074],\n",
              "       [-1.61927471, -1.67349819],\n",
              "       [-1.51862602, -1.81312071],\n",
              "       [-1.43148972, -1.85889659],\n",
              "       [-1.76529924, -1.21444989],\n",
              "       [-1.78006573, -1.63618901],\n",
              "       [-1.85706588, -1.57989048],\n",
              "       [-1.95961646, -1.20763733],\n",
              "       [-1.83698414, -1.59397854],\n",
              "       [-1.38360389, -1.79674188],\n",
              "       [-1.73684415, -1.70048504],\n",
              "       [-1.70868691, -1.60200876],\n",
              "       [-1.66249781, -1.70440016],\n",
              "       [-1.75385116, -1.68001556],\n",
              "       [-1.69747723, -1.67308929],\n",
              "       [-1.87219755, -1.54773658],\n",
              "       [-1.77392544, -1.4751555 ],\n",
              "       [-1.79271438, -1.54239432],\n",
              "       [-2.07773887, -0.88484307],\n",
              "       [-1.39273705, -2.1112176 ],\n",
              "       [-1.74064578, -1.70085006],\n",
              "       [-1.83538915, -1.66057692],\n",
              "       [-1.87040601, -1.68053771],\n",
              "       [-1.61152137, -1.43133918],\n",
              "       [-1.8272382 , -1.4389233 ],\n",
              "       [-1.55144024, -1.68469669],\n",
              "       [-1.70514357, -1.66644801],\n",
              "       [-1.91259534, -1.5246024 ],\n",
              "       [-1.64339653, -1.99043031],\n",
              "       [-1.70995766, -1.98203883],\n",
              "       [-1.79381644, -1.66387811],\n",
              "       [-1.63162961, -2.08612828],\n",
              "       [-1.99366242, -1.32442029],\n",
              "       [-1.72960314, -1.62016729],\n",
              "       [-2.05457894, -0.44151231],\n",
              "       [-1.42110446, -0.99723308],\n",
              "       [-1.72735856, -0.80025702],\n",
              "       [-2.46135481, -0.15981745],\n",
              "       [-1.67792916, -0.76267595],\n",
              "       [-1.71553084, -0.77657397],\n",
              "       [-2.58592076,  0.46605703],\n",
              "       [-1.63071628, -0.75504251],\n",
              "       [-1.81455163, -1.10815762],\n",
              "       [-1.85852939, -0.92692011],\n",
              "       [-2.65253119,  0.27926545],\n",
              "       [-1.55093331, -1.18543918],\n",
              "       [-1.76595288, -0.56101533],\n",
              "       [-1.91832982, -0.6624053 ],\n",
              "       [-1.9765523 , -0.43718332],\n",
              "       [-1.9303685 , -0.64495435],\n",
              "       [-1.8613956 , -0.54848391],\n",
              "       [-1.74884966, -0.78247315],\n",
              "       [-1.777316  , -0.98914116],\n",
              "       [-1.85957783, -0.64232   ],\n",
              "       [-1.82455102, -0.67894126],\n",
              "       [-1.4751276 , -0.94749439],\n",
              "       [-1.56397293, -0.75251209],\n",
              "       [-1.83728493, -0.69364008],\n",
              "       [-1.54097929, -0.74052146],\n",
              "       [-1.73577427, -0.72057784],\n",
              "       [-1.63183372, -0.7985712 ],\n",
              "       [-1.76030188, -0.64571555],\n",
              "       [-1.9925099 , -0.50296324],\n",
              "       [-1.65053703, -1.04554491],\n",
              "       [-2.18602505, -0.2625904 ],\n",
              "       [-1.88947244, -0.58718012],\n",
              "       [-1.82455102, -0.67894126],\n",
              "       [-1.05804675,  1.88810812],\n",
              "       [-1.17381538,  1.81086042],\n",
              "       [-1.17676152,  1.77814711],\n",
              "       [-1.08067697,  1.81552894],\n",
              "       [-1.08082925,  1.58443685],\n",
              "       [-1.27156168,  2.07473473],\n",
              "       [-1.43675857,  2.06375283],\n",
              "       [-1.17953128,  2.05414113],\n",
              "       [-1.22977033,  1.85561186],\n",
              "       [-0.76354275,  1.6831108 ],\n",
              "       [-1.06206422,  1.86682304],\n",
              "       [-1.00623159,  1.73356007],\n",
              "       [-1.06754583,  2.01396034],\n",
              "       [-1.0355188 ,  1.90127135],\n",
              "       [-1.12707766,  2.0262336 ],\n",
              "       [-1.14885185,  1.90577733],\n",
              "       [-1.16981983,  1.8386978 ],\n",
              "       [-1.21342305,  1.90877421],\n",
              "       [-1.20143617,  1.89053836],\n",
              "       [-1.12536416,  1.69331845],\n",
              "       [-1.00266003,  1.93907092],\n",
              "       [-1.06710957,  1.87535584],\n",
              "       [-1.13594463,  1.87300692],\n",
              "       [-1.12832969,  1.8186219 ],\n",
              "       [-1.39298342,  2.26735069],\n",
              "       [-1.0718804 ,  1.88478306],\n",
              "       [-1.18699051,  1.81878221],\n",
              "       [-1.13101006,  1.8069509 ],\n",
              "       [-1.16269076,  1.92678851],\n",
              "       [-0.6172551 ,  0.65202898],\n",
              "       [-0.59533164,  0.39831154],\n",
              "       [-0.86507827,  0.92179043],\n",
              "       [-0.89586841,  0.76787847],\n",
              "       [-0.94224564,  0.65802393],\n",
              "       [-0.98478039,  0.97322443],\n",
              "       [-0.64332788,  0.58252055],\n",
              "       [-0.68280123,  0.69448132],\n",
              "       [-0.59736861,  0.62857302],\n",
              "       [-0.78648108,  0.92370535],\n",
              "       [-0.60052047,  0.68490268],\n",
              "       [-0.84528602,  0.79593952],\n",
              "       [-0.67318968,  0.80944388],\n",
              "       [-0.60597823,  0.74478842],\n",
              "       [-0.67617005,  0.57860624],\n",
              "       [-0.77069653,  0.8178703 ],\n",
              "       [-0.27652681,  0.16743892],\n",
              "       [-0.57370386,  0.82523197],\n",
              "       [-0.64554694,  0.49246839],\n",
              "       [-0.6460682 ,  0.49394126],\n",
              "       [-0.63121056,  0.89729647],\n",
              "       [-0.75600102,  0.58300308],\n",
              "       [-0.71445442,  0.64603186],\n",
              "       [-0.77623091,  0.84248849],\n",
              "       [-0.96630712,  0.4906733 ],\n",
              "       [-0.64512233,  0.58796177],\n",
              "       [-0.36541955,  0.33616234],\n",
              "       [-0.53550974,  0.53084272],\n",
              "       [-0.33963616,  0.24323018],\n",
              "       [-0.6464327 ,  0.5154336 ],\n",
              "       [-0.86507827,  0.92179043],\n",
              "       [-0.89586841,  0.76787847]])"
            ]
          },
          "metadata": {
            "tags": []
          },
          "execution_count": 26
        }
      ]
    },
    {
      "cell_type": "code",
      "metadata": {
        "colab": {
          "base_uri": "https://localhost:8080/",
          "height": 281
        },
        "id": "67VF40wRXPJq",
        "outputId": "15574fba-c62f-4b26-ac3d-9757e1ce636c"
      },
      "source": [
        "plt.plot(X_pca[:,0],X_pca[:,1],'*k')"
      ],
      "execution_count": 28,
      "outputs": [
        {
          "output_type": "execute_result",
          "data": {
            "text/plain": [
              "[<matplotlib.lines.Line2D at 0x7f49283a6950>]"
            ]
          },
          "metadata": {
            "tags": []
          },
          "execution_count": 28
        },
        {
          "output_type": "display_data",
          "data": {
            "image/png": "[encoded data removed]",
            "text/plain": [
              "<Figure size 432x288 with 1 Axes>"
            ]
          },
          "metadata": {
            "tags": [],
            "needs_background": "light"
          }
        }
      ]
    },
    {
      "cell_type": "code",
      "metadata": {
        "colab": {
          "base_uri": "https://localhost:8080/",
          "height": 281
        },
        "id": "mF_iHRYPXW1V",
        "outputId": "f3c4e3d1-aa20-486c-96ce-624108e2a458"
      },
      "source": [
        "plt.plot(X_pca[:29,0],X_pca[:29,1],'*k')\n",
        "plt.plot(X_pca[29:60,0],X_pca[29:60,1],'*g')\n",
        "plt.plot(X_pca[60:87,0],X_pca[60:87,1],'*b')\n",
        "plt.plot(X_pca[87:119,0],X_pca[87:119,1],'*m')\n",
        "plt.plot(X_pca[119:147,0],X_pca[119:147,1],'*c')\n",
        "plt.plot(X_pca[147:177,0],X_pca[147:177,1],'*r')\n",
        "plt.plot(X_pca[177:206,0],X_pca[177:206,1],'*y')\n",
        "plt.plot(X_pca[206:239,0],X_pca[206:239,1],'pm')\n",
        "plt.plot(X_pca[239:268,0],X_pca[239:268,1],'pr')\n",
        "plt.plot(X_pca[268:300,0],X_pca[268:300,1],'pk')"
      ],
      "execution_count": 59,
      "outputs": [
        {
          "output_type": "execute_result",
          "data": {
            "text/plain": [
              "[<matplotlib.lines.Line2D at 0x7f491b092ed0>]"
            ]
          },
          "metadata": {
            "tags": []
          },
          "execution_count": 59
        },
        {
          "output_type": "display_data",
          "data": {
            "image/png": "[encoded data removed]",
            "text/plain": [
              "<Figure size 432x288 with 1 Axes>"
            ]
          },
          "metadata": {
            "tags": [],
            "needs_background": "light"
          }
        }
      ]
    }
  ]
}