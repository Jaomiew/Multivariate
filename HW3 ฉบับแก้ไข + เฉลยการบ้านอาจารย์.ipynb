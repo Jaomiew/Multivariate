{
  "nbformat": 4,
  "nbformat_minor": 0,
  "metadata": {
    "colab": {
      "name": "เฉลยการบ้านคาบ 3 .ipynb",
      "provenance": [],
      "collapsed_sections": [],
      "authorship_tag": "ABX9TyO54h6gvgKTr+7inKxpnD1G",
      "include_colab_link": true
    },
    "kernelspec": {
      "name": "python3",
      "display_name": "Python 3"
    }
  },
  "cells": [
    {
      "cell_type": "markdown",
      "metadata": {
        "id": "view-in-github",
        "colab_type": "text"
      },
      "source": [
        "<a href=\"https://colab.research.google.com/github/Jaomiew/Multivariate/blob/main/HW3%20%E0%B8%89%E0%B8%9A%E0%B8%B1%E0%B8%9A%E0%B9%81%E0%B8%81%E0%B9%89%E0%B9%84%E0%B8%82%20%2B%20%E0%B9%80%E0%B8%89%E0%B8%A5%E0%B8%A2%E0%B8%81%E0%B8%B2%E0%B8%A3%E0%B8%9A%E0%B9%89%E0%B8%B2%E0%B8%99%E0%B8%AD%E0%B8%B2%E0%B8%88%E0%B8%B2%E0%B8%A3%E0%B8%A2%E0%B9%8C.ipynb\" target=\"_parent\"><img src=\"https://colab.research.google.com/assets/colab-badge.svg\" alt=\"Open In Colab\"/></a>"
      ]
    },
    {
      "cell_type": "code",
      "metadata": {
        "id": "YFvudr1tO5S-"
      },
      "source": [
        "q1 = '12:30:15'"
      ],
      "execution_count": null,
      "outputs": []
    },
    {
      "cell_type": "code",
      "metadata": {
        "colab": {
          "base_uri": "https://localhost:8080/"
        },
        "id": "Ou3rjQMTPIvL",
        "outputId": "c2b31d68-d2df-44ea-de43-6f3984749bc8"
      },
      "source": [
        "q1_sp = q1.split(':')\r\n",
        "print(q1_sp)"
      ],
      "execution_count": null,
      "outputs": [
        {
          "output_type": "stream",
          "text": [
            "['12', '30', '15']\n"
          ],
          "name": "stdout"
        }
      ]
    },
    {
      "cell_type": "code",
      "metadata": {
        "colab": {
          "base_uri": "https://localhost:8080/"
        },
        "id": "Ywc9XbhbPZzS",
        "outputId": "0a1d3d1f-7a27-4f80-81f0-a230546c8bd6"
      },
      "source": [
        "Answer1 = int(q1_sp[0])*3600 + int(q1_sp[1])*60 + int(q1_sp[2])\r\n",
        "print(Answer1)"
      ],
      "execution_count": null,
      "outputs": [
        {
          "output_type": "stream",
          "text": [
            "45015\n"
          ],
          "name": "stdout"
        }
      ]
    },
    {
      "cell_type": "code",
      "metadata": {
        "colab": {
          "base_uri": "https://localhost:8080/"
        },
        "id": "XOJWpHhzPhVl",
        "outputId": "1c54d081-6b4d-4e69-884d-654b7e16c039"
      },
      "source": [
        "print (f'เวลา {q1} คำนวณเป็นจำนวณวินาทีได้เท่ากับ{Answer1}')"
      ],
      "execution_count": null,
      "outputs": [
        {
          "output_type": "stream",
          "text": [
            "เวลา 12:30:15 คำนวณเป็นจำนวณวินาทีได้เท่ากับ45015\n"
          ],
          "name": "stdout"
        }
      ]
    },
    {
      "cell_type": "code",
      "metadata": {
        "id": "TIv-G4WK7Flm",
        "colab": {
          "base_uri": "https://localhost:8080/"
        },
        "outputId": "a24a7bc7-e6be-42b4-bf72-6bed42643143"
      },
      "source": [
        "q1 = '12:30:15'\r\n",
        "q1_sp = q1.split(':')\r\n",
        "answer1 = int(q1_sp[0])*3600 + int(q1_sp[1])*60 + int(q1_sp[2])\r\n",
        "print(f'เวลา {q1} คำนวณเป็นจำนวนวินาทีได้เท่ากับ {answer1}')"
      ],
      "execution_count": null,
      "outputs": [
        {
          "output_type": "stream",
          "text": [
            "เวลา 12:30:15 คำนวณเป็นจำนวนวินาทีได้เท่ากับ 45015\n"
          ],
          "name": "stdout"
        }
      ]
    },
    {
      "cell_type": "code",
      "metadata": {
        "id": "apVhMB7s8IcN",
        "colab": {
          "base_uri": "https://localhost:8080/"
        },
        "outputId": "f2ce1e9c-341a-4613-d82a-c21328fd7378"
      },
      "source": [
        "q2 = '13:41:07'\r\n",
        "q2_sp = q2.split(':')\r\n",
        "answer2 = int(q2_sp[0])*3600 + int(q2_sp[1])*60 + int(q2_sp[2])\r\n",
        "print(f'เวลา {q2} คำนวณเป็นจำนวนวินาทีได้เท่ากับ {answer2}')"
      ],
      "execution_count": null,
      "outputs": [
        {
          "output_type": "stream",
          "text": [
            "เวลา 13:41:07 คำนวณเป็นจำนวนวินาทีได้เท่ากับ 49267\n"
          ],
          "name": "stdout"
        }
      ]
    },
    {
      "cell_type": "code",
      "metadata": {
        "id": "j_G1iVT48_fd",
        "colab": {
          "base_uri": "https://localhost:8080/"
        },
        "outputId": "212880dd-62ae-44c5-9ebd-72bc55f6cc41"
      },
      "source": [
        "q3 = '12:53:15'\r\n",
        "q3_sp = q3.split(':')\r\n",
        "answer3 = int(q3_sp[0])*3600 + int(q3_sp[1])*60 + int(q3_sp[2])\r\n",
        "print(f'เวลา {q3} คำนวณเป็นจำนวนวินาทีได้เท่ากับ {answer3}')"
      ],
      "execution_count": null,
      "outputs": [
        {
          "output_type": "stream",
          "text": [
            "เวลา 12:53:15 คำนวณเป็นจำนวนวินาทีได้เท่ากับ 46395\n"
          ],
          "name": "stdout"
        }
      ]
    },
    {
      "cell_type": "code",
      "metadata": {
        "id": "9KMaWBmW9R6q",
        "colab": {
          "base_uri": "https://localhost:8080/"
        },
        "outputId": "1abc115f-4141-4e79-e048-b0a033f15c3f"
      },
      "source": [
        "q4 = '00:59:25'\r\n",
        "q4_sp = q4.split(':')\r\n",
        "answer4 = int(q4_sp[0])*3600 + int(q4_sp[1])*60 + int(q4_sp[2])\r\n",
        "print(f'เวลา {q4} คำนวณเป็นจำนวนวินาทีได้เท่ากับ {answer4}')"
      ],
      "execution_count": null,
      "outputs": [
        {
          "output_type": "stream",
          "text": [
            "เวลา 00:59:25 คำนวณเป็นจำนวนวินาทีได้เท่ากับ 3565\n"
          ],
          "name": "stdout"
        }
      ]
    },
    {
      "cell_type": "code",
      "metadata": {
        "id": "7iWVXuRb9gZL",
        "colab": {
          "base_uri": "https://localhost:8080/"
        },
        "outputId": "61607272-6805-4af2-bb21-c1e667cfcec0"
      },
      "source": [
        "q5 = '11:11:11'\r\n",
        "q5_sp = q5.split(':')\r\n",
        "answer5 = int(q5_sp[0])*3600 + int(q5_sp[1])*60 + int(q5_sp[2])\r\n",
        "print(f'เวลา {q5} คำนวณเป็นจำนวนวินาทีได้เท่ากับ {answer5}')"
      ],
      "execution_count": null,
      "outputs": [
        {
          "output_type": "stream",
          "text": [
            "เวลา 11:11:11 คำนวณเป็นจำนวนวินาทีได้เท่ากับ 40271\n"
          ],
          "name": "stdout"
        }
      ]
    },
    {
      "cell_type": "code",
      "metadata": {
        "id": "B-Q0cJGv9fF7",
        "colab": {
          "base_uri": "https://localhost:8080/"
        },
        "outputId": "77969078-7e85-4c57-ef48-d08a20ae42dc"
      },
      "source": [
        "q6 = '16:06:09'\r\n",
        "q6_sp = q6.split(':')\r\n",
        "answer6 = int(q6_sp[0])*3600 + int(q6_sp[1])*60 + int(q6_sp[2])\r\n",
        "print(f'เวลา {q6} คำนวณเป็นจำนวนวินาทีได้เท่ากับ {answer6}')"
      ],
      "execution_count": null,
      "outputs": [
        {
          "output_type": "stream",
          "text": [
            "เวลา 16:06:09 คำนวณเป็นจำนวนวินาทีได้เท่ากับ 57969\n"
          ],
          "name": "stdout"
        }
      ]
    },
    {
      "cell_type": "code",
      "metadata": {
        "id": "9NxNw6-998wr",
        "colab": {
          "base_uri": "https://localhost:8080/"
        },
        "outputId": "dfbf59a7-f0d2-4dbf-dba5-cdbeb3189e47"
      },
      "source": [
        "q7 = '21:12:30'\r\n",
        "q7_sp = q7.split(':')\r\n",
        "answer7 = int(q7_sp[0])*3600 + int(q7_sp[1])*60 + int(q7_sp[2])\r\n",
        "print(f'เวลา {q7} คำนวณเป็นจำนวนวินาทีได้เท่ากับ {answer7}')"
      ],
      "execution_count": null,
      "outputs": [
        {
          "output_type": "stream",
          "text": [
            "เวลา 21:12:30 คำนวณเป็นจำนวนวินาทีได้เท่ากับ 76350\n"
          ],
          "name": "stdout"
        }
      ]
    },
    {
      "cell_type": "code",
      "metadata": {
        "id": "uUxY9D3o-LIT",
        "colab": {
          "base_uri": "https://localhost:8080/"
        },
        "outputId": "b69bad2f-9769-4b31-a321-38b21f6dd301"
      },
      "source": [
        "q8 = '10:06:15'\r\n",
        "q8_sp = q8.split(':')\r\n",
        "answer8 = int(q8_sp[0])*3600 + int(q8_sp[1])*60 + int(q8_sp[2])\r\n",
        "print(f'เวลา {q8} คำนวณเป็นจำนวนวินาทีได้เท่ากับ {answer8}')"
      ],
      "execution_count": null,
      "outputs": [
        {
          "output_type": "stream",
          "text": [
            "เวลา 10:06:15 คำนวณเป็นจำนวนวินาทีได้เท่ากับ 36375\n"
          ],
          "name": "stdout"
        }
      ]
    }
  ]
}